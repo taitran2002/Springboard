{
 "cells": [
  {
   "cell_type": "markdown",
   "metadata": {
    "colab_type": "text",
    "id": "Tia3MP1SJpgj"
   },
   "source": [
    "# Springboard Data Science Career Track Unit 4 Challenge - Tier 3 Complete\n",
    "\n",
    "## Objectives\n",
    "Hey! Great job getting through those challenging DataCamp courses. You're learning a lot in a short span of time. \n",
    "\n",
    "In this notebook, you're going to apply the skills you've been learning, bridging the gap between the controlled environment of DataCamp and the *slightly* messier work that data scientists do with actual datasets!\n",
    "\n",
    "Here’s the mystery we’re going to solve: ***which boroughs of London have seen the greatest increase in housing prices, on average, over the last two decades?***\n",
    "\n",
    "\n",
    "A borough is just a fancy word for district. You may be familiar with the five boroughs of New York… well, there are 32 boroughs within Greater London [(here's some info for the curious)](https://en.wikipedia.org/wiki/London_boroughs). Some of them are more desirable areas to live in, and the data will reflect that with a greater rise in housing prices.\n",
    "\n",
    "***This is the Tier 3 notebook, which means it's not filled in at all: we'll just give you the skeleton of a project, the brief and the data. It's up to you to play around with it and see what you can find out! Good luck! If you struggle, feel free to look at easier tiers for help; but try to dip in and out of them, as the more independent work you do, the better it is for your learning!***\n",
    "\n",
    "This challenge will make use of only what you learned in the following DataCamp courses: \n",
    "- Prework courses (Introduction to Python for Data Science, Intermediate Python for Data Science)\n",
    "- Data Types for Data Science\n",
    "- Python Data Science Toolbox (Part One) \n",
    "- pandas Foundations\n",
    "- Manipulating DataFrames with pandas\n",
    "- Merging DataFrames with pandas\n",
    "\n",
    "Of the tools, techniques and concepts in the above DataCamp courses, this challenge should require the application of the following: \n",
    "- **pandas**\n",
    "    - **data ingestion and inspection** (pandas Foundations, Module One) \n",
    "    - **exploratory data analysis** (pandas Foundations, Module Two)\n",
    "    - **tidying and cleaning** (Manipulating DataFrames with pandas, Module Three) \n",
    "    - **transforming DataFrames** (Manipulating DataFrames with pandas, Module One)\n",
    "    - **subsetting DataFrames with lists** (Manipulating DataFrames with pandas, Module One) \n",
    "    - **filtering DataFrames** (Manipulating DataFrames with pandas, Module One) \n",
    "    - **grouping data** (Manipulating DataFrames with pandas, Module Four) \n",
    "    - **melting data** (Manipulating DataFrames with pandas, Module Three) \n",
    "    - **advanced indexing** (Manipulating DataFrames with pandas, Module Four) \n",
    "- **matplotlib** (Intermediate Python for Data Science, Module One)\n",
    "- **fundamental data types** (Data Types for Data Science, Module One) \n",
    "- **dictionaries** (Intermediate Python for Data Science, Module Two)\n",
    "- **handling dates and times** (Data Types for Data Science, Module Four)\n",
    "- **function definition** (Python Data Science Toolbox - Part One, Module One)\n",
    "- **default arguments, variable length, and scope** (Python Data Science Toolbox - Part One, Module Two) \n",
    "- **lambda functions and error handling** (Python Data Science Toolbox - Part One, Module Four) "
   ]
  },
  {
   "cell_type": "markdown",
   "metadata": {
    "colab_type": "text",
    "id": "Ipgd2nV8Jpgl"
   },
   "source": [
    "## The Data Science Pipeline\n",
    "\n",
    "This is Tier Three, so we'll get you started. But after that, it's all in your hands! When you feel done with your investigations, look back over what you've accomplished, and prepare a quick presentation of your findings for the next mentor meeting. \n",
    "\n",
    "Data Science is magical. In this case study, you'll get to apply some complex machine learning algorithms. But as  [David Spiegelhalter](https://www.youtube.com/watch?v=oUs1uvsz0Ok) reminds us, there is no substitute for simply **taking a really, really good look at the data.** Sometimes, this is all we need to answer our question.\n",
    "\n",
    "Data Science projects generally adhere to the four stages of Data Science Pipeline:\n",
    "1. Sourcing and loading \n",
    "2. Cleaning, transforming, and visualizing \n",
    "3. Modeling \n",
    "4. Evaluating and concluding \n"
   ]
  },
  {
   "cell_type": "markdown",
   "metadata": {
    "colab_type": "text",
    "id": "zswDqbefJpgm"
   },
   "source": [
    "### 1. Sourcing and Loading \n",
    "\n",
    "Any Data Science project kicks off by importing  ***pandas***. The documentation of this wonderful library can be found [here](https://pandas.pydata.org/). As you've seen, pandas is conveniently connected to the [Numpy](http://www.numpy.org/) and [Matplotlib](https://matplotlib.org/) libraries. \n",
    "\n",
    "***Hint:*** This part of the data science pipeline will test those skills you acquired in the pandas Foundations course, Module One. "
   ]
  },
  {
   "cell_type": "markdown",
   "metadata": {
    "colab_type": "text",
    "id": "aEau5nEvJpgm"
   },
   "source": [
    "#### 1.1. Importing Libraries"
   ]
  },
  {
   "cell_type": "code",
   "execution_count": 1,
   "metadata": {
    "colab": {},
    "colab_type": "code",
    "id": "7Bt_Q_oPJpgn"
   },
   "outputs": [],
   "source": [
    "# Let's import the pandas, numpy libraries as pd, and np respectively. \n",
    "import pandas as pd\n",
    "import numpy as np\n",
    "\n",
    "# Load the pyplot collection of functions from matplotlib, as plt \n",
    "import matplotlib.pyplot as plt"
   ]
  },
  {
   "cell_type": "markdown",
   "metadata": {
    "colab_type": "text",
    "id": "koUrawxsJpgq"
   },
   "source": [
    "#### 1.2.  Loading the data\n",
    "Your data comes from the [London Datastore](https://data.london.gov.uk/): a free, open-source data-sharing portal for London-oriented datasets. "
   ]
  },
  {
   "cell_type": "code",
   "execution_count": 2,
   "metadata": {
    "colab": {},
    "colab_type": "code",
    "id": "AiLiD4v3Jpgr"
   },
   "outputs": [],
   "source": [
    "# First, make a variable called url_LondonHousePrices, and assign it the following link, enclosed in quotation-marks as a string:\n",
    "# https://data.london.gov.uk/download/uk-house-price-index/70ac0766-8902-4eb5-aab5-01951aaed773/UK%20House%20price%20index.xls\n",
    "\n",
    "url_LondonHousePrices = \"https://data.london.gov.uk/download/uk-house-price-index/70ac0766-8902-4eb5-aab5-01951aaed773/UK%20House%20price%20index.xls\"\n",
    "\n",
    "# The dataset we're interested in contains the Average prices of the houses, and is actually on a particular sheet of the Excel file. \n",
    "# As a result, we need to specify the sheet name in the read_excel() method.\n",
    "# Put this data into a variable called properties.  \n",
    "properties = pd.read_excel(url_LondonHousePrices, sheet_name='Average price', index_col= None)"
   ]
  },
  {
   "cell_type": "markdown",
   "metadata": {
    "colab_type": "text",
    "id": "POukEJXgJpgu"
   },
   "source": [
    "### 2. Cleaning, transforming, and visualizing\n",
    "This second stage is arguably the most important part of any Data Science project. The first thing to do is take a proper look at the data. Cleaning forms the majority of this stage, and can be done both before or after Transformation.\n",
    "\n",
    "The end goal of data cleaning is to have tidy data. When data is tidy: \n",
    "\n",
    "1. Each variable has a column.\n",
    "2. Each observation forms a row.\n",
    "\n",
    "Keep the end goal in mind as you move through this process, every step will take you closer. \n",
    "\n",
    "\n",
    "\n",
    "***Hint:*** This part of the data science pipeline should test those skills you acquired in: \n",
    "- Intermediate Python for data science, all modules.\n",
    "- pandas Foundations, all modules. \n",
    "- Manipulating DataFrames with pandas, all modules.\n",
    "- Data Types for Data Science, Module Four.\n",
    "- Python Data Science Toolbox - Part One, all modules"
   ]
  },
  {
   "cell_type": "markdown",
   "metadata": {
    "colab_type": "text",
    "id": "Te0Q548tnzZa"
   },
   "source": [
    "**2.1. Exploring your data** \n",
    "\n",
    "Think about your pandas functions for checking out a dataframe. "
   ]
  },
  {
   "cell_type": "code",
   "execution_count": 3,
   "metadata": {
    "colab": {},
    "colab_type": "code",
    "id": "Rxirxw_qoAJa"
   },
   "outputs": [
    {
     "name": "stdout",
     "output_type": "stream",
     "text": [
      "  Unnamed: 0 City of London Barking & Dagenham       Barnet       Bexley  \\\n",
      "0        NaT      E09000001          E09000002    E09000003    E09000004   \n",
      "1 1995-01-01    91448.98487         50460.2266  93284.51832  64958.09036   \n",
      "2 1995-02-01    82202.77314        51085.77983  93190.16963  64787.92069   \n",
      "3 1995-03-01    79120.70256        51268.96956  92247.52435  64367.49344   \n",
      "4 1995-04-01    77101.20804        53133.50526  90762.87492  64277.66881   \n",
      "\n",
      "         Brent      Bromley       Camden      Croydon       Ealing  ...  \\\n",
      "0    E09000005    E09000006    E09000007    E09000008    E09000009  ...   \n",
      "1  71306.56698  81671.47692  120932.8881  69158.16225  79885.89069  ...   \n",
      "2  72022.26197  81657.55944  119508.8622  68951.09542  80897.06551  ...   \n",
      "3  72015.76274  81449.31143  120282.2131  68712.44341  81379.86288  ...   \n",
      "4  72965.63094  81124.41227   120097.899  68610.04641  82188.90498  ...   \n",
      "\n",
      "    NORTH WEST YORKS & THE HUMBER EAST MIDLANDS WEST MIDLANDS EAST OF ENGLAND  \\\n",
      "0    E12000002          E12000003     E12000004     E12000005       E12000006   \n",
      "1  43958.48001        44803.42878   45544.52227   48527.52339      56701.5961   \n",
      "2  43925.42289        44528.80721   46051.57066   49341.29029     56593.59475   \n",
      "3   44434.8681        45200.46775   45383.82395   49442.17973     56171.18278   \n",
      "4   44267.7796        45614.34341   46124.23045   49455.93299     56567.89582   \n",
      "\n",
      "        LONDON   SOUTH EAST   SOUTH WEST Unnamed: 47      England  \n",
      "0    E12000007    E12000008    E12000009         NaN    E92000001  \n",
      "1  74435.76052  64018.87894   54705.1579         NaN  53202.77128  \n",
      "2  72777.93709  63715.02399  54356.14843         NaN   53096.1549  \n",
      "3  73896.84204  64113.60858  53583.07667         NaN   53201.2843  \n",
      "4  74455.28754  64623.22395  54786.01938         NaN   53590.8548  \n",
      "\n",
      "[5 rows x 49 columns]\n",
      "\n",
      " (322, 49)\n"
     ]
    }
   ],
   "source": [
    "print(properties.head())\n",
    "print(\"\\n\", properties.shape) "
   ]
  },
  {
   "cell_type": "markdown",
   "metadata": {
    "colab_type": "text",
    "id": "tE9Sqt9-oAta"
   },
   "source": [
    "**2.2. Cleaning the data**\n",
    "\n",
    "You might find you need to transpose your dataframe, check out what its row indexes are, and reset the index. You  also might find you need to assign the values of the first row to your column headings  . (Hint: recall the .columns feature of DataFrames, as well as the iloc[] method).\n",
    "\n",
    "Don't be afraid to use StackOverflow for help  with this."
   ]
  },
  {
   "cell_type": "code",
   "execution_count": 4,
   "metadata": {
    "colab": {},
    "colab_type": "code",
    "id": "cdAu1A3YoH_r"
   },
   "outputs": [
    {
     "name": "stdout",
     "output_type": "stream",
     "text": [
      "Index(['Unnamed: 0', 'City of London', 'Barking & Dagenham', 'Barnet',\n",
      "       'Bexley', 'Brent', 'Bromley', 'Camden', 'Croydon', 'Ealing', 'Enfield',\n",
      "       'Greenwich', 'Hackney', 'Hammersmith & Fulham', 'Haringey', 'Harrow',\n",
      "       'Havering', 'Hillingdon', 'Hounslow', 'Islington',\n",
      "       'Kensington & Chelsea', 'Kingston upon Thames', 'Lambeth', 'Lewisham',\n",
      "       'Merton', 'Newham', 'Redbridge', 'Richmond upon Thames', 'Southwark',\n",
      "       'Sutton', 'Tower Hamlets', 'Waltham Forest', 'Wandsworth',\n",
      "       'Westminster', 'Unnamed: 34', 'Inner London', 'Outer London',\n",
      "       'Unnamed: 37', 'NORTH EAST', 'NORTH WEST', 'YORKS & THE HUMBER',\n",
      "       'EAST MIDLANDS', 'WEST MIDLANDS', 'EAST OF ENGLAND', 'LONDON',\n",
      "       'SOUTH EAST', 'SOUTH WEST', 'Unnamed: 47', 'England'],\n",
      "      dtype='object')\n",
      "\n",
      "                 index          0                    1                    2  \\\n",
      "0          Unnamed: 0        NaT  1995-01-01 00:00:00  1995-02-01 00:00:00   \n",
      "1      City of London  E09000001          91448.98487          82202.77314   \n",
      "2  Barking & Dagenham  E09000002           50460.2266          51085.77983   \n",
      "3              Barnet  E09000003          93284.51832          93190.16963   \n",
      "4              Bexley  E09000004          64958.09036          64787.92069   \n",
      "\n",
      "                     3                    4                    5  \\\n",
      "0  1995-03-01 00:00:00  1995-04-01 00:00:00  1995-05-01 00:00:00   \n",
      "1          79120.70256          77101.20804          84409.14932   \n",
      "2          51268.96956          53133.50526          53042.24852   \n",
      "3          92247.52435          90762.87492          90258.00033   \n",
      "4          64367.49344          64277.66881          63997.13588   \n",
      "\n",
      "                     6                    7                    8  ...  \\\n",
      "0  1995-06-01 00:00:00  1995-07-01 00:00:00  1995-08-01 00:00:00  ...   \n",
      "1          94900.51244          110128.0423          112329.4376  ...   \n",
      "2          53700.34831          52113.12157          52232.19868  ...   \n",
      "3          90107.23471          91441.24768          92361.31512  ...   \n",
      "4          64252.32335          63722.70055          64432.60005  ...   \n",
      "\n",
      "                   312                  313                  314  \\\n",
      "0  2020-12-01 00:00:00  2021-01-01 00:00:00  2021-02-01 00:00:00   \n",
      "1          801999.0466          754194.0982          725011.1264   \n",
      "2          309560.1023          312470.4977          315749.3442   \n",
      "3          532528.0926          538683.8133          537171.1625   \n",
      "4          352260.8385          355756.7322          359323.8616   \n",
      "\n",
      "                   315                  316                  317  \\\n",
      "0  2021-03-01 00:00:00  2021-04-01 00:00:00  2021-05-01 00:00:00   \n",
      "1          719703.4989          728496.7198          720954.3631   \n",
      "2          312381.5975          313131.2516          312430.6526   \n",
      "3          537972.6322           530778.403          533319.3495   \n",
      "4          361782.2198          362053.2197          361919.1777   \n",
      "\n",
      "                   318                  319                  320  \\\n",
      "0  2021-06-01 00:00:00  2021-07-01 00:00:00  2021-08-01 00:00:00   \n",
      "1          729878.6878                    -                    -   \n",
      "2          317234.7354          319549.9296          322496.3752   \n",
      "3          541296.7827          536012.6687          544558.8072   \n",
      "4          364464.1865          366451.6388          373547.2951   \n",
      "\n",
      "                   321  \n",
      "0  2021-09-01 00:00:00  \n",
      "1                    -  \n",
      "2          329287.2922  \n",
      "3           533093.293  \n",
      "4           375156.155  \n",
      "\n",
      "[5 rows x 323 columns]\n",
      "\n",
      " Index([       'Unnamed: 0',                 NaT, 1995-01-01 00:00:00,\n",
      "       1995-02-01 00:00:00, 1995-03-01 00:00:00, 1995-04-01 00:00:00,\n",
      "       1995-05-01 00:00:00, 1995-06-01 00:00:00, 1995-07-01 00:00:00,\n",
      "       1995-08-01 00:00:00,\n",
      "       ...\n",
      "       2020-12-01 00:00:00, 2021-01-01 00:00:00, 2021-02-01 00:00:00,\n",
      "       2021-03-01 00:00:00, 2021-04-01 00:00:00, 2021-05-01 00:00:00,\n",
      "       2021-06-01 00:00:00, 2021-07-01 00:00:00, 2021-08-01 00:00:00,\n",
      "       2021-09-01 00:00:00],\n",
      "      dtype='object', name=0, length=323)\n",
      "\n",
      " 0          Unnamed: 0        NaN 1995-01-01 00:00:00 1995-02-01 00:00:00  \\\n",
      "1      City of London  E09000001         91448.98487         82202.77314   \n",
      "2  Barking & Dagenham  E09000002          50460.2266         51085.77983   \n",
      "3              Barnet  E09000003         93284.51832         93190.16963   \n",
      "4              Bexley  E09000004         64958.09036         64787.92069   \n",
      "5               Brent  E09000005         71306.56698         72022.26197   \n",
      "\n",
      "0 1995-03-01 00:00:00 1995-04-01 00:00:00 1995-05-01 00:00:00  \\\n",
      "1         79120.70256         77101.20804         84409.14932   \n",
      "2         51268.96956         53133.50526         53042.24852   \n",
      "3         92247.52435         90762.87492         90258.00033   \n",
      "4         64367.49344         64277.66881         63997.13588   \n",
      "5         72015.76274         72965.63094         73704.04743   \n",
      "\n",
      "0 1995-06-01 00:00:00 1995-07-01 00:00:00 1995-08-01 00:00:00  ...  \\\n",
      "1         94900.51244         110128.0423         112329.4376  ...   \n",
      "2         53700.34831         52113.12157         52232.19868  ...   \n",
      "3         90107.23471         91441.24768         92361.31512  ...   \n",
      "4         64252.32335         63722.70055         64432.60005  ...   \n",
      "5         74310.48167         74127.03788          73547.0411  ...   \n",
      "\n",
      "0 2020-12-01 00:00:00 2021-01-01 00:00:00 2021-02-01 00:00:00  \\\n",
      "1         801999.0466         754194.0982         725011.1264   \n",
      "2         309560.1023         312470.4977         315749.3442   \n",
      "3         532528.0926         538683.8133         537171.1625   \n",
      "4         352260.8385         355756.7322         359323.8616   \n",
      "5         495066.6459         514525.2307         516500.5723   \n",
      "\n",
      "0 2021-03-01 00:00:00 2021-04-01 00:00:00 2021-05-01 00:00:00  \\\n",
      "1         719703.4989         728496.7198         720954.3631   \n",
      "2         312381.5975         313131.2516         312430.6526   \n",
      "3         537972.6322          530778.403         533319.3495   \n",
      "4         361782.2198         362053.2197         361919.1777   \n",
      "5         520406.5733         502074.0621         506917.3065   \n",
      "\n",
      "0 2021-06-01 00:00:00 2021-07-01 00:00:00 2021-08-01 00:00:00  \\\n",
      "1         729878.6878                   -                   -   \n",
      "2         317234.7354         319549.9296         322496.3752   \n",
      "3         541296.7827         536012.6687         544558.8072   \n",
      "4         364464.1865         366451.6388         373547.2951   \n",
      "5         514055.8987         528684.0547         533696.3904   \n",
      "\n",
      "0 2021-09-01 00:00:00  \n",
      "1                   -  \n",
      "2         329287.2922  \n",
      "3          533093.293  \n",
      "4          375156.155  \n",
      "5         542095.3343  \n",
      "\n",
      "[5 rows x 323 columns]\n"
     ]
    }
   ],
   "source": [
    "prop_transposed = properties.transpose() #transpose data (mirror it)\n",
    "print(prop_transposed.index) #check row indexes\n",
    "\n",
    "prop_transposed = prop_transposed.reset_index() #resets index\n",
    "print(\"\\n\", prop_transposed.head())\n",
    "prop_transposed.columns= prop_transposed.iloc[0] #set row with dates as column names\n",
    "prop_transposed=prop_transposed.drop(0) #drop first row of old indexes\n",
    "print(\"\\n\", prop_transposed.columns) #prints list of column names\n",
    "print(\"\\n\", prop_transposed.head())   "
   ]
  },
  {
   "cell_type": "markdown",
   "metadata": {
    "colab_type": "text",
    "id": "o1uLbJAsoIjK"
   },
   "source": [
    "**2.3. Cleaning the data (part 2)**\n",
    "\n",
    "You might we have to **rename** a couple columns. How do you do this? The clue's pretty bold..."
   ]
  },
  {
   "cell_type": "code",
   "execution_count": 5,
   "metadata": {
    "colab": {},
    "colab_type": "code",
    "id": "GKkmn1AnoVZS"
   },
   "outputs": [
    {
     "name": "stdout",
     "output_type": "stream",
     "text": [
      "0      London_Borough         ID 1995-01-01 00:00:00 1995-02-01 00:00:00  \\\n",
      "1      City of London  E09000001         91448.98487         82202.77314   \n",
      "2  Barking & Dagenham  E09000002          50460.2266         51085.77983   \n",
      "3              Barnet  E09000003         93284.51832         93190.16963   \n",
      "4              Bexley  E09000004         64958.09036         64787.92069   \n",
      "5               Brent  E09000005         71306.56698         72022.26197   \n",
      "\n",
      "0 1995-03-01 00:00:00 1995-04-01 00:00:00 1995-05-01 00:00:00  \\\n",
      "1         79120.70256         77101.20804         84409.14932   \n",
      "2         51268.96956         53133.50526         53042.24852   \n",
      "3         92247.52435         90762.87492         90258.00033   \n",
      "4         64367.49344         64277.66881         63997.13588   \n",
      "5         72015.76274         72965.63094         73704.04743   \n",
      "\n",
      "0 1995-06-01 00:00:00 1995-07-01 00:00:00 1995-08-01 00:00:00  ...  \\\n",
      "1         94900.51244         110128.0423         112329.4376  ...   \n",
      "2         53700.34831         52113.12157         52232.19868  ...   \n",
      "3         90107.23471         91441.24768         92361.31512  ...   \n",
      "4         64252.32335         63722.70055         64432.60005  ...   \n",
      "5         74310.48167         74127.03788          73547.0411  ...   \n",
      "\n",
      "0 2020-12-01 00:00:00 2021-01-01 00:00:00 2021-02-01 00:00:00  \\\n",
      "1         801999.0466         754194.0982         725011.1264   \n",
      "2         309560.1023         312470.4977         315749.3442   \n",
      "3         532528.0926         538683.8133         537171.1625   \n",
      "4         352260.8385         355756.7322         359323.8616   \n",
      "5         495066.6459         514525.2307         516500.5723   \n",
      "\n",
      "0 2021-03-01 00:00:00 2021-04-01 00:00:00 2021-05-01 00:00:00  \\\n",
      "1         719703.4989         728496.7198         720954.3631   \n",
      "2         312381.5975         313131.2516         312430.6526   \n",
      "3         537972.6322          530778.403         533319.3495   \n",
      "4         361782.2198         362053.2197         361919.1777   \n",
      "5         520406.5733         502074.0621         506917.3065   \n",
      "\n",
      "0 2021-06-01 00:00:00 2021-07-01 00:00:00 2021-08-01 00:00:00  \\\n",
      "1         729878.6878                   -                   -   \n",
      "2         317234.7354         319549.9296         322496.3752   \n",
      "3         541296.7827         536012.6687         544558.8072   \n",
      "4         364464.1865         366451.6388         373547.2951   \n",
      "5         514055.8987         528684.0547         533696.3904   \n",
      "\n",
      "0 2021-09-01 00:00:00  \n",
      "1                   -  \n",
      "2         329287.2922  \n",
      "3          533093.293  \n",
      "4          375156.155  \n",
      "5         542095.3343  \n",
      "\n",
      "[5 rows x 323 columns]\n"
     ]
    }
   ],
   "source": [
    "prop_renamed = prop_transposed.rename( columns = {'Unnamed: 0':'London_Borough', pd.NaT:'ID'}) #renames column names, pd.NaT to identify empty column name\n",
    "print(prop_renamed.head())"
   ]
  },
  {
   "cell_type": "markdown",
   "metadata": {
    "colab_type": "text",
    "id": "jy8BzXHmoWEw"
   },
   "source": [
    "**2.4.Transforming the data**\n",
    "\n",
    "Remember what Wes McKinney said about tidy data? \n",
    "\n",
    "You might need to **melt** your DataFrame here. "
   ]
  },
  {
   "cell_type": "code",
   "execution_count": 6,
   "metadata": {
    "colab": {},
    "colab_type": "code",
    "id": "S2wM0qLuo2Zt"
   },
   "outputs": [
    {
     "name": "stdout",
     "output_type": "stream",
     "text": [
      "           London_Borough         ID       Date      Average\n",
      "0          City of London  E09000001 1995-01-01  91448.98487\n",
      "1      Barking & Dagenham  E09000002 1995-01-01   50460.2266\n",
      "2                  Barnet  E09000003 1995-01-01  93284.51832\n",
      "3                  Bexley  E09000004 1995-01-01  64958.09036\n",
      "4                   Brent  E09000005 1995-01-01  71306.56698\n",
      "...                   ...        ...        ...          ...\n",
      "15403              LONDON  E12000007 2021-09-01  507253.0352\n",
      "15404          SOUTH EAST  E12000008 2021-09-01  370886.2724\n",
      "15405          SOUTH WEST  E12000009 2021-09-01  301327.0222\n",
      "15406         Unnamed: 47        NaN 2021-09-01          NaN\n",
      "15407             England  E92000001 2021-09-01  287895.4003\n",
      "\n",
      "[15408 rows x 4 columns]\n"
     ]
    }
   ],
   "source": [
    "prop_melt = prop_renamed.melt(id_vars = ['London_Borough', 'ID'], var_name= 'Date', value_name= 'Average') #melts data, all dates go under Date column and the values go under the 'Average' column\n",
    "\n",
    "print(prop_melt)"
   ]
  },
  {
   "cell_type": "markdown",
   "metadata": {
    "colab_type": "text",
    "id": "7kIsgAo7o3mf"
   },
   "source": [
    "Remember to make sure your column data types are all correct. Average prices, for example, should be floating point numbers... "
   ]
  },
  {
   "cell_type": "code",
   "execution_count": 7,
   "metadata": {
    "colab": {},
    "colab_type": "code",
    "id": "ZcR4IHbcpOaq"
   },
   "outputs": [
    {
     "name": "stdout",
     "output_type": "stream",
     "text": [
      "London_Borough            object\n",
      "ID                        object\n",
      "Date              datetime64[ns]\n",
      "Average                   object\n",
      "dtype: object\n"
     ]
    }
   ],
   "source": [
    "print(prop_melt.dtypes)   #checks data type for columns in DataFrame"
   ]
  },
  {
   "cell_type": "code",
   "execution_count": 8,
   "metadata": {},
   "outputs": [
    {
     "name": "stdout",
     "output_type": "stream",
     "text": [
      "London_Borough            object\n",
      "ID                        object\n",
      "Date              datetime64[ns]\n",
      "Average                  float64\n",
      "dtype: object\n"
     ]
    }
   ],
   "source": [
    "prop_melt['Average'] = pd.to_numeric(prop_melt['Average'], errors='coerce')   #changes 'Average' column to a float type\n",
    "\n",
    "print(prop_melt.dtypes)   #checks data type to make sure it worked"
   ]
  },
  {
   "cell_type": "markdown",
   "metadata": {
    "colab_type": "text",
    "id": "knLUXHLypOtw"
   },
   "source": [
    "**2.5. Cleaning the data (part 3)**\n",
    "\n",
    "Do we have an equal number of observations in the ID, Average Price, Month, and London Borough columns? Remember that there are only 32 London Boroughs. How many entries do you have in that column? \n",
    "\n",
    "Check out the contents of the London Borough column, and if you find null values, get rid of them however you see fit. "
   ]
  },
  {
   "cell_type": "code",
   "execution_count": 9,
   "metadata": {
    "colab": {},
    "colab_type": "code",
    "id": "BnvTW5a3p0fC"
   },
   "outputs": [
    {
     "name": "stdout",
     "output_type": "stream",
     "text": [
      "['City of London' 'Barking & Dagenham' 'Barnet' 'Bexley' 'Brent' 'Bromley'\n",
      " 'Camden' 'Croydon' 'Ealing' 'Enfield' 'Greenwich' 'Hackney'\n",
      " 'Hammersmith & Fulham' 'Haringey' 'Harrow' 'Havering' 'Hillingdon'\n",
      " 'Hounslow' 'Islington' 'Kensington & Chelsea' 'Kingston upon Thames'\n",
      " 'Lambeth' 'Lewisham' 'Merton' 'Newham' 'Redbridge' 'Richmond upon Thames'\n",
      " 'Southwark' 'Sutton' 'Tower Hamlets' 'Waltham Forest' 'Wandsworth'\n",
      " 'Westminster' 'Unnamed: 34' 'Inner London' 'Outer London' 'Unnamed: 37'\n",
      " 'NORTH EAST' 'NORTH WEST' 'YORKS & THE HUMBER' 'EAST MIDLANDS'\n",
      " 'WEST MIDLANDS' 'EAST OF ENGLAND' 'LONDON' 'SOUTH EAST' 'SOUTH WEST'\n",
      " 'Unnamed: 47' 'England']\n",
      "(15408, 4)\n"
     ]
    }
   ],
   "source": [
    "print(prop_melt['London_Borough'].unique())   #All unique borough values\n",
    "print(prop_melt.shape)    #shows that we have 15408 rows"
   ]
  },
  {
   "cell_type": "code",
   "execution_count": 10,
   "metadata": {},
   "outputs": [],
   "source": [
    "\n",
    "Borough_List= prop_melt['London_Borough'].unique()[0:33]    #sliced list of boroughs\n",
    "cleaned_prop = prop_melt[prop_melt['London_Borough'].isin(Borough_List)] #subset DataFrame for only columns containing Borough information\n"
   ]
  },
  {
   "cell_type": "code",
   "execution_count": 11,
   "metadata": {},
   "outputs": [
    {
     "name": "stdout",
     "output_type": "stream",
     "text": [
      "\n",
      " (10593, 4)\n",
      "       London_Borough         ID       Date      Average\n",
      "0      City of London  E09000001 1995-01-01  91448.98487\n",
      "1  Barking & Dagenham  E09000002 1995-01-01  50460.22660\n",
      "2              Barnet  E09000003 1995-01-01  93284.51832\n",
      "3              Bexley  E09000004 1995-01-01  64958.09036\n",
      "4               Brent  E09000005 1995-01-01  71306.56698\n",
      "London_Borough    0\n",
      "ID                0\n",
      "Date              0\n",
      "Average           3\n",
      "dtype: int64\n",
      "\n",
      "       London_Borough         ID       Date      Average\n",
      "0      City of London  E09000001 1995-01-01  91448.98487\n",
      "1  Barking & Dagenham  E09000002 1995-01-01  50460.22660\n",
      "2              Barnet  E09000003 1995-01-01  93284.51832\n",
      "3              Bexley  E09000004 1995-01-01  64958.09036\n",
      "4               Brent  E09000005 1995-01-01  71306.56698\n",
      "(10590, 4)\n"
     ]
    }
   ],
   "source": [
    "print(\"\\n\", cleaned_prop.shape)\n",
    "print(cleaned_prop.head())\n",
    "\n",
    "print(cleaned_prop.isna().sum()) #check how many empty values per column\n",
    "final_df = cleaned_prop[cleaned_prop['Average'].notna()]    #subsets data to cut out rows with empty values\n",
    "print()\n",
    "\n",
    "print(final_df.head())\n",
    "print(final_df.shape)   #uses this to check if the empty values were removed / compares to shape attribute before subset\n"
   ]
  },
  {
   "cell_type": "markdown",
   "metadata": {
    "colab_type": "text",
    "id": "PGEx6mJsp6dG"
   },
   "source": [
    "**2.6. Visualizing the data**\n",
    "\n",
    "To visualize the data, why not subset on a particular London Borough? Maybe do a line plot of Month against Average Price?"
   ]
  },
  {
   "cell_type": "code",
   "execution_count": 12,
   "metadata": {
    "colab": {},
    "colab_type": "code",
    "id": "nAg5pT9cqHAR"
   },
   "outputs": [
    {
     "name": "stdout",
     "output_type": "stream",
     "text": [
      "      London_Borough         ID       Date       Average\n",
      "5            Bromley  E09000006 1995-01-01   81671.47692\n",
      "53           Bromley  E09000006 1995-02-01   81657.55944\n",
      "101          Bromley  E09000006 1995-03-01   81449.31143\n",
      "149          Bromley  E09000006 1995-04-01   81124.41227\n",
      "197          Bromley  E09000006 1995-05-01   81542.61561\n",
      "...              ...        ...        ...           ...\n",
      "15173        Bromley  E09000006 2021-05-01  464872.54850\n",
      "15221        Bromley  E09000006 2021-06-01  470431.41710\n",
      "15269        Bromley  E09000006 2021-07-01  466447.00400\n",
      "15317        Bromley  E09000006 2021-08-01  473570.35610\n",
      "15365        Bromley  E09000006 2021-09-01  483955.02400\n",
      "\n",
      "[321 rows x 4 columns]\n"
     ]
    },
    {
     "data": {
      "image/png": "[encoded data removed]",
      "text/plain": [
       "<Figure size 432x288 with 1 Axes>"
      ]
     },
     "metadata": {
      "needs_background": "light"
     },
     "output_type": "display_data"
    }
   ],
   "source": [
    "print(final_df[final_df['London_Borough']=='Bromley'])\n",
    "plt_df = final_df[final_df['London_Borough']=='Bromley'].plot(kind='line', x='Date', y='Average')   #line plot for average over time for Bromley borough\n",
    "plt.show()"
   ]
  },
  {
   "cell_type": "markdown",
   "metadata": {
    "colab_type": "text",
    "id": "aWTPqSJeqHnC"
   },
   "source": [
    "To limit the number of data points you have, you might want to extract the year from every month value your *Month* column. \n",
    "\n",
    "To this end, you *could* apply a ***lambda function***. Your logic could work as follows:\n",
    "1. look through the `Month` column\n",
    "2. extract the year from each individual value in that column \n",
    "3. store that corresponding year as separate column. \n",
    "\n",
    "Whether you go ahead with this is up to you. Just so long as you answer our initial brief: which boroughs of London have seen the greatest house price increase, on average, over the past two decades? "
   ]
  },
  {
   "cell_type": "code",
   "execution_count": 13,
   "metadata": {
    "colab": {},
    "colab_type": "code",
    "id": "e0DF92cyqnu8"
   },
   "outputs": [
    {
     "name": "stdout",
     "output_type": "stream",
     "text": [
      "       London_Borough         ID       Date      Average  Year  Month\n",
      "0      City of London  E09000001 1995-01-01  91448.98487  1995      1\n",
      "1  Barking & Dagenham  E09000002 1995-01-01  50460.22660  1995      1\n",
      "2              Barnet  E09000003 1995-01-01  93284.51832  1995      1\n",
      "3              Bexley  E09000004 1995-01-01  64958.09036  1995      1\n",
      "4               Brent  E09000005 1995-01-01  71306.56698  1995      1\n"
     ]
    },
    {
     "name": "stderr",
     "output_type": "stream",
     "text": [
      "<ipython-input-13-12c7bf2dd979>:1: SettingWithCopyWarning: \n",
      "A value is trying to be set on a copy of a slice from a DataFrame.\n",
      "Try using .loc[row_indexer,col_indexer] = value instead\n",
      "\n",
      "See the caveats in the documentation: https://pandas.pydata.org/pandas-docs/stable/user_guide/indexing.html#returning-a-view-versus-a-copy\n",
      "  final_df['Year'] = final_df['Date'].agg(lambda x:x.year)    #adds year column\n",
      "<ipython-input-13-12c7bf2dd979>:2: SettingWithCopyWarning: \n",
      "A value is trying to be set on a copy of a slice from a DataFrame.\n",
      "Try using .loc[row_indexer,col_indexer] = value instead\n",
      "\n",
      "See the caveats in the documentation: https://pandas.pydata.org/pandas-docs/stable/user_guide/indexing.html#returning-a-view-versus-a-copy\n",
      "  final_df['Month'] = final_df['Date'].agg(lambda x:x.month)  #adds month column\n"
     ]
    }
   ],
   "source": [
    "final_df['Year'] = final_df['Date'].agg(lambda x:x.year)    #adds year column\n",
    "final_df['Month'] = final_df['Date'].agg(lambda x:x.month)  #adds month column\n",
    "print(final_df.head())\n"
   ]
  },
  {
   "cell_type": "markdown",
   "metadata": {
    "colab_type": "text",
    "id": "2knuTxAEqoJ4"
   },
   "source": [
    "**3. Modeling**\n",
    "\n",
    "Consider creating a function that will calculate a ratio of house prices, comparing the price of a house in 2018 to the price in 1998.\n",
    "\n",
    "Consider calling this function create_price_ratio.\n",
    "\n",
    "You'd want this function to:\n",
    "1. Take a filter of dfg, specifically where this filter constrains the London_Borough, as an argument. For example, one admissible argument should be: dfg[dfg['London_Borough']=='Camden'].\n",
    "2. Get the Average Price for that Borough, for the years 1998 and 2018.\n",
    "4. Calculate the ratio of the Average Price for 1998 divided by the Average Price for 2018.\n",
    "5. Return that ratio.\n",
    "\n",
    "Once you've written this function, you ultimately want to use it to iterate through all the unique London_Boroughs and work out the ratio capturing the difference of house prices between 1998 and 2018.\n",
    "\n",
    "Bear in mind: you don't have to write a function like this if you don't want to. If you can solve the brief otherwise, then great! \n",
    "\n",
    "***Hint***: This section should test the skills you acquired in:\n",
    "- Python Data Science Toolbox - Part One, all modules"
   ]
  },
  {
   "cell_type": "code",
   "execution_count": 14,
   "metadata": {
    "colab": {},
    "colab_type": "code",
    "id": "cKTyr437UgDa"
   },
   "outputs": [
    {
     "name": "stdout",
     "output_type": "stream",
     "text": [
      "          London_Borough   1998_Average  2018_Average    %_Change     Ratio\n",
      "17              Hounslow   99746.069682  3.966312e+05  297.640911  0.251483\n",
      "26  Richmond upon Thames  162956.066025  6.526654e+05  300.516190  0.249678\n",
      "14                Harrow  114778.250067  4.659075e+05  305.919643  0.246354\n",
      "5                Bromley  108286.520467  4.434100e+05  309.478469  0.244213\n",
      "28                Sutton   92087.045921  3.792626e+05  311.852261  0.242806\n",
      "12  Hammersmith & Fulham  175340.921250  7.255253e+05  313.779810  0.241674\n",
      "16            Hillingdon   97676.048952  4.102661e+05  320.027308  0.238080\n",
      "7                Croydon   88143.228830  3.702985e+05  320.110028  0.238033\n",
      "3                 Bexley   80632.020822  3.426036e+05  324.897705  0.235351\n",
      "9                Enfield   93030.224322  3.966317e+05  326.347158  0.234551\n",
      "20  Kingston upon Thames  116399.769158  4.970910e+05  327.054952  0.234162\n",
      "8                 Ealing  111343.154650  4.800505e+05  331.145090  0.231940\n",
      "15              Havering   85602.087977  3.702488e+05  332.523037  0.231202\n",
      "2                 Barnet  122359.468033  5.332665e+05  335.819592  0.229453\n",
      "25             Redbridge   94514.395822  4.225911e+05  347.118201  0.223655\n",
      "29         Tower Hamlets   96505.166407  4.465006e+05  362.670104  0.216137\n",
      "23                Merton  108049.855117  5.122939e+05  374.127331  0.210914\n",
      "31            Wandsworth  125406.807233  5.966491e+05  375.770935  0.210185\n",
      "10             Greenwich   81532.933366  3.883443e+05  376.303635  0.209950\n",
      "18             Islington  134148.973300  6.498241e+05  384.404801  0.206439\n",
      "4                  Brent  100692.590417  4.928454e+05  389.455450  0.204309\n",
      "1     Barking & Dagenham   60285.821083  2.951967e+05  389.661861  0.204223\n",
      "6                 Camden  170688.973933  8.424104e+05  393.535341  0.202620\n",
      "21               Lambeth  103179.118943  5.115364e+05  395.775116  0.201704\n",
      "19  Kensington & Chelsea  268350.122142  1.363880e+06  408.246507  0.196755\n",
      "13              Haringey  107419.850108  5.515606e+05  413.462496  0.194756\n",
      "0         City of London  148031.894542  7.848089e+05  430.162038  0.188622\n",
      "24                Newham   67671.270763  3.590225e+05  430.539044  0.188488\n",
      "32           Westminster  190531.949942  1.020025e+06  435.356539  0.186791\n",
      "22              Lewisham   75539.051649  4.116290e+05  444.922104  0.183512\n",
      "27             Southwark   91405.187779  5.042354e+05  451.648530  0.181275\n",
      "30        Waltham Forest   75557.474132  4.408594e+05  483.475581  0.171387\n",
      "11               Hackney   87869.535804  5.446405e+05  519.828556  0.161335 \n",
      "\n"
     ]
    },
    {
     "data": {
      "text/plain": [
       "Text(0.5, 1.0, 'Ratio of 1998 to 2018 Average House Prices per London Borough')"
      ]
     },
     "execution_count": 14,
     "metadata": {},
     "output_type": "execute_result"
    },
    {
     "data": {
      "image/png": "[encoded data removed]",
      "text/plain": [
       "<Figure size 1440x720 with 1 Axes>"
      ]
     },
     "metadata": {
      "needs_background": "light"
     },
     "output_type": "display_data"
    }
   ],
   "source": [
    "def ratio_1998_to_2018(dfg, borough):#function that receives DataFrame and column name, returns list of averages\n",
    "    filtered = dfg[dfg['London_Borough']==borough]\n",
    "    filtered_1998 = filtered[filtered['Year']==1998]\n",
    "    filtered_2018 = filtered[filtered['Year']==2018]\n",
    "    mean_1998 = filtered_1998['Average'].agg(np.mean)\n",
    "    mean_2018 = filtered_2018['Average'].agg(np.mean)\n",
    "    percent_change = (mean_2018 - mean_1998)/mean_1998 *100\n",
    "    list1=[mean_1998, mean_2018, percent_change] #creates list of averages and percent change\n",
    "    return (list1) #return list of averages and percentage change\n",
    "\n",
    "\n",
    "average_dict={}       #creates empty dictionary\n",
    "for borough in final_df['London_Borough'].unique():   #iterating through unique borough names from final_df\n",
    "    average_dict[borough] = ratio_1998_to_2018(final_df, borough)     #adding values to dictionary where key is borough and value is a list of averages\n",
    "borough_avg_df = pd.DataFrame(average_dict).T     #creates DataFrame from dictionary and transposes it\n",
    "borough_avg_df = borough_avg_df.reset_index()     #resets index\n",
    "final_ratios = borough_avg_df.rename( columns = {'index': 'London_Borough', 0:'1998_Average', 1:'2018_Average', 2:'%_Change'})    #renames columns after transpose\n",
    "final_ratios['Ratio'] = final_ratios['1998_Average'] / final_ratios['2018_Average'] #creates ratio column\n",
    "final_ratios = final_ratios.sort_values('Ratio', ascending=False)\n",
    "print(final_ratios, \"\\n\")\n",
    "ratio_plt = final_ratios.plot(kind= 'bar', x='London_Borough', y='Ratio', rot=80, figsize=(20, 10))\n",
    "plt.xlabel('London Borough')\n",
    "plt.ylabel('Ratio of 1998 to 2018 Average House Prices')\n",
    "plt.title('Ratio of 1998 to 2018 Average House Prices per London Borough')"
   ]
  },
  {
   "cell_type": "markdown",
   "metadata": {
    "colab_type": "text",
    "id": "NzYUI7FxJpgv"
   },
   "source": [
    "### 4. Conclusion\n",
    "What can you conclude? Type out your conclusion below. \n",
    "\n",
    "**In conclusion, the Hackney borough had the largest average increase in housing prices between the years of 1998 and 2018.**\n",
    "\n",
    "**The most expensive borough overall in 1998 and 2018 is Kensington & Chelsea**\n",
    "\n",
    "Look back at your notebook. Think about how you might summarize what you have done, and prepare a quick presentation on it to your mentor at your next meeting. \n",
    "\n",
    "We hope you enjoyed this practical project. It should have consolidated your data hygiene and pandas skills by looking at a real-world problem involving just the kind of dataset you might encounter as a budding data scientist. Congratulations, and looking forward to seeing you at the next step in the course! "
   ]
  },
  {
   "cell_type": "code",
   "execution_count": null,
   "metadata": {},
   "outputs": [],
   "source": []
  }
 ],
 "metadata": {
  "colab": {
   "collapsed_sections": [],
   "name": "Springboard Data Science Career Track Unit 4 Challenge - Tier 3 Complete .ipynb",
   "provenance": []
  },
  "kernelspec": {
   "display_name": "Python 3",
   "language": "python",
   "name": "python3"
  },
  "language_info": {
   "codemirror_mode": {
    "name": "ipython",
    "version": 3
   },
   "file_extension": ".py",
   "mimetype": "text/x-python",
   "name": "python",
   "nbconvert_exporter": "python",
   "pygments_lexer": "ipython3",
   "version": "3.8.8"
  }
 },
 "nbformat": 4,
 "nbformat_minor": 1
}
