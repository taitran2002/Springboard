{
 "cells": [
  {
   "cell_type": "markdown",
   "metadata": {},
   "source": [
    "This exercise will require you to pull some data from https://data.nasdaq.com/ (formerly Quandl API)."
   ]
  },
  {
   "cell_type": "markdown",
   "metadata": {},
   "source": [
    "As a first step, you will need to register a free account on the https://data.nasdaq.com/ website."
   ]
  },
  {
   "cell_type": "markdown",
   "metadata": {},
   "source": [
    "After you register, you will be provided with a unique API key, that you should store:\n",
    "\n",
    "*Note*: Use a `.env` file and put your key in there and `python-dotenv` to access it in this notebook. \n",
    "\n",
    "The code below uses a key that was used when generating this project but has since been deleted. Never submit your keys to source control. There is a `.env-example` file in this repository to illusrtate what you need. Copy that to a file called `.env` and use your own api key in that `.env` file. Make sure you also have a `.gitignore` file with a line for `.env` added to it. \n",
    "\n",
    "The standard Python gitignore is [here](https://github.com/github/gitignore/blob/master/Python.gitignore) you can just copy that. a"
   ]
  },
  {
   "cell_type": "code",
   "execution_count": 1,
   "metadata": {},
   "outputs": [],
   "source": [
    "# get api key from your .env file\n",
    "import os\n",
    "from dotenv import load_dotenv\n",
    "\n",
    "load_dotenv()\n",
    "API_KEY = os.getenv('NASDAQ_API_KEY')\n",
    "\n",
    "#print(API_KEY)"
   ]
  },
  {
   "cell_type": "markdown",
   "metadata": {},
   "source": [
    "Nasdaq Data has a large number of data sources, but, unfortunately, most of them require a Premium subscription. Still, there are also a good number of free datasets."
   ]
  },
  {
   "cell_type": "markdown",
   "metadata": {},
   "source": [
    "For this mini project, we will focus on equities data from the Frankfurt Stock Exhange (FSE), which is available for free. We'll try and analyze the stock prices of a company called Carl Zeiss Meditec, which manufactures tools for eye examinations, as well as medical lasers for laser eye surgery: https://www.zeiss.com/meditec/int/home.html. The company is listed under the stock ticker AFX_X."
   ]
  },
  {
   "cell_type": "markdown",
   "metadata": {},
   "source": [
    "You can find the detailed Nasdaq Data API instructions here: https://docs.data.nasdaq.com/docs/in-depth-usage"
   ]
  },
  {
   "cell_type": "markdown",
   "metadata": {},
   "source": [
    "While there is a dedicated Python package for connecting to the Nasdaq API, we would prefer that you use the *requests* package, which can be easily downloaded using *pip* or *conda*. You can find the documentation for the package here: http://docs.python-requests.org/en/master/ "
   ]
  },
  {
   "cell_type": "markdown",
   "metadata": {},
   "source": [
    "Finally, apart from the *requests* package, you are encouraged to not use any third party Python packages, such as *pandas*, and instead focus on what's available in the Python Standard Library (the *collections* module might come in handy: https://pymotw.com/3/collections/).\n",
    "Also, since you won't have access to DataFrames, you are encouraged to us Python's native data structures - preferably dictionaries, though some questions can also be answered using lists.\n",
    "You can read more on these data structures here: https://docs.python.org/3/tutorial/datastructures.html"
   ]
  },
  {
   "cell_type": "markdown",
   "metadata": {},
   "source": [
    "Keep in mind that the JSON responses you will be getting from the API map almost one-to-one to Python's dictionaries. Unfortunately, they can be very nested, so make sure you read up on indexing dictionaries in the documentation provided above."
   ]
  },
  {
   "cell_type": "code",
   "execution_count": 2,
   "metadata": {},
   "outputs": [],
   "source": [
    "# First, import the relevant modules\n",
    "import requests\n",
    "import collections\n",
    "import math"
   ]
  },
  {
   "cell_type": "markdown",
   "metadata": {},
   "source": [
    "Note: API's can change a bit with each version, for this exercise it is reccomended to use the nasdaq api at `https://data.nasdaq.com/api/v3/`. This is the same api as what used to be quandl so `https://www.quandl.com/api/v3/` should work too.\n",
    "\n",
    "Hint: We are looking for the `AFX_X` data on the `datasets/FSE/` dataset."
   ]
  },
  {
   "cell_type": "code",
   "execution_count": 3,
   "metadata": {},
   "outputs": [],
   "source": [
    "# Now, call the Nasdaq API and pull out a small sample of the data (only one day) to get a glimpse\n",
    "# into the JSON structure that will be returned\n",
    "\n",
    "url_test = 'https://data.nasdaq.com/api/v3/datasets/FSE/AFX_X/data.json?\\\n",
    "       &start_date=2020-01-28&end_date=2020-01-28&api_key='+API_KEY\n",
    "r_test = requests.get(url_test)\n",
    "json_data_test = r_test.json()"
   ]
  },
  {
   "cell_type": "code",
   "execution_count": 4,
   "metadata": {},
   "outputs": [
    {
     "name": "stdout",
     "output_type": "stream",
     "text": [
      "{'dataset_data': {'limit': None, 'transform': None, 'column_index': None, 'column_names': ['Date', 'Open', 'High', 'Low', 'Close', 'Change', 'Traded Volume', 'Turnover', 'Last Price of the Day', 'Daily Traded Units', 'Daily Turnover'], 'start_date': '2020-01-28', 'end_date': '2020-01-28', 'frequency': 'daily', 'data': [['2020-01-28', 118.8, 119.6, 115.2, 118.1, None, 134333.0, 15754191.0, None, None, None]], 'collapse': None, 'order': None}}\n"
     ]
    }
   ],
   "source": [
    "# Inspect the JSON structure of the object you created, and take note of how nested it is,\n",
    "# as well as the overall structure\n",
    "print(json_data_test)"
   ]
  },
  {
   "cell_type": "markdown",
   "metadata": {},
   "source": [
    "These are your tasks for this mini project:\n",
    "\n",
    "1. Collect data from the Franfurt Stock Exchange, for the ticker AFX_X, for the whole year 2017 (keep in mind that the date format is YYYY-MM-DD).\n",
    "2. Convert the returned JSON object into a Python dictionary.\n",
    "3. Calculate what the highest and lowest opening prices were for the stock in this period.\n",
    "4. What was the largest change in any one day (based on High and Low price)?\n",
    "5. What was the largest change between any two days (based on Closing Price)?\n",
    "6. What was the average daily trading volume during this year?\n",
    "7. (Optional) What was the median trading volume during this year. (Note: you may need to implement your own function for calculating the median.)"
   ]
  },
  {
   "cell_type": "markdown",
   "metadata": {},
   "source": [
    "\n",
    "First I'll begin by setting the url query with set start date and end date for the entire year of 2017, adding my API_KEY to the end of the url string.\n",
    "\n",
    "I create a Response object (r) using the function **requests.get()**\n",
    "\n",
    "I set the retrieved Response object to a dict using the **.json()** method."
   ]
  },
  {
   "cell_type": "code",
   "execution_count": 5,
   "metadata": {},
   "outputs": [
    {
     "name": "stdout",
     "output_type": "stream",
     "text": [
      "<class 'requests.models.Response'>\n",
      "<class 'dict'>\n"
     ]
    }
   ],
   "source": [
    "# 1. Collection of Data from AFX_X for 2017 into a dictionary class\n",
    "# TEST ODD url = 'https://data.nasdaq.com/api/v3/datasets/FSE/AFX_X/data.json?\\\n",
    "#          &start_date=2017-01-01&end_date=2017-01-05&api_key='+API_KEY\n",
    "# TEST EVEN url = 'https://data.nasdaq.com/api/v3/datasets/FSE/AFX_X/data.json?\\\n",
    "#           &start_date=2017-01-01&end_date=2017-01-06&api_key='+API_KEY\n",
    "\n",
    "url = 'https://data.nasdaq.com/api/v3/datasets/FSE/AFX_X/data.json?\\\n",
    "       &start_date=2017-01-01&end_date=2017-12-31&api_key='+API_KEY\n",
    "\n",
    "r = requests.get(url)\n",
    "json_data = r.json()\n",
    "print(type(r))\n",
    "print(type(json_data))\n",
    "#print(json_data)"
   ]
  },
  {
   "cell_type": "markdown",
   "metadata": {},
   "source": [
    "I'm cleaning the dictionary data we received by first iterating through the json_data.items().\n",
    "\n",
    "The first key is the string 'dataset_data', while its value is a nested dictionary containing the actual API data.\n",
    "\n",
    "I use a for loop to again, iterate through that dictionary's Data column to go through every entry in the Data column.\n",
    "\n",
    "I create a new dictionary afx_dict, whose keys are the numerical date as seen in the 'data' columns index 0, and the values are the key:value pairs of the column name and corresponding data values."
   ]
  },
  {
   "cell_type": "code",
   "execution_count": 6,
   "metadata": {
    "scrolled": true
   },
   "outputs": [],
   "source": [
    "# 2. Cleaning of the json_data dictionary file into a more readable dictionary\n",
    "\n",
    "afx_dict = {}\n",
    "for key, first_nested_dict in json_data.items(): \n",
    "    for index in first_nested_dict['data']: #iterate through the list of lists in Data Column, index = single nested list inside data\n",
    "        temp_dict = {}\n",
    "        col=1\n",
    "        while col < len(index):\n",
    "            temp_dict[first_nested_dict['column_names'][col]] = index[col]\n",
    "            col += 1\n",
    "        afx_dict[index[0]] = temp_dict   #dictionary with date as key, dictionary (temp_dict) of data as value\n",
    "        \n",
    "        \n",
    "#print(afx_dict)\n",
    "    "
   ]
  },
  {
   "cell_type": "code",
   "execution_count": 7,
   "metadata": {},
   "outputs": [
    {
     "name": "stdout",
     "output_type": "stream",
     "text": [
      "The highest opening price was 53.11 on date 2017-12-14\n",
      "The lowest opening price was 34.0 on date 2017-01-24\n"
     ]
    }
   ],
   "source": [
    "# 3. Calculate the highest and lowest opening prices were for the stock in this period\n",
    "\n",
    "highest = 0.0\n",
    "highest_date = ''\n",
    "lowest = 100000000.0\n",
    "lowest_date = ''\n",
    "for key, value in afx_dict.items():\n",
    "    try:\n",
    "        if value['Open'] > highest:\n",
    "            highest = value['Open']\n",
    "            highest_date = key\n",
    "        if value['Open'] < lowest:\n",
    "            lowest = value['Open']\n",
    "            lowest_date = key\n",
    "    except:\n",
    "        pass\n",
    "\n",
    "print(\"The highest opening price was \", highest, \" on date \", highest_date, sep=\"\")\n",
    "print(\"The lowest opening price was \", lowest, \" on date \", lowest_date, sep=\"\")\n",
    "\n",
    "    "
   ]
  },
  {
   "cell_type": "code",
   "execution_count": 8,
   "metadata": {},
   "outputs": [],
   "source": [
    "#for key, value in afx_dict.items():\n",
    "#    print(key, value['High'], value['Low'], value['Open'], value['Traded Volume'])"
   ]
  },
  {
   "cell_type": "code",
   "execution_count": 9,
   "metadata": {},
   "outputs": [
    {
     "name": "stdout",
     "output_type": "stream",
     "text": [
      "The largest daily change (Based on High and Low prices) is 2.81 on date 2017-05-11 .\n"
     ]
    }
   ],
   "source": [
    "# 4. What was the largest change in any one day (based on High and Low price)?\n",
    "\n",
    "daily_change = 0\n",
    "daily_change_date = ''\n",
    "for key, value in afx_dict.items():\n",
    "    try:\n",
    "        if value['High'] - value['Low'] > daily_change:\n",
    "            daily_change = round(value['High'] - value['Low'], 2)\n",
    "            daily_change_date = key\n",
    "    except:\n",
    "        pass\n",
    "print('The largest daily change (Based on High and Low prices) is', daily_change, 'on date', daily_change_date,'.')"
   ]
  },
  {
   "cell_type": "code",
   "execution_count": 10,
   "metadata": {},
   "outputs": [
    {
     "name": "stdout",
     "output_type": "stream",
     "text": [
      "The largest change between any two day's closing prices are 19.03\n",
      "The largest change is from 2017-01-23 to 2017-12-13\n"
     ]
    }
   ],
   "source": [
    "# 5. What was the largest change between any two days (based on Closing Price)?\n",
    "lowest_closing = 100000000\n",
    "lowest_closing_date = ''\n",
    "highest_closing = 0\n",
    "highest_closing_date = ''\n",
    "for key, value in afx_dict.items():\n",
    "    try:\n",
    "        if value['Close'] > highest_closing:\n",
    "            highest_closing = value['Close']\n",
    "            highest_closing_date = key\n",
    "        if value['Close'] < lowest_closing:\n",
    "            lowest_closing = value['Close']\n",
    "            lowest_closing_date = key\n",
    "    except:\n",
    "        pass\n",
    "change_in_closing = highest_closing - lowest_closing\n",
    "print(\"The largest change between any two day's closing prices are\", change_in_closing)\n",
    "print(\"The largest change is from\", lowest_closing_date, \"to\", highest_closing_date)"
   ]
  },
  {
   "cell_type": "code",
   "execution_count": 11,
   "metadata": {},
   "outputs": [
    {
     "name": "stdout",
     "output_type": "stream",
     "text": [
      "The average daily trading volume during this year is 89124.33725490196\n"
     ]
    }
   ],
   "source": [
    "# 6. What was the average daily trading volume during this year?\n",
    "\n",
    "sum_trading_vol = 0\n",
    "count = 0\n",
    "for key, value in afx_dict.items():\n",
    "    try:\n",
    "        sum_trading_vol += value['Traded Volume']\n",
    "        count += 1\n",
    "    except:\n",
    "        none_count += 1\n",
    "        pass\n",
    "print('The average daily trading volume during this year is', sum_trading_vol/count)"
   ]
  },
  {
   "cell_type": "code",
   "execution_count": 12,
   "metadata": {},
   "outputs": [
    {
     "name": "stdout",
     "output_type": "stream",
     "text": [
      "\n",
      "The length of the list is: 255\n",
      "The median of the trading volumes of the data set is: 76286.0\n"
     ]
    }
   ],
   "source": [
    "# 7. (Optional) What was the median trading volume during this year. \n",
    "# (Note: you may need to implement your own function for calculating the median.)\n",
    "\n",
    "def median(list):\n",
    "    if len(list)%2==1:\n",
    "        median_index = math.ceil(len(list)/2)\n",
    "        return list[median_index-1]\n",
    "    else:\n",
    "        median_index = math.ceil(len(list)/2)\n",
    "        mean = (list[median_index-1]+list[median_index])/2\n",
    "        return mean\n",
    "    \n",
    "\n",
    "trading_vol_list = []\n",
    "for key, value in afx_dict.items():\n",
    "    trading_vol_list.append(value['Traded Volume'])\n",
    "trading_vol_list.sort()\n",
    "#print(trading_vol_list)\n",
    "print()\n",
    "print(\"The length of the list is:\", len(trading_vol_list))\n",
    "print(\"The median of the trading volumes of the data set is:\", median(trading_vol_list))\n",
    "    \n",
    "\n",
    "    \n",
    "        \n",
    "\n"
   ]
  },
  {
   "cell_type": "code",
   "execution_count": null,
   "metadata": {},
   "outputs": [],
   "source": []
  }
 ],
 "metadata": {
  "interpreter": {
   "hash": "7635eb1b9d0fe97add78a7368b6b431c09bb8ad5c42e437d64abdd99821c31ae"
  },
  "kernelspec": {
   "display_name": "Python 3",
   "language": "python",
   "name": "python3"
  },
  "language_info": {
   "codemirror_mode": {
    "name": "ipython",
    "version": 3
   },
   "file_extension": ".py",
   "mimetype": "text/x-python",
   "name": "python",
   "nbconvert_exporter": "python",
   "pygments_lexer": "ipython3",
   "version": "3.8.8"
  }
 },
 "nbformat": 4,
 "nbformat_minor": 4
}
