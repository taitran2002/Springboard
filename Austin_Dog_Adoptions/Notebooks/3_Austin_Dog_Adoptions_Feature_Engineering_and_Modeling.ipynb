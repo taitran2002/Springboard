{
 "cells": [
  {
   "cell_type": "markdown",
   "id": "49730a5f",
   "metadata": {},
   "source": [
    "# 3. Feature Engineering and Modeling\n",
    "\n"
   ]
  },
  {
   "cell_type": "markdown",
   "id": "b307bd30",
   "metadata": {},
   "source": [
    "## 3.1 Imports"
   ]
  },
  {
   "cell_type": "code",
   "execution_count": 1,
   "id": "55258dca",
   "metadata": {},
   "outputs": [],
   "source": [
    "# !pip install category_encoders dirty_cat feature-engine"
   ]
  },
  {
   "cell_type": "code",
   "execution_count": 45,
   "id": "6e698ade",
   "metadata": {},
   "outputs": [],
   "source": [
    "import datetime\n",
    "import random\n",
    "\n",
    "import pandas as pd\n",
    "import numpy as np\n",
    "import matplotlib.pyplot as plt\n",
    "import seaborn as sns\n",
    "from sklearn.preprocessing import OneHotEncoder, OrdinalEncoder, scale, StandardScaler, MinMaxScaler\n",
    "from sklearn.decomposition import PCA\n",
    "from sklearn.model_selection import train_test_split, cross_validate, RandomizedSearchCV\n",
    "from sklearn.ensemble import RandomForestRegressor, HistGradientBoostingRegressor\n",
    "from sklearn.linear_model import LinearRegression\n",
    "from sklearn.metrics import r2_score, mean_squared_error, mean_absolute_error, mean_absolute_percentage_error\n",
    "from sklearn.pipeline import make_pipeline\n",
    "from sklearn.impute import SimpleImputer\n",
    "from sklearn.inspection import PartialDependenceDisplay\n",
    "from scipy.stats import uniform, randint\n",
    "import category_encoders\n",
    "import dirty_cat\n",
    "import feature_engine.datetime\n",
    "from IPython.display import Markdown as md"
   ]
  },
  {
   "cell_type": "markdown",
   "id": "8aeb5b1b",
   "metadata": {},
   "source": [
    "## 3.2 Load the Data"
   ]
  },
  {
   "cell_type": "code",
   "execution_count": 3,
   "id": "4dbfb386",
   "metadata": {},
   "outputs": [],
   "source": [
    "dog_df = pd.read_csv('../clean_data/austin_dogs_eda_clean.csv', index_col=0)"
   ]
  },
  {
   "cell_type": "code",
   "execution_count": 4,
   "id": "2f31471c",
   "metadata": {},
   "outputs": [
    {
     "data": {
      "text/plain": [
       "(55445, 10)"
      ]
     },
     "execution_count": 4,
     "metadata": {},
     "output_type": "execute_result"
    }
   ],
   "source": [
    "dog_df.shape"
   ]
  },
  {
   "cell_type": "code",
   "execution_count": 5,
   "id": "eab0ee1c",
   "metadata": {},
   "outputs": [
    {
     "data": {
      "text/html": [
       "<div>\n",
       "<style scoped>\n",
       "    .dataframe tbody tr th:only-of-type {\n",
       "        vertical-align: middle;\n",
       "    }\n",
       "\n",
       "    .dataframe tbody tr th {\n",
       "        vertical-align: top;\n",
       "    }\n",
       "\n",
       "    .dataframe thead th {\n",
       "        text-align: right;\n",
       "    }\n",
       "</style>\n",
       "<table border=\"1\" class=\"dataframe\">\n",
       "  <thead>\n",
       "    <tr style=\"text-align: right;\">\n",
       "      <th></th>\n",
       "      <th>name</th>\n",
       "      <th>breed_category</th>\n",
       "      <th>sex_intake</th>\n",
       "      <th>intake_type</th>\n",
       "      <th>condition_intake</th>\n",
       "      <th>outcome</th>\n",
       "      <th>delta_time_d</th>\n",
       "      <th>month_outcome</th>\n",
       "      <th>year_outcome</th>\n",
       "      <th>age_in_years_bins</th>\n",
       "    </tr>\n",
       "  </thead>\n",
       "  <tbody>\n",
       "    <tr>\n",
       "      <th>0</th>\n",
       "      <td>*Brock</td>\n",
       "      <td>Beagle</td>\n",
       "      <td>Neutered Male</td>\n",
       "      <td>Stray</td>\n",
       "      <td>Normal</td>\n",
       "      <td>Transfer</td>\n",
       "      <td>4.952778</td>\n",
       "      <td>1</td>\n",
       "      <td>2019</td>\n",
       "      <td>2-3 yrs</td>\n",
       "    </tr>\n",
       "    <tr>\n",
       "      <th>1</th>\n",
       "      <td>Belle</td>\n",
       "      <td>Spaniel</td>\n",
       "      <td>Spayed Female</td>\n",
       "      <td>Stray</td>\n",
       "      <td>Normal</td>\n",
       "      <td>Return to Owner</td>\n",
       "      <td>0.093056</td>\n",
       "      <td>7</td>\n",
       "      <td>2015</td>\n",
       "      <td>8-9 yrs</td>\n",
       "    </tr>\n",
       "    <tr>\n",
       "      <th>2</th>\n",
       "      <td>Runster</td>\n",
       "      <td>Basenji</td>\n",
       "      <td>Intact Male</td>\n",
       "      <td>Stray</td>\n",
       "      <td>Normal</td>\n",
       "      <td>Return to Owner</td>\n",
       "      <td>6.940278</td>\n",
       "      <td>4</td>\n",
       "      <td>2016</td>\n",
       "      <td>0-1 yrs</td>\n",
       "    </tr>\n",
       "    <tr>\n",
       "      <th>3</th>\n",
       "      <td>Rio</td>\n",
       "      <td>Doberman</td>\n",
       "      <td>Neutered Male</td>\n",
       "      <td>Stray</td>\n",
       "      <td>Normal</td>\n",
       "      <td>Return to Owner</td>\n",
       "      <td>3.151389</td>\n",
       "      <td>7</td>\n",
       "      <td>2014</td>\n",
       "      <td>4-5 yrs</td>\n",
       "    </tr>\n",
       "    <tr>\n",
       "      <th>4</th>\n",
       "      <td>Odin</td>\n",
       "      <td>Labrador Retriever</td>\n",
       "      <td>Neutered Male</td>\n",
       "      <td>Owner Surrender</td>\n",
       "      <td>Normal</td>\n",
       "      <td>Return to Owner</td>\n",
       "      <td>3.206944</td>\n",
       "      <td>2</td>\n",
       "      <td>2017</td>\n",
       "      <td>2-3 yrs</td>\n",
       "    </tr>\n",
       "  </tbody>\n",
       "</table>\n",
       "</div>"
      ],
      "text/plain": [
       "      name      breed_category     sex_intake      intake_type  \\\n",
       "0   *Brock              Beagle  Neutered Male            Stray   \n",
       "1    Belle             Spaniel  Spayed Female            Stray   \n",
       "2  Runster             Basenji    Intact Male            Stray   \n",
       "3      Rio            Doberman  Neutered Male            Stray   \n",
       "4     Odin  Labrador Retriever  Neutered Male  Owner Surrender   \n",
       "\n",
       "  condition_intake          outcome  delta_time_d  month_outcome  \\\n",
       "0           Normal         Transfer      4.952778              1   \n",
       "1           Normal  Return to Owner      0.093056              7   \n",
       "2           Normal  Return to Owner      6.940278              4   \n",
       "3           Normal  Return to Owner      3.151389              7   \n",
       "4           Normal  Return to Owner      3.206944              2   \n",
       "\n",
       "   year_outcome age_in_years_bins  \n",
       "0          2019           2-3 yrs  \n",
       "1          2015           8-9 yrs  \n",
       "2          2016           0-1 yrs  \n",
       "3          2014           4-5 yrs  \n",
       "4          2017           2-3 yrs  "
      ]
     },
     "execution_count": 5,
     "metadata": {},
     "output_type": "execute_result"
    }
   ],
   "source": [
    "dog_df.head()"
   ]
  },
  {
   "cell_type": "code",
   "execution_count": 6,
   "id": "911a0ab7",
   "metadata": {},
   "outputs": [
    {
     "data": {
      "text/html": [
       "<div>\n",
       "<style scoped>\n",
       "    .dataframe tbody tr th:only-of-type {\n",
       "        vertical-align: middle;\n",
       "    }\n",
       "\n",
       "    .dataframe tbody tr th {\n",
       "        vertical-align: top;\n",
       "    }\n",
       "\n",
       "    .dataframe thead th {\n",
       "        text-align: right;\n",
       "    }\n",
       "</style>\n",
       "<table border=\"1\" class=\"dataframe\">\n",
       "  <thead>\n",
       "    <tr style=\"text-align: right;\">\n",
       "      <th></th>\n",
       "      <th>delta_time_d</th>\n",
       "      <th>month_outcome</th>\n",
       "      <th>year_outcome</th>\n",
       "    </tr>\n",
       "  </thead>\n",
       "  <tbody>\n",
       "    <tr>\n",
       "      <th>count</th>\n",
       "      <td>55445.000000</td>\n",
       "      <td>55445.000000</td>\n",
       "      <td>55445.000000</td>\n",
       "    </tr>\n",
       "    <tr>\n",
       "      <th>mean</th>\n",
       "      <td>17.135873</td>\n",
       "      <td>6.531175</td>\n",
       "      <td>2017.117955</td>\n",
       "    </tr>\n",
       "    <tr>\n",
       "      <th>std</th>\n",
       "      <td>46.483790</td>\n",
       "      <td>3.521655</td>\n",
       "      <td>2.405349</td>\n",
       "    </tr>\n",
       "    <tr>\n",
       "      <th>min</th>\n",
       "      <td>0.000694</td>\n",
       "      <td>1.000000</td>\n",
       "      <td>2013.000000</td>\n",
       "    </tr>\n",
       "    <tr>\n",
       "      <th>25%</th>\n",
       "      <td>2.856250</td>\n",
       "      <td>3.000000</td>\n",
       "      <td>2015.000000</td>\n",
       "    </tr>\n",
       "    <tr>\n",
       "      <th>50%</th>\n",
       "      <td>5.215972</td>\n",
       "      <td>7.000000</td>\n",
       "      <td>2017.000000</td>\n",
       "    </tr>\n",
       "    <tr>\n",
       "      <th>75%</th>\n",
       "      <td>11.898611</td>\n",
       "      <td>10.000000</td>\n",
       "      <td>2019.000000</td>\n",
       "    </tr>\n",
       "    <tr>\n",
       "      <th>max</th>\n",
       "      <td>1912.938194</td>\n",
       "      <td>12.000000</td>\n",
       "      <td>2022.000000</td>\n",
       "    </tr>\n",
       "  </tbody>\n",
       "</table>\n",
       "</div>"
      ],
      "text/plain": [
       "       delta_time_d  month_outcome  year_outcome\n",
       "count  55445.000000   55445.000000  55445.000000\n",
       "mean      17.135873       6.531175   2017.117955\n",
       "std       46.483790       3.521655      2.405349\n",
       "min        0.000694       1.000000   2013.000000\n",
       "25%        2.856250       3.000000   2015.000000\n",
       "50%        5.215972       7.000000   2017.000000\n",
       "75%       11.898611      10.000000   2019.000000\n",
       "max     1912.938194      12.000000   2022.000000"
      ]
     },
     "execution_count": 6,
     "metadata": {},
     "output_type": "execute_result"
    }
   ],
   "source": [
    "dog_df.describe()"
   ]
  },
  {
   "cell_type": "code",
   "execution_count": 7,
   "id": "5a33c682",
   "metadata": {},
   "outputs": [
    {
     "data": {
      "text/html": [
       "<div>\n",
       "<style scoped>\n",
       "    .dataframe tbody tr th:only-of-type {\n",
       "        vertical-align: middle;\n",
       "    }\n",
       "\n",
       "    .dataframe tbody tr th {\n",
       "        vertical-align: top;\n",
       "    }\n",
       "\n",
       "    .dataframe thead th {\n",
       "        text-align: right;\n",
       "    }\n",
       "</style>\n",
       "<table border=\"1\" class=\"dataframe\">\n",
       "  <thead>\n",
       "    <tr style=\"text-align: right;\">\n",
       "      <th></th>\n",
       "      <th>name</th>\n",
       "      <th>breed_category</th>\n",
       "      <th>sex_intake</th>\n",
       "      <th>intake_type</th>\n",
       "      <th>condition_intake</th>\n",
       "      <th>outcome</th>\n",
       "      <th>age_in_years_bins</th>\n",
       "    </tr>\n",
       "  </thead>\n",
       "  <tbody>\n",
       "    <tr>\n",
       "      <th>count</th>\n",
       "      <td>43726</td>\n",
       "      <td>55445</td>\n",
       "      <td>55445</td>\n",
       "      <td>55445</td>\n",
       "      <td>55445</td>\n",
       "      <td>55445</td>\n",
       "      <td>55445</td>\n",
       "    </tr>\n",
       "    <tr>\n",
       "      <th>unique</th>\n",
       "      <td>14084</td>\n",
       "      <td>52</td>\n",
       "      <td>4</td>\n",
       "      <td>6</td>\n",
       "      <td>13</td>\n",
       "      <td>8</td>\n",
       "      <td>11</td>\n",
       "    </tr>\n",
       "    <tr>\n",
       "      <th>top</th>\n",
       "      <td>Bella</td>\n",
       "      <td>Labrador Retriever</td>\n",
       "      <td>Intact Male</td>\n",
       "      <td>Stray</td>\n",
       "      <td>Normal</td>\n",
       "      <td>Adoption</td>\n",
       "      <td>0-1 yrs</td>\n",
       "    </tr>\n",
       "    <tr>\n",
       "      <th>freq</th>\n",
       "      <td>326</td>\n",
       "      <td>8986</td>\n",
       "      <td>21318</td>\n",
       "      <td>41032</td>\n",
       "      <td>49186</td>\n",
       "      <td>25963</td>\n",
       "      <td>28497</td>\n",
       "    </tr>\n",
       "  </tbody>\n",
       "</table>\n",
       "</div>"
      ],
      "text/plain": [
       "         name      breed_category   sex_intake intake_type condition_intake  \\\n",
       "count   43726               55445        55445       55445            55445   \n",
       "unique  14084                  52            4           6               13   \n",
       "top     Bella  Labrador Retriever  Intact Male       Stray           Normal   \n",
       "freq      326                8986        21318       41032            49186   \n",
       "\n",
       "         outcome age_in_years_bins  \n",
       "count      55445             55445  \n",
       "unique         8                11  \n",
       "top     Adoption           0-1 yrs  \n",
       "freq       25963             28497  "
      ]
     },
     "execution_count": 7,
     "metadata": {},
     "output_type": "execute_result"
    }
   ],
   "source": [
    "dog_df.describe(include=['O'])"
   ]
  },
  {
   "cell_type": "code",
   "execution_count": 8,
   "id": "c1d2d83e",
   "metadata": {},
   "outputs": [
    {
     "data": {
      "text/plain": [
       "11719"
      ]
     },
     "execution_count": 8,
     "metadata": {},
     "output_type": "execute_result"
    }
   ],
   "source": [
    "dog_df['name'].isnull().sum()"
   ]
  },
  {
   "cell_type": "code",
   "execution_count": 9,
   "id": "e9dab1f6",
   "metadata": {},
   "outputs": [],
   "source": [
    "dog_df['name'].fillna('Unknown', inplace=True)"
   ]
  },
  {
   "cell_type": "markdown",
   "id": "899ac96e",
   "metadata": {},
   "source": [
    "## 3.3 Feature Engineering and Modeling"
   ]
  },
  {
   "cell_type": "markdown",
   "id": "09b2af59",
   "metadata": {},
   "source": [
    "#### 3.3.1 Creating a Naive Baseline\n",
    "\n",
    "We begin by creating a Naive Baseline to compare against future models. The data is split into X and y variables; X being all the features except our predicted values, and y being only the values for delta_time_d, the time spent in the shelter in days. We randomly split the data into test and train variables and calculate the mean absolute error of each y_test value against the y_train mean."
   ]
  },
  {
   "cell_type": "code",
   "execution_count": 10,
   "id": "1d8175f2",
   "metadata": {},
   "outputs": [],
   "source": [
    "X = dog_df.drop('delta_time_d', axis=1)\n",
    "y = dog_df.delta_time_d"
   ]
  },
  {
   "cell_type": "code",
   "execution_count": 11,
   "id": "f6b63a6c",
   "metadata": {},
   "outputs": [],
   "source": [
    "X_train, X_test, y_train, y_test = train_test_split(X, y)"
   ]
  },
  {
   "cell_type": "code",
   "execution_count": 12,
   "id": "02e59795",
   "metadata": {},
   "outputs": [
    {
     "name": "stdout",
     "output_type": "stream",
     "text": [
      "The average time spent in the shelter in the training set is \u001b[1m17.084\u001b[0m days.\n"
     ]
    }
   ],
   "source": [
    "print(f\"The average time spent in the shelter in the training set is \\033[1m{y_train.mean() :.3f}\\033[0m days.\")"
   ]
  },
  {
   "cell_type": "code",
   "execution_count": 13,
   "id": "f1e8c3c8",
   "metadata": {},
   "outputs": [
    {
     "name": "stdout",
     "output_type": "stream",
     "text": [
      "On average, each of these \"predictions\" was off by \u001b[1m19.574\u001b[0m days.\n"
     ]
    }
   ],
   "source": [
    "y_guesses = [y_train.mean()] * len(y_test)\n",
    "error = mean_absolute_error(y_test, y_guesses)\n",
    "print(f'On average, each of these \"predictions\" was off by \\033[1m{error :,.3f}\\033[0m days.')"
   ]
  },
  {
   "cell_type": "code",
   "execution_count": 14,
   "id": "deafc2bd",
   "metadata": {},
   "outputs": [
    {
     "data": {
      "text/markdown": [
       "On average, predicting each y_test value against its mean gives us a mean absolute error of around **19.574 days**.\n",
       "\n",
       "This is our Naive baseline and we begin to create and tune future models to predict with a mean absolute error of less."
      ],
      "text/plain": [
       "<IPython.core.display.Markdown object>"
      ]
     },
     "execution_count": 14,
     "metadata": {},
     "output_type": "execute_result"
    }
   ],
   "source": [
    "md(f'''On average, predicting each y_test value against its mean gives us a mean absolute error of around **{error:.3f} days**.\n",
    "\n",
    "This is our Naive baseline and we begin to create and tune future models to predict with a mean absolute error of less.''')"
   ]
  },
  {
   "cell_type": "markdown",
   "id": "0ecb1a6b",
   "metadata": {},
   "source": [
    "#### 3.3.2 Simple Linear Regression Model\n",
    "\n",
    "Next we make a simple Linear Regression model to see if there are any linear trends in the data. We remove the high cardinality features from our set when we use OneHotEncoder to simplify this linear model even more and prevent overfitting."
   ]
  },
  {
   "cell_type": "code",
   "execution_count": 15,
   "id": "4fb36b4f",
   "metadata": {},
   "outputs": [
    {
     "name": "stdout",
     "output_type": "stream",
     "text": [
      "On average, each of the test set predictions was off by \u001b[1m18.437\u001b[0m days. This is the second baseline to beat.\n",
      "Any more complicated model should have error less than \u001b[1m18.437\u001b[0m to be better than the simple model.\n"
     ]
    }
   ],
   "source": [
    "basic_features = ['month_outcome', 'year_outcome', 'condition_intake', 'outcome', 'intake_type', 'sex_intake']\n",
    "\n",
    "simple_linear_model = make_pipeline(\n",
    "    OneHotEncoder(handle_unknown='ignore'),\n",
    "    SimpleImputer(strategy='mean'),\n",
    "    LinearRegression()\n",
    ")\n",
    "simple_linear_model.fit(X_train[basic_features], y_train)\n",
    "\n",
    "y_pred = simple_linear_model.predict(X_test[basic_features])\n",
    "\n",
    "error = mean_absolute_error(y_test, y_pred)\n",
    "\n",
    "print(f'On average, each of the test set predictions was off by \\033[1m{error :,.3f}\\033[0m days. This is the second baseline to beat.')\n",
    "print(f'Any more complicated model should have error less than \\033[1m{error :,.3f}\\033[0m to be better than the simple model.')"
   ]
  },
  {
   "cell_type": "markdown",
   "id": "69677952",
   "metadata": {},
   "source": [
    "Our basic linear model predicts a mean absolute error that is slightly better than our naive baseline with an average prediction of 1 day more accurate. We know that based on our exploratory data analysis that our features did not have linear correlations, however, this simple linear model is still a better predictor than our naive baseline."
   ]
  },
  {
   "cell_type": "markdown",
   "id": "75d26683",
   "metadata": {},
   "source": [
    "#### 3.3.3 Random Forest Regressor Model\n",
    "\n",
    "A random forest regressor model is supervised learning model that uses ensemble methods, or multiple machine learning algorithms to make a more accurate prediction than a single model.\n",
    "\n",
    "A random forest acts as an estimator algorithm that aggregates the result of many decision trees and then outputs the most optimal result. We run our features (except name) through the OrdinalEncoder, which handles high cardinal categorical data better than OneHotEncoding."
   ]
  },
  {
   "cell_type": "code",
   "execution_count": 16,
   "id": "ea52b402",
   "metadata": {},
   "outputs": [
    {
     "name": "stdout",
     "output_type": "stream",
     "text": [
      "With our simple Random Forest Regressor model, on average, each of the test set predictions was off by \n",
      "\u001b[1m16.667 or 14.298%.\n"
     ]
    }
   ],
   "source": [
    "features = ['month_outcome', 'year_outcome', 'condition_intake', 'outcome', 'intake_type', \n",
    "                  'sex_intake', 'breed_category', 'age_in_years_bins']\n",
    "\n",
    "simple_rfr = make_pipeline(\n",
    "    OrdinalEncoder(handle_unknown='use_encoded_value', unknown_value=100000000),\n",
    "    SimpleImputer(strategy='median'),\n",
    "    RandomForestRegressor()\n",
    ")\n",
    "\n",
    "simple_rfr.fit(X_train[features], y_train)\n",
    "y_pred = simple_rfr.predict(X_test[features])\n",
    "\n",
    "error = mean_absolute_error(y_test, y_pred)\n",
    "error2 = mean_absolute_percentage_error(y_test, y_pred)\n",
    "\n",
    "print(f'With our simple Random Forest Regressor model, on average, each of the test set predictions was off by \\n\\033[1m{error :,.3f} or {error2:,.3f}%.')"
   ]
  },
  {
   "cell_type": "markdown",
   "id": "7c201013",
   "metadata": {},
   "source": [
    "Compared to our simple Linear Regression model, our test set predictions are have a mean absolute error of around 16, which is about 2 less than our previous model prediction."
   ]
  },
  {
   "cell_type": "markdown",
   "id": "ca10262e",
   "metadata": {},
   "source": [
    "#### 3.3.4 Random Forest Regressor Model using the dirty_cat library\n",
    "\n",
    "We can increase the efficiency of our pre-processing using the dirty_cat (or dirty categories) library. This library has ways to transform our data for processing high cardinality string categorical features."
   ]
  },
  {
   "cell_type": "code",
   "execution_count": 17,
   "id": "6d890773",
   "metadata": {},
   "outputs": [],
   "source": [
    "random_forest_model = make_pipeline(\n",
    "    dirty_cat.SuperVectorizer(\n",
    "    cardinality_threshold=50,\n",
    "    low_card_cat_transformer=category_encoders.CountEncoder(handle_unknown=0),\n",
    "    high_card_cat_transformer=dirty_cat.GapEncoder(n_components=10),\n",
    "    numerical_transformer=SimpleImputer(strategy='median'),\n",
    "    datetime_transformer=feature_engine.datetime.DatetimeFeatures(missing_values='ignore')),\n",
    "    StandardScaler(),\n",
    "    RandomForestRegressor()\n",
    ")"
   ]
  },
  {
   "cell_type": "code",
   "execution_count": 18,
   "id": "8a3de069",
   "metadata": {},
   "outputs": [
    {
     "data": {
      "text/html": [
       "<style>#sk-container-id-1 {color: black;background-color: white;}#sk-container-id-1 pre{padding: 0;}#sk-container-id-1 div.sk-toggleable {background-color: white;}#sk-container-id-1 label.sk-toggleable__label {cursor: pointer;display: block;width: 100%;margin-bottom: 0;padding: 0.3em;box-sizing: border-box;text-align: center;}#sk-container-id-1 label.sk-toggleable__label-arrow:before {content: \"▸\";float: left;margin-right: 0.25em;color: #696969;}#sk-container-id-1 label.sk-toggleable__label-arrow:hover:before {color: black;}#sk-container-id-1 div.sk-estimator:hover label.sk-toggleable__label-arrow:before {color: black;}#sk-container-id-1 div.sk-toggleable__content {max-height: 0;max-width: 0;overflow: hidden;text-align: left;background-color: #f0f8ff;}#sk-container-id-1 div.sk-toggleable__content pre {margin: 0.2em;color: black;border-radius: 0.25em;background-color: #f0f8ff;}#sk-container-id-1 input.sk-toggleable__control:checked~div.sk-toggleable__content {max-height: 200px;max-width: 100%;overflow: auto;}#sk-container-id-1 input.sk-toggleable__control:checked~label.sk-toggleable__label-arrow:before {content: \"▾\";}#sk-container-id-1 div.sk-estimator input.sk-toggleable__control:checked~label.sk-toggleable__label {background-color: #d4ebff;}#sk-container-id-1 div.sk-label input.sk-toggleable__control:checked~label.sk-toggleable__label {background-color: #d4ebff;}#sk-container-id-1 input.sk-hidden--visually {border: 0;clip: rect(1px 1px 1px 1px);clip: rect(1px, 1px, 1px, 1px);height: 1px;margin: -1px;overflow: hidden;padding: 0;position: absolute;width: 1px;}#sk-container-id-1 div.sk-estimator {font-family: monospace;background-color: #f0f8ff;border: 1px dotted black;border-radius: 0.25em;box-sizing: border-box;margin-bottom: 0.5em;}#sk-container-id-1 div.sk-estimator:hover {background-color: #d4ebff;}#sk-container-id-1 div.sk-parallel-item::after {content: \"\";width: 100%;border-bottom: 1px solid gray;flex-grow: 1;}#sk-container-id-1 div.sk-label:hover label.sk-toggleable__label {background-color: #d4ebff;}#sk-container-id-1 div.sk-serial::before {content: \"\";position: absolute;border-left: 1px solid gray;box-sizing: border-box;top: 0;bottom: 0;left: 50%;z-index: 0;}#sk-container-id-1 div.sk-serial {display: flex;flex-direction: column;align-items: center;background-color: white;padding-right: 0.2em;padding-left: 0.2em;position: relative;}#sk-container-id-1 div.sk-item {position: relative;z-index: 1;}#sk-container-id-1 div.sk-parallel {display: flex;align-items: stretch;justify-content: center;background-color: white;position: relative;}#sk-container-id-1 div.sk-item::before, #sk-container-id-1 div.sk-parallel-item::before {content: \"\";position: absolute;border-left: 1px solid gray;box-sizing: border-box;top: 0;bottom: 0;left: 50%;z-index: -1;}#sk-container-id-1 div.sk-parallel-item {display: flex;flex-direction: column;z-index: 1;position: relative;background-color: white;}#sk-container-id-1 div.sk-parallel-item:first-child::after {align-self: flex-end;width: 50%;}#sk-container-id-1 div.sk-parallel-item:last-child::after {align-self: flex-start;width: 50%;}#sk-container-id-1 div.sk-parallel-item:only-child::after {width: 0;}#sk-container-id-1 div.sk-dashed-wrapped {border: 1px dashed gray;margin: 0 0.4em 0.5em 0.4em;box-sizing: border-box;padding-bottom: 0.4em;background-color: white;}#sk-container-id-1 div.sk-label label {font-family: monospace;font-weight: bold;display: inline-block;line-height: 1.2em;}#sk-container-id-1 div.sk-label-container {text-align: center;}#sk-container-id-1 div.sk-container {/* jupyter's `normalize.less` sets `[hidden] { display: none; }` but bootstrap.min.css set `[hidden] { display: none !important; }` so we also need the `!important` here to be able to override the default hidden behavior on the sphinx rendered scikit-learn.org. See: https://github.com/scikit-learn/scikit-learn/issues/21755 */display: inline-block !important;position: relative;}#sk-container-id-1 div.sk-text-repr-fallback {display: none;}</style><div id=\"sk-container-id-1\" class=\"sk-top-container\"><div class=\"sk-text-repr-fallback\"><pre>Pipeline(steps=[(&#x27;supervectorizer&#x27;,\n",
       "                 SuperVectorizer(cardinality_threshold=50,\n",
       "                                 datetime_transformer=DatetimeFeatures(missing_values=&#x27;ignore&#x27;),\n",
       "                                 high_card_cat_transformer=GapEncoder(),\n",
       "                                 low_card_cat_transformer=CountEncoder(combine_min_nan_groups=True,\n",
       "                                                                       handle_unknown=0),\n",
       "                                 numerical_transformer=SimpleImputer(strategy=&#x27;median&#x27;))),\n",
       "                (&#x27;standardscaler&#x27;, StandardScaler()),\n",
       "                (&#x27;randomforestregressor&#x27;, RandomForestRegressor())])</pre><b>In a Jupyter environment, please rerun this cell to show the HTML representation or trust the notebook. <br />On GitHub, the HTML representation is unable to render, please try loading this page with nbviewer.org.</b></div><div class=\"sk-container\" hidden><div class=\"sk-item sk-dashed-wrapped\"><div class=\"sk-label-container\"><div class=\"sk-label sk-toggleable\"><input class=\"sk-toggleable__control sk-hidden--visually\" id=\"sk-estimator-id-1\" type=\"checkbox\" ><label for=\"sk-estimator-id-1\" class=\"sk-toggleable__label sk-toggleable__label-arrow\">Pipeline</label><div class=\"sk-toggleable__content\"><pre>Pipeline(steps=[(&#x27;supervectorizer&#x27;,\n",
       "                 SuperVectorizer(cardinality_threshold=50,\n",
       "                                 datetime_transformer=DatetimeFeatures(missing_values=&#x27;ignore&#x27;),\n",
       "                                 high_card_cat_transformer=GapEncoder(),\n",
       "                                 low_card_cat_transformer=CountEncoder(combine_min_nan_groups=True,\n",
       "                                                                       handle_unknown=0),\n",
       "                                 numerical_transformer=SimpleImputer(strategy=&#x27;median&#x27;))),\n",
       "                (&#x27;standardscaler&#x27;, StandardScaler()),\n",
       "                (&#x27;randomforestregressor&#x27;, RandomForestRegressor())])</pre></div></div></div><div class=\"sk-serial\"><div class=\"sk-item sk-dashed-wrapped\"><div class=\"sk-label-container\"><div class=\"sk-label sk-toggleable\"><input class=\"sk-toggleable__control sk-hidden--visually\" id=\"sk-estimator-id-2\" type=\"checkbox\" ><label for=\"sk-estimator-id-2\" class=\"sk-toggleable__label sk-toggleable__label-arrow\">supervectorizer: SuperVectorizer</label><div class=\"sk-toggleable__content\"><pre>SuperVectorizer(cardinality_threshold=50,\n",
       "                datetime_transformer=DatetimeFeatures(missing_values=&#x27;ignore&#x27;),\n",
       "                high_card_cat_transformer=GapEncoder(),\n",
       "                low_card_cat_transformer=CountEncoder(combine_min_nan_groups=True,\n",
       "                                                      handle_unknown=0),\n",
       "                numerical_transformer=SimpleImputer(strategy=&#x27;median&#x27;))</pre></div></div></div><div class=\"sk-parallel\"><div class=\"sk-parallel-item\"><div class=\"sk-item\"><div class=\"sk-label-container\"><div class=\"sk-label sk-toggleable\"><input class=\"sk-toggleable__control sk-hidden--visually\" id=\"sk-estimator-id-3\" type=\"checkbox\" ><label for=\"sk-estimator-id-3\" class=\"sk-toggleable__label sk-toggleable__label-arrow\">numeric</label><div class=\"sk-toggleable__content\"><pre>[&#x27;month_outcome&#x27;, &#x27;year_outcome&#x27;]</pre></div></div></div><div class=\"sk-serial\"><div class=\"sk-item\"><div class=\"sk-estimator sk-toggleable\"><input class=\"sk-toggleable__control sk-hidden--visually\" id=\"sk-estimator-id-4\" type=\"checkbox\" ><label for=\"sk-estimator-id-4\" class=\"sk-toggleable__label sk-toggleable__label-arrow\">SimpleImputer</label><div class=\"sk-toggleable__content\"><pre>SimpleImputer(strategy=&#x27;median&#x27;)</pre></div></div></div></div></div></div><div class=\"sk-parallel-item\"><div class=\"sk-item\"><div class=\"sk-label-container\"><div class=\"sk-label sk-toggleable\"><input class=\"sk-toggleable__control sk-hidden--visually\" id=\"sk-estimator-id-5\" type=\"checkbox\" ><label for=\"sk-estimator-id-5\" class=\"sk-toggleable__label sk-toggleable__label-arrow\">low_card_cat</label><div class=\"sk-toggleable__content\"><pre>[&#x27;sex_intake&#x27;, &#x27;intake_type&#x27;, &#x27;condition_intake&#x27;, &#x27;outcome&#x27;, &#x27;age_in_years_bins&#x27;]</pre></div></div></div><div class=\"sk-serial\"><div class=\"sk-item\"><div class=\"sk-estimator sk-toggleable\"><input class=\"sk-toggleable__control sk-hidden--visually\" id=\"sk-estimator-id-6\" type=\"checkbox\" ><label for=\"sk-estimator-id-6\" class=\"sk-toggleable__label sk-toggleable__label-arrow\">CountEncoder</label><div class=\"sk-toggleable__content\"><pre>CountEncoder(combine_min_nan_groups=True, handle_unknown=0)</pre></div></div></div></div></div></div><div class=\"sk-parallel-item\"><div class=\"sk-item\"><div class=\"sk-label-container\"><div class=\"sk-label sk-toggleable\"><input class=\"sk-toggleable__control sk-hidden--visually\" id=\"sk-estimator-id-7\" type=\"checkbox\" ><label for=\"sk-estimator-id-7\" class=\"sk-toggleable__label sk-toggleable__label-arrow\">high_card_cat</label><div class=\"sk-toggleable__content\"><pre>[&#x27;name&#x27;, &#x27;breed_category&#x27;]</pre></div></div></div><div class=\"sk-serial\"><div class=\"sk-item\"><div class=\"sk-estimator sk-toggleable\"><input class=\"sk-toggleable__control sk-hidden--visually\" id=\"sk-estimator-id-8\" type=\"checkbox\" ><label for=\"sk-estimator-id-8\" class=\"sk-toggleable__label sk-toggleable__label-arrow\">GapEncoder</label><div class=\"sk-toggleable__content\"><pre>GapEncoder()</pre></div></div></div></div></div></div><div class=\"sk-parallel-item\"><div class=\"sk-item\"><div class=\"sk-label-container\"><div class=\"sk-label sk-toggleable\"><input class=\"sk-toggleable__control sk-hidden--visually\" id=\"sk-estimator-id-9\" type=\"checkbox\" ><label for=\"sk-estimator-id-9\" class=\"sk-toggleable__label sk-toggleable__label-arrow\">remainder</label><div class=\"sk-toggleable__content\"><pre>[]</pre></div></div></div><div class=\"sk-serial\"><div class=\"sk-item\"><div class=\"sk-estimator sk-toggleable\"><input class=\"sk-toggleable__control sk-hidden--visually\" id=\"sk-estimator-id-10\" type=\"checkbox\" ><label for=\"sk-estimator-id-10\" class=\"sk-toggleable__label sk-toggleable__label-arrow\">passthrough</label><div class=\"sk-toggleable__content\"><pre>passthrough</pre></div></div></div></div></div></div></div></div><div class=\"sk-item\"><div class=\"sk-estimator sk-toggleable\"><input class=\"sk-toggleable__control sk-hidden--visually\" id=\"sk-estimator-id-11\" type=\"checkbox\" ><label for=\"sk-estimator-id-11\" class=\"sk-toggleable__label sk-toggleable__label-arrow\">StandardScaler</label><div class=\"sk-toggleable__content\"><pre>StandardScaler()</pre></div></div></div><div class=\"sk-item\"><div class=\"sk-estimator sk-toggleable\"><input class=\"sk-toggleable__control sk-hidden--visually\" id=\"sk-estimator-id-12\" type=\"checkbox\" ><label for=\"sk-estimator-id-12\" class=\"sk-toggleable__label sk-toggleable__label-arrow\">RandomForestRegressor</label><div class=\"sk-toggleable__content\"><pre>RandomForestRegressor()</pre></div></div></div></div></div></div></div>"
      ],
      "text/plain": [
       "Pipeline(steps=[('supervectorizer',\n",
       "                 SuperVectorizer(cardinality_threshold=50,\n",
       "                                 datetime_transformer=DatetimeFeatures(missing_values='ignore'),\n",
       "                                 high_card_cat_transformer=GapEncoder(),\n",
       "                                 low_card_cat_transformer=CountEncoder(combine_min_nan_groups=True,\n",
       "                                                                       handle_unknown=0),\n",
       "                                 numerical_transformer=SimpleImputer(strategy='median'))),\n",
       "                ('standardscaler', StandardScaler()),\n",
       "                ('randomforestregressor', RandomForestRegressor())])"
      ]
     },
     "execution_count": 18,
     "metadata": {},
     "output_type": "execute_result"
    }
   ],
   "source": [
    "random_forest_model.fit(X_train, y_train)"
   ]
  },
  {
   "cell_type": "code",
   "execution_count": 19,
   "id": "a3356265",
   "metadata": {},
   "outputs": [
    {
     "name": "stdout",
     "output_type": "stream",
     "text": [
      "After using dirty_cat transformations on our random forest regressor model, on average, \n",
      "each of the test set predictions was off by \u001b[1m16.253 or 9.764%.\n"
     ]
    }
   ],
   "source": [
    "y_pred = random_forest_model.predict(X_test)\n",
    "\n",
    "# Compare the difference between the true salaries versus the predictions\n",
    "error = mean_absolute_error(y_test, y_pred)\n",
    "error2 = mean_absolute_percentage_error(y_test, y_pred)\n",
    "\n",
    "print(f'After using dirty_cat transformations on our random forest regressor model, on average, \\n\\\n",
    "each of the test set predictions was off by \\033[1m{error :,.3f} or {error2:,.3f}%.')"
   ]
  },
  {
   "cell_type": "markdown",
   "id": "7f26120c",
   "metadata": {},
   "source": [
    "After using dirty_cat on our data, we can decrease our mean absolute error by another 0.5 days on average."
   ]
  },
  {
   "cell_type": "markdown",
   "id": "51620d05",
   "metadata": {},
   "source": [
    "#### 3.3.5 HistGradientBoostingRegressor\n",
    "\n",
    "HistGradientBoostingRegressor is another ensemble method machine learning algorithm that also uses regression trees. However, this model also has ways to actively learn from missing NaN values that can contribute to growth. We try this model to see if it can learn from all the missing NaN values from the 'name' feature."
   ]
  },
  {
   "cell_type": "code",
   "execution_count": 20,
   "id": "0715504d",
   "metadata": {},
   "outputs": [
    {
     "name": "stdout",
     "output_type": "stream",
     "text": [
      "Binning 0.009 GB of training data: 0.071 s\n",
      "Fitting gradient boosted rounds:\n",
      "[1/100] 1 tree, 31 leaves, max depth = 10, in 0.010s\n",
      "[2/100] 1 tree, 31 leaves, max depth = 11, in 0.011s\n",
      "[3/100] 1 tree, 31 leaves, max depth = 9, in 0.012s\n",
      "[4/100] 1 tree, 31 leaves, max depth = 9, in 0.011s\n",
      "[5/100] 1 tree, 31 leaves, max depth = 11, in 0.012s\n",
      "[6/100] 1 tree, 31 leaves, max depth = 9, in 0.012s\n",
      "[7/100] 1 tree, 31 leaves, max depth = 10, in 0.011s\n",
      "[8/100] 1 tree, 31 leaves, max depth = 13, in 0.011s\n",
      "[9/100] 1 tree, 31 leaves, max depth = 12, in 0.011s\n",
      "[10/100] 1 tree, 31 leaves, max depth = 9, in 0.010s\n",
      "[11/100] 1 tree, 31 leaves, max depth = 10, in 0.011s\n",
      "[12/100] 1 tree, 31 leaves, max depth = 12, in 0.010s\n",
      "[13/100] 1 tree, 31 leaves, max depth = 10, in 0.011s\n",
      "[14/100] 1 tree, 31 leaves, max depth = 10, in 0.011s\n",
      "[15/100] 1 tree, 31 leaves, max depth = 9, in 0.010s\n",
      "[16/100] 1 tree, 31 leaves, max depth = 9, in 0.011s\n",
      "[17/100] 1 tree, 31 leaves, max depth = 11, in 0.010s\n",
      "[18/100] 1 tree, 31 leaves, max depth = 17, in 0.011s\n",
      "[19/100] 1 tree, 31 leaves, max depth = 11, in 0.011s\n",
      "[20/100] 1 tree, 31 leaves, max depth = 13, in 0.011s\n",
      "[21/100] 1 tree, 31 leaves, max depth = 9, in 0.009s\n",
      "[22/100] 1 tree, 31 leaves, max depth = 13, in 0.009s\n",
      "[23/100] 1 tree, 31 leaves, max depth = 14, in 0.011s\n",
      "[24/100] 1 tree, 31 leaves, max depth = 10, in 0.011s\n",
      "[25/100] 1 tree, 31 leaves, max depth = 14, in 0.010s\n",
      "[26/100] 1 tree, 31 leaves, max depth = 12, in 0.011s\n",
      "[27/100] 1 tree, 31 leaves, max depth = 13, in 0.011s\n",
      "[28/100] 1 tree, 31 leaves, max depth = 9, in 0.010s\n",
      "[29/100] 1 tree, 31 leaves, max depth = 14, in 0.010s\n",
      "[30/100] 1 tree, 31 leaves, max depth = 10, in 0.011s\n",
      "[31/100] 1 tree, 31 leaves, max depth = 15, in 0.011s\n",
      "[32/100] 1 tree, 31 leaves, max depth = 10, in 0.011s\n",
      "[33/100] 1 tree, 31 leaves, max depth = 13, in 0.011s\n",
      "[34/100] 1 tree, 31 leaves, max depth = 12, in 0.010s\n",
      "[35/100] 1 tree, 31 leaves, max depth = 14, in 0.011s\n",
      "[36/100] 1 tree, 31 leaves, max depth = 12, in 0.010s\n",
      "[37/100] 1 tree, 31 leaves, max depth = 10, in 0.010s\n",
      "[38/100] 1 tree, 31 leaves, max depth = 14, in 0.011s\n",
      "[39/100] 1 tree, 31 leaves, max depth = 16, in 0.011s\n",
      "[40/100] 1 tree, 31 leaves, max depth = 11, in 0.011s\n",
      "[41/100] 1 tree, 31 leaves, max depth = 14, in 0.010s\n",
      "[42/100] 1 tree, 31 leaves, max depth = 13, in 0.011s\n",
      "[43/100] 1 tree, 31 leaves, max depth = 9, in 0.010s\n",
      "[44/100] 1 tree, 31 leaves, max depth = 15, in 0.012s\n",
      "[45/100] 1 tree, 31 leaves, max depth = 15, in 0.010s\n",
      "[46/100] 1 tree, 31 leaves, max depth = 12, in 0.011s\n",
      "[47/100] 1 tree, 31 leaves, max depth = 16, in 0.011s\n",
      "[48/100] 1 tree, 31 leaves, max depth = 14, in 0.011s\n",
      "[49/100] 1 tree, 31 leaves, max depth = 14, in 0.011s\n",
      "[50/100] 1 tree, 31 leaves, max depth = 8, in 0.010s\n",
      "[51/100] 1 tree, 31 leaves, max depth = 12, in 0.011s\n",
      "[52/100] 1 tree, 31 leaves, max depth = 10, in 0.010s\n",
      "[53/100] 1 tree, 31 leaves, max depth = 16, in 0.010s\n",
      "[54/100] 1 tree, 31 leaves, max depth = 10, in 0.010s\n",
      "[55/100] 1 tree, 31 leaves, max depth = 11, in 0.011s\n",
      "[56/100] 1 tree, 31 leaves, max depth = 14, in 0.011s\n",
      "[57/100] 1 tree, 31 leaves, max depth = 12, in 0.011s\n",
      "[58/100] 1 tree, 31 leaves, max depth = 10, in 0.010s\n",
      "[59/100] 1 tree, 31 leaves, max depth = 12, in 0.010s\n",
      "[60/100] 1 tree, 31 leaves, max depth = 11, in 0.010s\n",
      "[61/100] 1 tree, 31 leaves, max depth = 11, in 0.010s\n",
      "[62/100] 1 tree, 31 leaves, max depth = 11, in 0.010s\n",
      "[63/100] 1 tree, 31 leaves, max depth = 9, in 0.010s\n",
      "[64/100] 1 tree, 31 leaves, max depth = 10, in 0.010s\n",
      "[65/100] 1 tree, 31 leaves, max depth = 13, in 0.010s\n",
      "[66/100] 1 tree, 31 leaves, max depth = 8, in 0.010s\n",
      "[67/100] 1 tree, 31 leaves, max depth = 14, in 0.011s\n",
      "[68/100] 1 tree, 31 leaves, max depth = 10, in 0.010s\n",
      "[69/100] 1 tree, 31 leaves, max depth = 13, in 0.011s\n",
      "[70/100] 1 tree, 31 leaves, max depth = 13, in 0.011s\n",
      "[71/100] 1 tree, 31 leaves, max depth = 10, in 0.009s\n",
      "[72/100] 1 tree, 31 leaves, max depth = 12, in 0.010s\n",
      "[73/100] 1 tree, 31 leaves, max depth = 9, in 0.011s\n",
      "[74/100] 1 tree, 31 leaves, max depth = 14, in 0.010s\n",
      "[75/100] 1 tree, 31 leaves, max depth = 11, in 0.010s\n",
      "[76/100] 1 tree, 31 leaves, max depth = 12, in 0.010s\n",
      "[77/100] 1 tree, 31 leaves, max depth = 8, in 0.010s\n",
      "[78/100] 1 tree, 31 leaves, max depth = 9, in 0.010s\n",
      "[79/100] 1 tree, 31 leaves, max depth = 7, in 0.011s\n",
      "[80/100] 1 tree, 31 leaves, max depth = 16, in 0.011s\n",
      "[81/100] 1 tree, 31 leaves, max depth = 9, in 0.010s\n",
      "[82/100] 1 tree, 31 leaves, max depth = 11, in 0.011s\n",
      "[83/100] 1 tree, 31 leaves, max depth = 11, in 0.011s\n",
      "[84/100] 1 tree, 31 leaves, max depth = 11, in 0.010s\n",
      "[85/100] 1 tree, 31 leaves, max depth = 10, in 0.010s\n",
      "[86/100] 1 tree, 31 leaves, max depth = 8, in 0.010s\n",
      "[87/100] 1 tree, 31 leaves, max depth = 12, in 0.010s\n",
      "[88/100] 1 tree, 31 leaves, max depth = 12, in 0.010s\n",
      "[89/100] 1 tree, 31 leaves, max depth = 9, in 0.010s\n",
      "[90/100] 1 tree, 31 leaves, max depth = 11, in 0.011s\n",
      "[91/100] 1 tree, 31 leaves, max depth = 12, in 0.010s\n",
      "[92/100] 1 tree, 31 leaves, max depth = 13, in 0.011s\n",
      "[93/100] 1 tree, 31 leaves, max depth = 9, in 0.011s\n",
      "[94/100] 1 tree, 31 leaves, max depth = 9, in 0.010s\n",
      "[95/100] 1 tree, 31 leaves, max depth = 13, in 0.011s\n",
      "[96/100] 1 tree, 31 leaves, max depth = 11, in 0.010s\n",
      "[97/100] 1 tree, 31 leaves, max depth = 10, in 0.010s\n",
      "[98/100] 1 tree, 31 leaves, max depth = 10, in 0.010s\n",
      "[99/100] 1 tree, 31 leaves, max depth = 12, in 0.011s\n",
      "[100/100] 1 tree, 31 leaves, max depth = 10, in 0.010s\n",
      "Fit 100 trees in 1.146 s, (3100 total leaves)\n",
      "Time spent computing histograms: 0.449s\n",
      "Time spent finding best splits:  0.102s\n",
      "Time spent applying splits:      0.166s\n",
      "Time spent predicting:           0.013s\n"
     ]
    },
    {
     "data": {
      "text/html": [
       "<style>#sk-container-id-2 {color: black;background-color: white;}#sk-container-id-2 pre{padding: 0;}#sk-container-id-2 div.sk-toggleable {background-color: white;}#sk-container-id-2 label.sk-toggleable__label {cursor: pointer;display: block;width: 100%;margin-bottom: 0;padding: 0.3em;box-sizing: border-box;text-align: center;}#sk-container-id-2 label.sk-toggleable__label-arrow:before {content: \"▸\";float: left;margin-right: 0.25em;color: #696969;}#sk-container-id-2 label.sk-toggleable__label-arrow:hover:before {color: black;}#sk-container-id-2 div.sk-estimator:hover label.sk-toggleable__label-arrow:before {color: black;}#sk-container-id-2 div.sk-toggleable__content {max-height: 0;max-width: 0;overflow: hidden;text-align: left;background-color: #f0f8ff;}#sk-container-id-2 div.sk-toggleable__content pre {margin: 0.2em;color: black;border-radius: 0.25em;background-color: #f0f8ff;}#sk-container-id-2 input.sk-toggleable__control:checked~div.sk-toggleable__content {max-height: 200px;max-width: 100%;overflow: auto;}#sk-container-id-2 input.sk-toggleable__control:checked~label.sk-toggleable__label-arrow:before {content: \"▾\";}#sk-container-id-2 div.sk-estimator input.sk-toggleable__control:checked~label.sk-toggleable__label {background-color: #d4ebff;}#sk-container-id-2 div.sk-label input.sk-toggleable__control:checked~label.sk-toggleable__label {background-color: #d4ebff;}#sk-container-id-2 input.sk-hidden--visually {border: 0;clip: rect(1px 1px 1px 1px);clip: rect(1px, 1px, 1px, 1px);height: 1px;margin: -1px;overflow: hidden;padding: 0;position: absolute;width: 1px;}#sk-container-id-2 div.sk-estimator {font-family: monospace;background-color: #f0f8ff;border: 1px dotted black;border-radius: 0.25em;box-sizing: border-box;margin-bottom: 0.5em;}#sk-container-id-2 div.sk-estimator:hover {background-color: #d4ebff;}#sk-container-id-2 div.sk-parallel-item::after {content: \"\";width: 100%;border-bottom: 1px solid gray;flex-grow: 1;}#sk-container-id-2 div.sk-label:hover label.sk-toggleable__label {background-color: #d4ebff;}#sk-container-id-2 div.sk-serial::before {content: \"\";position: absolute;border-left: 1px solid gray;box-sizing: border-box;top: 0;bottom: 0;left: 50%;z-index: 0;}#sk-container-id-2 div.sk-serial {display: flex;flex-direction: column;align-items: center;background-color: white;padding-right: 0.2em;padding-left: 0.2em;position: relative;}#sk-container-id-2 div.sk-item {position: relative;z-index: 1;}#sk-container-id-2 div.sk-parallel {display: flex;align-items: stretch;justify-content: center;background-color: white;position: relative;}#sk-container-id-2 div.sk-item::before, #sk-container-id-2 div.sk-parallel-item::before {content: \"\";position: absolute;border-left: 1px solid gray;box-sizing: border-box;top: 0;bottom: 0;left: 50%;z-index: -1;}#sk-container-id-2 div.sk-parallel-item {display: flex;flex-direction: column;z-index: 1;position: relative;background-color: white;}#sk-container-id-2 div.sk-parallel-item:first-child::after {align-self: flex-end;width: 50%;}#sk-container-id-2 div.sk-parallel-item:last-child::after {align-self: flex-start;width: 50%;}#sk-container-id-2 div.sk-parallel-item:only-child::after {width: 0;}#sk-container-id-2 div.sk-dashed-wrapped {border: 1px dashed gray;margin: 0 0.4em 0.5em 0.4em;box-sizing: border-box;padding-bottom: 0.4em;background-color: white;}#sk-container-id-2 div.sk-label label {font-family: monospace;font-weight: bold;display: inline-block;line-height: 1.2em;}#sk-container-id-2 div.sk-label-container {text-align: center;}#sk-container-id-2 div.sk-container {/* jupyter's `normalize.less` sets `[hidden] { display: none; }` but bootstrap.min.css set `[hidden] { display: none !important; }` so we also need the `!important` here to be able to override the default hidden behavior on the sphinx rendered scikit-learn.org. See: https://github.com/scikit-learn/scikit-learn/issues/21755 */display: inline-block !important;position: relative;}#sk-container-id-2 div.sk-text-repr-fallback {display: none;}</style><div id=\"sk-container-id-2\" class=\"sk-top-container\"><div class=\"sk-text-repr-fallback\"><pre>Pipeline(steps=[(&#x27;supervectorizer&#x27;,\n",
       "                 SuperVectorizer(cardinality_threshold=50,\n",
       "                                 datetime_transformer=DatetimeFeatures(missing_values=&#x27;ignore&#x27;),\n",
       "                                 high_card_cat_transformer=GapEncoder(),\n",
       "                                 low_card_cat_transformer=CountEncoder(combine_min_nan_groups=True,\n",
       "                                                                       handle_unknown=0),\n",
       "                                 numerical_transformer=StandardScaler())),\n",
       "                (&#x27;histgradientboostingregressor&#x27;,\n",
       "                 HistGradientBoostingRegressor(early_stopping=False,\n",
       "                                               random_state=0,\n",
       "                                               scoring=&#x27;mean_absolute_error&#x27;,\n",
       "                                               verbose=1))])</pre><b>In a Jupyter environment, please rerun this cell to show the HTML representation or trust the notebook. <br />On GitHub, the HTML representation is unable to render, please try loading this page with nbviewer.org.</b></div><div class=\"sk-container\" hidden><div class=\"sk-item sk-dashed-wrapped\"><div class=\"sk-label-container\"><div class=\"sk-label sk-toggleable\"><input class=\"sk-toggleable__control sk-hidden--visually\" id=\"sk-estimator-id-13\" type=\"checkbox\" ><label for=\"sk-estimator-id-13\" class=\"sk-toggleable__label sk-toggleable__label-arrow\">Pipeline</label><div class=\"sk-toggleable__content\"><pre>Pipeline(steps=[(&#x27;supervectorizer&#x27;,\n",
       "                 SuperVectorizer(cardinality_threshold=50,\n",
       "                                 datetime_transformer=DatetimeFeatures(missing_values=&#x27;ignore&#x27;),\n",
       "                                 high_card_cat_transformer=GapEncoder(),\n",
       "                                 low_card_cat_transformer=CountEncoder(combine_min_nan_groups=True,\n",
       "                                                                       handle_unknown=0),\n",
       "                                 numerical_transformer=StandardScaler())),\n",
       "                (&#x27;histgradientboostingregressor&#x27;,\n",
       "                 HistGradientBoostingRegressor(early_stopping=False,\n",
       "                                               random_state=0,\n",
       "                                               scoring=&#x27;mean_absolute_error&#x27;,\n",
       "                                               verbose=1))])</pre></div></div></div><div class=\"sk-serial\"><div class=\"sk-item sk-dashed-wrapped\"><div class=\"sk-label-container\"><div class=\"sk-label sk-toggleable\"><input class=\"sk-toggleable__control sk-hidden--visually\" id=\"sk-estimator-id-14\" type=\"checkbox\" ><label for=\"sk-estimator-id-14\" class=\"sk-toggleable__label sk-toggleable__label-arrow\">supervectorizer: SuperVectorizer</label><div class=\"sk-toggleable__content\"><pre>SuperVectorizer(cardinality_threshold=50,\n",
       "                datetime_transformer=DatetimeFeatures(missing_values=&#x27;ignore&#x27;),\n",
       "                high_card_cat_transformer=GapEncoder(),\n",
       "                low_card_cat_transformer=CountEncoder(combine_min_nan_groups=True,\n",
       "                                                      handle_unknown=0),\n",
       "                numerical_transformer=StandardScaler())</pre></div></div></div><div class=\"sk-parallel\"><div class=\"sk-parallel-item\"><div class=\"sk-item\"><div class=\"sk-label-container\"><div class=\"sk-label sk-toggleable\"><input class=\"sk-toggleable__control sk-hidden--visually\" id=\"sk-estimator-id-15\" type=\"checkbox\" ><label for=\"sk-estimator-id-15\" class=\"sk-toggleable__label sk-toggleable__label-arrow\">numeric</label><div class=\"sk-toggleable__content\"><pre>[&#x27;month_outcome&#x27;, &#x27;year_outcome&#x27;]</pre></div></div></div><div class=\"sk-serial\"><div class=\"sk-item\"><div class=\"sk-estimator sk-toggleable\"><input class=\"sk-toggleable__control sk-hidden--visually\" id=\"sk-estimator-id-16\" type=\"checkbox\" ><label for=\"sk-estimator-id-16\" class=\"sk-toggleable__label sk-toggleable__label-arrow\">StandardScaler</label><div class=\"sk-toggleable__content\"><pre>StandardScaler()</pre></div></div></div></div></div></div><div class=\"sk-parallel-item\"><div class=\"sk-item\"><div class=\"sk-label-container\"><div class=\"sk-label sk-toggleable\"><input class=\"sk-toggleable__control sk-hidden--visually\" id=\"sk-estimator-id-17\" type=\"checkbox\" ><label for=\"sk-estimator-id-17\" class=\"sk-toggleable__label sk-toggleable__label-arrow\">low_card_cat</label><div class=\"sk-toggleable__content\"><pre>[&#x27;sex_intake&#x27;, &#x27;intake_type&#x27;, &#x27;condition_intake&#x27;, &#x27;outcome&#x27;, &#x27;age_in_years_bins&#x27;]</pre></div></div></div><div class=\"sk-serial\"><div class=\"sk-item\"><div class=\"sk-estimator sk-toggleable\"><input class=\"sk-toggleable__control sk-hidden--visually\" id=\"sk-estimator-id-18\" type=\"checkbox\" ><label for=\"sk-estimator-id-18\" class=\"sk-toggleable__label sk-toggleable__label-arrow\">CountEncoder</label><div class=\"sk-toggleable__content\"><pre>CountEncoder(combine_min_nan_groups=True, handle_unknown=0)</pre></div></div></div></div></div></div><div class=\"sk-parallel-item\"><div class=\"sk-item\"><div class=\"sk-label-container\"><div class=\"sk-label sk-toggleable\"><input class=\"sk-toggleable__control sk-hidden--visually\" id=\"sk-estimator-id-19\" type=\"checkbox\" ><label for=\"sk-estimator-id-19\" class=\"sk-toggleable__label sk-toggleable__label-arrow\">high_card_cat</label><div class=\"sk-toggleable__content\"><pre>[&#x27;name&#x27;, &#x27;breed_category&#x27;]</pre></div></div></div><div class=\"sk-serial\"><div class=\"sk-item\"><div class=\"sk-estimator sk-toggleable\"><input class=\"sk-toggleable__control sk-hidden--visually\" id=\"sk-estimator-id-20\" type=\"checkbox\" ><label for=\"sk-estimator-id-20\" class=\"sk-toggleable__label sk-toggleable__label-arrow\">GapEncoder</label><div class=\"sk-toggleable__content\"><pre>GapEncoder()</pre></div></div></div></div></div></div><div class=\"sk-parallel-item\"><div class=\"sk-item\"><div class=\"sk-label-container\"><div class=\"sk-label sk-toggleable\"><input class=\"sk-toggleable__control sk-hidden--visually\" id=\"sk-estimator-id-21\" type=\"checkbox\" ><label for=\"sk-estimator-id-21\" class=\"sk-toggleable__label sk-toggleable__label-arrow\">remainder</label><div class=\"sk-toggleable__content\"><pre>[]</pre></div></div></div><div class=\"sk-serial\"><div class=\"sk-item\"><div class=\"sk-estimator sk-toggleable\"><input class=\"sk-toggleable__control sk-hidden--visually\" id=\"sk-estimator-id-22\" type=\"checkbox\" ><label for=\"sk-estimator-id-22\" class=\"sk-toggleable__label sk-toggleable__label-arrow\">passthrough</label><div class=\"sk-toggleable__content\"><pre>passthrough</pre></div></div></div></div></div></div></div></div><div class=\"sk-item\"><div class=\"sk-estimator sk-toggleable\"><input class=\"sk-toggleable__control sk-hidden--visually\" id=\"sk-estimator-id-23\" type=\"checkbox\" ><label for=\"sk-estimator-id-23\" class=\"sk-toggleable__label sk-toggleable__label-arrow\">HistGradientBoostingRegressor</label><div class=\"sk-toggleable__content\"><pre>HistGradientBoostingRegressor(early_stopping=False, random_state=0,\n",
       "                              scoring=&#x27;mean_absolute_error&#x27;, verbose=1)</pre></div></div></div></div></div></div></div>"
      ],
      "text/plain": [
       "Pipeline(steps=[('supervectorizer',\n",
       "                 SuperVectorizer(cardinality_threshold=50,\n",
       "                                 datetime_transformer=DatetimeFeatures(missing_values='ignore'),\n",
       "                                 high_card_cat_transformer=GapEncoder(),\n",
       "                                 low_card_cat_transformer=CountEncoder(combine_min_nan_groups=True,\n",
       "                                                                       handle_unknown=0),\n",
       "                                 numerical_transformer=StandardScaler())),\n",
       "                ('histgradientboostingregressor',\n",
       "                 HistGradientBoostingRegressor(early_stopping=False,\n",
       "                                               random_state=0,\n",
       "                                               scoring='mean_absolute_error',\n",
       "                                               verbose=1))])"
      ]
     },
     "execution_count": 20,
     "metadata": {},
     "output_type": "execute_result"
    }
   ],
   "source": [
    "hgbr_model = make_pipeline(\n",
    "    dirty_cat.SuperVectorizer(\n",
    "        cardinality_threshold=50,\n",
    "        low_card_cat_transformer=category_encoders.CountEncoder(handle_unknown=0),\n",
    "        high_card_cat_transformer=dirty_cat.GapEncoder(n_components=10),\n",
    "        numerical_transformer=StandardScaler(),\n",
    "        datetime_transformer=feature_engine.datetime.DatetimeFeatures(missing_values='ignore')\n",
    "    ),\n",
    "    HistGradientBoostingRegressor(\n",
    "        max_iter=100,\n",
    "        early_stopping=False,\n",
    "        scoring='mean_absolute_error',\n",
    "        validation_fraction=0.1,\n",
    "        n_iter_no_change=10,\n",
    "        verbose=1,\n",
    "        random_state=0\n",
    "    )\n",
    ")\n",
    "\n",
    "hgbr_model.fit(X_train, y_train)"
   ]
  },
  {
   "cell_type": "code",
   "execution_count": 21,
   "id": "aaa38be8",
   "metadata": {},
   "outputs": [
    {
     "name": "stdout",
     "output_type": "stream",
     "text": [
      "After using dirty_cat transformations on our HistGradientBoostingRegressor model, on average, \n",
      "each of the test set predictions was off by \u001b[1m15.571 or 12.348%.\n"
     ]
    }
   ],
   "source": [
    "y_pred = hgbr_model.predict(X_test)\n",
    "\n",
    "# Compare the difference between the true salaries versus the predictions\n",
    "error = mean_absolute_error(y_test, y_pred)\n",
    "error2 = mean_absolute_percentage_error(y_test, y_pred)\n",
    "\n",
    "print(f'After using dirty_cat transformations on our HistGradientBoostingRegressor model, on average, \\n\\\n",
    "each of the test set predictions was off by \\033[1m{error :,.3f} or {error2 :,.3f}%.')"
   ]
  },
  {
   "cell_type": "code",
   "execution_count": 22,
   "id": "4a6e8367",
   "metadata": {},
   "outputs": [],
   "source": [
    "y_tr_pred = hgbr_model.predict(X_train)\n",
    "y_te_pred = hgbr_model.predict(X_test)"
   ]
  },
  {
   "cell_type": "code",
   "execution_count": 23,
   "id": "4e55dfcb",
   "metadata": {},
   "outputs": [
    {
     "data": {
      "text/plain": [
       "(0.41547533103557377, 0.18229147462059503)"
      ]
     },
     "execution_count": 23,
     "metadata": {},
     "output_type": "execute_result"
    }
   ],
   "source": [
    "median_r2 = r2_score(y_train, y_tr_pred), r2_score(y_test, y_te_pred)\n",
    "median_r2"
   ]
  },
  {
   "cell_type": "code",
   "execution_count": 24,
   "id": "86eb960d",
   "metadata": {},
   "outputs": [
    {
     "data": {
      "text/plain": [
       "(13.99753150711958, 15.573157960258158)"
      ]
     },
     "execution_count": 24,
     "metadata": {},
     "output_type": "execute_result"
    }
   ],
   "source": [
    "median_mae = mean_absolute_error(y_train, y_tr_pred), mean_absolute_error(y_test, y_te_pred)\n",
    "median_mae"
   ]
  },
  {
   "cell_type": "code",
   "execution_count": 25,
   "id": "cefc30ea",
   "metadata": {},
   "outputs": [
    {
     "data": {
      "text/plain": [
       "(11.902614698371721, 12.347926422110675)"
      ]
     },
     "execution_count": 25,
     "metadata": {},
     "output_type": "execute_result"
    }
   ],
   "source": [
    "median_mape = mean_absolute_percentage_error(y_train, y_tr_pred), mean_absolute_percentage_error(y_test, y_te_pred)\n",
    "median_mape"
   ]
  },
  {
   "cell_type": "markdown",
   "id": "59cdd254",
   "metadata": {},
   "source": [
    "We see an average 11.7% difference in the forecasted value and the actual value in our training set.\n",
    "\n",
    "We also see an average 11.08% difference in the forecasted value and the actual value in our test set.\n",
    "\n"
   ]
  },
  {
   "cell_type": "markdown",
   "id": "57abc25d",
   "metadata": {},
   "source": [
    "#### 3.3.6 Cross Validation"
   ]
  },
  {
   "cell_type": "code",
   "execution_count": 26,
   "id": "62f97728",
   "metadata": {},
   "outputs": [
    {
     "name": "stdout",
     "output_type": "stream",
     "text": [
      "Binning 0.007 GB of training data: 0.054 s\n",
      "Fitting gradient boosted rounds:\n",
      "[1/100] 1 tree, 31 leaves, max depth = 9, in 0.010s\n",
      "[2/100] 1 tree, 31 leaves, max depth = 11, in 0.010s\n",
      "[3/100] 1 tree, 31 leaves, max depth = 10, in 0.011s\n",
      "[4/100] 1 tree, 31 leaves, max depth = 10, in 0.012s\n",
      "[5/100] 1 tree, 31 leaves, max depth = 8, in 0.011s\n",
      "[6/100] 1 tree, 31 leaves, max depth = 11, in 0.012s\n",
      "[7/100] 1 tree, 31 leaves, max depth = 10, in 0.012s\n",
      "[8/100] 1 tree, 31 leaves, max depth = 12, in 0.010s\n",
      "[9/100] 1 tree, 31 leaves, max depth = 9, in 0.011s\n",
      "[10/100] 1 tree, 31 leaves, max depth = 12, in 0.010s\n",
      "[11/100] 1 tree, 31 leaves, max depth = 9, in 0.011s\n",
      "[12/100] 1 tree, 31 leaves, max depth = 9, in 0.011s\n",
      "[13/100] 1 tree, 31 leaves, max depth = 12, in 0.011s\n",
      "[14/100] 1 tree, 31 leaves, max depth = 14, in 0.012s\n",
      "[15/100] 1 tree, 31 leaves, max depth = 13, in 0.010s\n",
      "[16/100] 1 tree, 31 leaves, max depth = 8, in 0.010s\n",
      "[17/100] 1 tree, 31 leaves, max depth = 11, in 0.011s\n",
      "[18/100] 1 tree, 31 leaves, max depth = 11, in 0.011s\n",
      "[19/100] 1 tree, 31 leaves, max depth = 11, in 0.012s\n",
      "[20/100] 1 tree, 31 leaves, max depth = 12, in 0.010s\n",
      "[21/100] 1 tree, 31 leaves, max depth = 13, in 0.011s\n",
      "[22/100] 1 tree, 31 leaves, max depth = 9, in 0.010s\n",
      "[23/100] 1 tree, 31 leaves, max depth = 13, in 0.010s\n",
      "[24/100] 1 tree, 31 leaves, max depth = 10, in 0.010s\n",
      "[25/100] 1 tree, 31 leaves, max depth = 11, in 0.010s\n",
      "[26/100] 1 tree, 31 leaves, max depth = 12, in 0.011s\n",
      "[27/100] 1 tree, 31 leaves, max depth = 10, in 0.010s\n",
      "[28/100] 1 tree, 31 leaves, max depth = 10, in 0.010s\n",
      "[29/100] 1 tree, 31 leaves, max depth = 17, in 0.011s\n",
      "[30/100] 1 tree, 31 leaves, max depth = 12, in 0.011s\n",
      "[31/100] 1 tree, 31 leaves, max depth = 10, in 0.010s\n",
      "[32/100] 1 tree, 31 leaves, max depth = 20, in 0.012s\n",
      "[33/100] 1 tree, 31 leaves, max depth = 17, in 0.011s\n",
      "[34/100] 1 tree, 31 leaves, max depth = 17, in 0.010s\n",
      "[35/100] 1 tree, 31 leaves, max depth = 11, in 0.012s\n",
      "[36/100] 1 tree, 31 leaves, max depth = 11, in 0.011s\n",
      "[37/100] 1 tree, 31 leaves, max depth = 9, in 0.011s\n",
      "[38/100] 1 tree, 31 leaves, max depth = 13, in 0.011s\n",
      "[39/100] 1 tree, 31 leaves, max depth = 12, in 0.011s\n",
      "[40/100] 1 tree, 31 leaves, max depth = 10, in 0.011s\n",
      "[41/100] 1 tree, 31 leaves, max depth = 13, in 0.011s\n",
      "[42/100] 1 tree, 31 leaves, max depth = 12, in 0.010s\n",
      "[43/100] 1 tree, 31 leaves, max depth = 13, in 0.011s\n",
      "[44/100] 1 tree, 31 leaves, max depth = 13, in 0.011s\n",
      "[45/100] 1 tree, 31 leaves, max depth = 15, in 0.011s\n",
      "[46/100] 1 tree, 31 leaves, max depth = 12, in 0.010s\n",
      "[47/100] 1 tree, 31 leaves, max depth = 10, in 0.011s\n",
      "[48/100] 1 tree, 31 leaves, max depth = 12, in 0.010s\n",
      "[49/100] 1 tree, 31 leaves, max depth = 9, in 0.010s\n",
      "[50/100] 1 tree, 31 leaves, max depth = 11, in 0.010s\n",
      "[51/100] 1 tree, 31 leaves, max depth = 14, in 0.011s\n",
      "[52/100] 1 tree, 31 leaves, max depth = 14, in 0.010s\n",
      "[53/100] 1 tree, 31 leaves, max depth = 12, in 0.011s\n",
      "[54/100] 1 tree, 31 leaves, max depth = 11, in 0.010s\n",
      "[55/100] 1 tree, 31 leaves, max depth = 11, in 0.012s\n",
      "[56/100] 1 tree, 31 leaves, max depth = 12, in 0.011s\n",
      "[57/100] 1 tree, 31 leaves, max depth = 13, in 0.010s\n",
      "[58/100] 1 tree, 31 leaves, max depth = 11, in 0.010s\n",
      "[59/100] 1 tree, 31 leaves, max depth = 11, in 0.011s\n",
      "[60/100] 1 tree, 31 leaves, max depth = 14, in 0.011s\n",
      "[61/100] 1 tree, 31 leaves, max depth = 14, in 0.009s\n",
      "[62/100] 1 tree, 31 leaves, max depth = 12, in 0.011s\n",
      "[63/100] 1 tree, 31 leaves, max depth = 14, in 0.011s\n",
      "[64/100] 1 tree, 31 leaves, max depth = 10, in 0.010s\n",
      "[65/100] 1 tree, 31 leaves, max depth = 8, in 0.011s\n",
      "[66/100] 1 tree, 31 leaves, max depth = 14, in 0.010s\n",
      "[67/100] 1 tree, 31 leaves, max depth = 13, in 0.011s\n",
      "[68/100] 1 tree, 31 leaves, max depth = 10, in 0.010s\n",
      "[69/100] 1 tree, 31 leaves, max depth = 10, in 0.011s\n",
      "[70/100] 1 tree, 31 leaves, max depth = 11, in 0.011s\n",
      "[71/100] 1 tree, 31 leaves, max depth = 14, in 0.011s\n",
      "[72/100] 1 tree, 31 leaves, max depth = 10, in 0.010s\n",
      "[73/100] 1 tree, 31 leaves, max depth = 11, in 0.012s\n",
      "[74/100] 1 tree, 31 leaves, max depth = 8, in 0.010s\n",
      "[75/100] 1 tree, 31 leaves, max depth = 9, in 0.010s\n",
      "[76/100] 1 tree, 31 leaves, max depth = 8, in 0.010s\n",
      "[77/100] 1 tree, 31 leaves, max depth = 10, in 0.010s\n",
      "[78/100] 1 tree, 31 leaves, max depth = 9, in 0.010s\n",
      "[79/100] 1 tree, 31 leaves, max depth = 9, in 0.010s\n",
      "[80/100] 1 tree, 31 leaves, max depth = 10, in 0.011s\n",
      "[81/100] 1 tree, 31 leaves, max depth = 9, in 0.010s\n",
      "[82/100] 1 tree, 31 leaves, max depth = 12, in 0.010s\n",
      "[83/100] 1 tree, 31 leaves, max depth = 12, in 0.010s\n",
      "[84/100] 1 tree, 31 leaves, max depth = 11, in 0.009s\n",
      "[85/100] 1 tree, 31 leaves, max depth = 10, in 0.011s\n",
      "[86/100] 1 tree, 31 leaves, max depth = 10, in 0.010s\n",
      "[87/100] 1 tree, 31 leaves, max depth = 9, in 0.010s\n",
      "[88/100] 1 tree, 31 leaves, max depth = 10, in 0.011s\n",
      "[89/100] 1 tree, 31 leaves, max depth = 8, in 0.010s\n",
      "[90/100] 1 tree, 31 leaves, max depth = 16, in 0.011s\n",
      "[91/100] 1 tree, 31 leaves, max depth = 10, in 0.010s\n",
      "[92/100] 1 tree, 31 leaves, max depth = 14, in 0.011s\n",
      "[93/100] 1 tree, 31 leaves, max depth = 10, in 0.010s\n",
      "[94/100] 1 tree, 31 leaves, max depth = 12, in 0.011s\n",
      "[95/100] 1 tree, 31 leaves, max depth = 15, in 0.011s\n",
      "[96/100] 1 tree, 31 leaves, max depth = 12, in 0.010s\n",
      "[97/100] 1 tree, 31 leaves, max depth = 12, in 0.011s\n",
      "[98/100] 1 tree, 31 leaves, max depth = 15, in 0.009s\n",
      "[99/100] 1 tree, 31 leaves, max depth = 10, in 0.010s\n",
      "[100/100] 1 tree, 31 leaves, max depth = 8, in 0.010s\n",
      "Fit 100 trees in 1.137 s, (3100 total leaves)\n",
      "Time spent computing histograms: 0.457s\n",
      "Time spent finding best splits:  0.102s\n",
      "Time spent applying splits:      0.168s\n",
      "Time spent predicting:           0.011s\n",
      "Binning 0.007 GB of training data: 0.057 s\n",
      "Fitting gradient boosted rounds:\n",
      "[1/100] 1 tree, 31 leaves, max depth = 10, in 0.010s\n",
      "[2/100] 1 tree, 31 leaves, max depth = 11, in 0.010s\n",
      "[3/100] 1 tree, 31 leaves, max depth = 10, in 0.010s\n",
      "[4/100] 1 tree, 31 leaves, max depth = 12, in 0.010s\n",
      "[5/100] 1 tree, 31 leaves, max depth = 13, in 0.010s\n",
      "[6/100] 1 tree, 31 leaves, max depth = 9, in 0.010s\n",
      "[7/100] 1 tree, 31 leaves, max depth = 11, in 0.010s\n",
      "[8/100] 1 tree, 31 leaves, max depth = 9, in 0.010s\n",
      "[9/100] 1 tree, 31 leaves, max depth = 11, in 0.009s\n",
      "[10/100] 1 tree, 31 leaves, max depth = 10, in 0.009s\n",
      "[11/100] 1 tree, 31 leaves, max depth = 11, in 0.010s\n",
      "[12/100] 1 tree, 31 leaves, max depth = 11, in 0.010s\n",
      "[13/100] 1 tree, 31 leaves, max depth = 10, in 0.009s\n",
      "[14/100] 1 tree, 31 leaves, max depth = 11, in 0.009s\n",
      "[15/100] 1 tree, 31 leaves, max depth = 13, in 0.009s\n",
      "[16/100] 1 tree, 31 leaves, max depth = 10, in 0.009s\n",
      "[17/100] 1 tree, 31 leaves, max depth = 10, in 0.010s\n",
      "[18/100] 1 tree, 31 leaves, max depth = 10, in 0.010s\n",
      "[19/100] 1 tree, 31 leaves, max depth = 11, in 0.011s\n",
      "[20/100] 1 tree, 31 leaves, max depth = 12, in 0.009s\n",
      "[21/100] 1 tree, 31 leaves, max depth = 11, in 0.010s\n",
      "[22/100] 1 tree, 31 leaves, max depth = 13, in 0.009s\n",
      "[23/100] 1 tree, 31 leaves, max depth = 10, in 0.010s\n",
      "[24/100] 1 tree, 31 leaves, max depth = 15, in 0.010s\n",
      "[25/100] 1 tree, 31 leaves, max depth = 13, in 0.010s\n",
      "[26/100] 1 tree, 31 leaves, max depth = 9, in 0.009s\n",
      "[27/100] 1 tree, 31 leaves, max depth = 13, in 0.009s\n",
      "[28/100] 1 tree, 31 leaves, max depth = 18, in 0.009s\n",
      "[29/100] 1 tree, 31 leaves, max depth = 15, in 0.010s\n",
      "[30/100] 1 tree, 31 leaves, max depth = 12, in 0.010s\n",
      "[31/100] 1 tree, 31 leaves, max depth = 9, in 0.010s\n",
      "[32/100] 1 tree, 31 leaves, max depth = 9, in 0.010s\n",
      "[33/100] 1 tree, 31 leaves, max depth = 13, in 0.009s\n",
      "[34/100] 1 tree, 31 leaves, max depth = 12, in 0.009s\n",
      "[35/100] 1 tree, 31 leaves, max depth = 14, in 0.009s\n",
      "[36/100] 1 tree, 31 leaves, max depth = 12, in 0.010s\n",
      "[37/100] 1 tree, 31 leaves, max depth = 12, in 0.010s\n",
      "[38/100] 1 tree, 31 leaves, max depth = 11, in 0.009s\n",
      "[39/100] 1 tree, 31 leaves, max depth = 11, in 0.009s\n",
      "[40/100] 1 tree, 31 leaves, max depth = 13, in 0.009s\n",
      "[41/100] 1 tree, 31 leaves, max depth = 15, in 0.009s\n",
      "[42/100] 1 tree, 31 leaves, max depth = 9, in 0.010s\n",
      "[43/100] 1 tree, 31 leaves, max depth = 10, in 0.009s\n",
      "[44/100] 1 tree, 31 leaves, max depth = 15, in 0.009s\n",
      "[45/100] 1 tree, 31 leaves, max depth = 16, in 0.013s\n",
      "[46/100] 1 tree, 31 leaves, max depth = 11, in 0.009s\n"
     ]
    },
    {
     "name": "stdout",
     "output_type": "stream",
     "text": [
      "[47/100] 1 tree, 31 leaves, max depth = 11, in 0.009s\n",
      "[48/100] 1 tree, 31 leaves, max depth = 12, in 0.010s\n",
      "[49/100] 1 tree, 31 leaves, max depth = 11, in 0.010s\n",
      "[50/100] 1 tree, 31 leaves, max depth = 10, in 0.009s\n",
      "[51/100] 1 tree, 31 leaves, max depth = 12, in 0.010s\n",
      "[52/100] 1 tree, 31 leaves, max depth = 11, in 0.009s\n",
      "[53/100] 1 tree, 31 leaves, max depth = 11, in 0.009s\n",
      "[54/100] 1 tree, 31 leaves, max depth = 16, in 0.009s\n",
      "[55/100] 1 tree, 31 leaves, max depth = 12, in 0.009s\n",
      "[56/100] 1 tree, 31 leaves, max depth = 11, in 0.010s\n",
      "[57/100] 1 tree, 31 leaves, max depth = 11, in 0.010s\n",
      "[58/100] 1 tree, 31 leaves, max depth = 14, in 0.009s\n",
      "[59/100] 1 tree, 31 leaves, max depth = 14, in 0.009s\n",
      "[60/100] 1 tree, 31 leaves, max depth = 12, in 0.009s\n",
      "[61/100] 1 tree, 31 leaves, max depth = 12, in 0.009s\n",
      "[62/100] 1 tree, 31 leaves, max depth = 9, in 0.010s\n",
      "[63/100] 1 tree, 31 leaves, max depth = 11, in 0.009s\n",
      "[64/100] 1 tree, 31 leaves, max depth = 8, in 0.009s\n",
      "[65/100] 1 tree, 31 leaves, max depth = 12, in 0.010s\n",
      "[66/100] 1 tree, 31 leaves, max depth = 9, in 0.009s\n",
      "[67/100] 1 tree, 31 leaves, max depth = 12, in 0.009s\n",
      "[68/100] 1 tree, 31 leaves, max depth = 10, in 0.010s\n",
      "[69/100] 1 tree, 31 leaves, max depth = 12, in 0.010s\n",
      "[70/100] 1 tree, 31 leaves, max depth = 9, in 0.009s\n",
      "[71/100] 1 tree, 31 leaves, max depth = 11, in 0.010s\n",
      "[72/100] 1 tree, 31 leaves, max depth = 13, in 0.008s\n",
      "[73/100] 1 tree, 31 leaves, max depth = 12, in 0.009s\n",
      "[74/100] 1 tree, 31 leaves, max depth = 8, in 0.010s\n",
      "[75/100] 1 tree, 31 leaves, max depth = 10, in 0.010s\n",
      "[76/100] 1 tree, 31 leaves, max depth = 12, in 0.009s\n",
      "[77/100] 1 tree, 31 leaves, max depth = 9, in 0.009s\n",
      "[78/100] 1 tree, 31 leaves, max depth = 8, in 0.008s\n",
      "[79/100] 1 tree, 31 leaves, max depth = 11, in 0.009s\n",
      "[80/100] 1 tree, 31 leaves, max depth = 16, in 0.009s\n",
      "[81/100] 1 tree, 31 leaves, max depth = 9, in 0.009s\n",
      "[82/100] 1 tree, 31 leaves, max depth = 11, in 0.009s\n",
      "[83/100] 1 tree, 31 leaves, max depth = 10, in 0.009s\n",
      "[84/100] 1 tree, 31 leaves, max depth = 12, in 0.009s\n",
      "[85/100] 1 tree, 31 leaves, max depth = 11, in 0.009s\n",
      "[86/100] 1 tree, 31 leaves, max depth = 14, in 0.009s\n",
      "[87/100] 1 tree, 31 leaves, max depth = 11, in 0.009s\n",
      "[88/100] 1 tree, 31 leaves, max depth = 12, in 0.009s\n",
      "[89/100] 1 tree, 31 leaves, max depth = 10, in 0.009s\n",
      "[90/100] 1 tree, 31 leaves, max depth = 8, in 0.009s\n",
      "[91/100] 1 tree, 31 leaves, max depth = 9, in 0.010s\n",
      "[92/100] 1 tree, 31 leaves, max depth = 14, in 0.010s\n",
      "[93/100] 1 tree, 31 leaves, max depth = 10, in 0.009s\n",
      "[94/100] 1 tree, 31 leaves, max depth = 9, in 0.009s\n",
      "[95/100] 1 tree, 31 leaves, max depth = 8, in 0.009s\n",
      "[96/100] 1 tree, 31 leaves, max depth = 11, in 0.009s\n",
      "[97/100] 1 tree, 31 leaves, max depth = 14, in 0.009s\n",
      "[98/100] 1 tree, 31 leaves, max depth = 12, in 0.010s\n",
      "[99/100] 1 tree, 31 leaves, max depth = 9, in 0.009s\n",
      "[100/100] 1 tree, 31 leaves, max depth = 10, in 0.008s\n",
      "Fit 100 trees in 1.016 s, (3100 total leaves)\n",
      "Time spent computing histograms: 0.407s\n",
      "Time spent finding best splits:  0.090s\n",
      "Time spent applying splits:      0.147s\n",
      "Time spent predicting:           0.010s\n",
      "Binning 0.007 GB of training data: 0.054 s\n",
      "Fitting gradient boosted rounds:\n",
      "[1/100] 1 tree, 31 leaves, max depth = 8, in 0.010s\n",
      "[2/100] 1 tree, 31 leaves, max depth = 9, in 0.010s\n",
      "[3/100] 1 tree, 31 leaves, max depth = 10, in 0.010s\n",
      "[4/100] 1 tree, 31 leaves, max depth = 8, in 0.010s\n",
      "[5/100] 1 tree, 31 leaves, max depth = 11, in 0.010s\n",
      "[6/100] 1 tree, 31 leaves, max depth = 10, in 0.009s\n",
      "[7/100] 1 tree, 31 leaves, max depth = 12, in 0.010s\n",
      "[8/100] 1 tree, 31 leaves, max depth = 8, in 0.009s\n",
      "[9/100] 1 tree, 31 leaves, max depth = 10, in 0.009s\n",
      "[10/100] 1 tree, 31 leaves, max depth = 12, in 0.010s\n",
      "[11/100] 1 tree, 31 leaves, max depth = 8, in 0.011s\n",
      "[12/100] 1 tree, 31 leaves, max depth = 12, in 0.010s\n",
      "[13/100] 1 tree, 31 leaves, max depth = 10, in 0.010s\n",
      "[14/100] 1 tree, 31 leaves, max depth = 9, in 0.009s\n",
      "[15/100] 1 tree, 31 leaves, max depth = 12, in 0.010s\n",
      "[16/100] 1 tree, 31 leaves, max depth = 10, in 0.011s\n",
      "[17/100] 1 tree, 31 leaves, max depth = 11, in 0.010s\n",
      "[18/100] 1 tree, 31 leaves, max depth = 10, in 0.010s\n",
      "[19/100] 1 tree, 31 leaves, max depth = 18, in 0.010s\n",
      "[20/100] 1 tree, 31 leaves, max depth = 11, in 0.010s\n",
      "[21/100] 1 tree, 31 leaves, max depth = 13, in 0.010s\n",
      "[22/100] 1 tree, 31 leaves, max depth = 9, in 0.009s\n",
      "[23/100] 1 tree, 31 leaves, max depth = 13, in 0.010s\n",
      "[24/100] 1 tree, 31 leaves, max depth = 20, in 0.010s\n",
      "[25/100] 1 tree, 31 leaves, max depth = 14, in 0.009s\n",
      "[26/100] 1 tree, 31 leaves, max depth = 13, in 0.010s\n",
      "[27/100] 1 tree, 31 leaves, max depth = 15, in 0.010s\n",
      "[28/100] 1 tree, 31 leaves, max depth = 13, in 0.010s\n",
      "[29/100] 1 tree, 31 leaves, max depth = 9, in 0.010s\n",
      "[30/100] 1 tree, 31 leaves, max depth = 11, in 0.011s\n",
      "[31/100] 1 tree, 31 leaves, max depth = 11, in 0.011s\n",
      "[32/100] 1 tree, 31 leaves, max depth = 11, in 0.010s\n",
      "[33/100] 1 tree, 31 leaves, max depth = 10, in 0.010s\n",
      "[34/100] 1 tree, 31 leaves, max depth = 15, in 0.009s\n",
      "[35/100] 1 tree, 31 leaves, max depth = 11, in 0.010s\n",
      "[36/100] 1 tree, 31 leaves, max depth = 13, in 0.009s\n",
      "[37/100] 1 tree, 31 leaves, max depth = 16, in 0.010s\n",
      "[38/100] 1 tree, 31 leaves, max depth = 13, in 0.010s\n",
      "[39/100] 1 tree, 31 leaves, max depth = 16, in 0.010s\n",
      "[40/100] 1 tree, 31 leaves, max depth = 13, in 0.010s\n",
      "[41/100] 1 tree, 31 leaves, max depth = 12, in 0.010s\n",
      "[42/100] 1 tree, 31 leaves, max depth = 13, in 0.010s\n",
      "[43/100] 1 tree, 31 leaves, max depth = 10, in 0.010s\n",
      "[44/100] 1 tree, 31 leaves, max depth = 13, in 0.009s\n",
      "[45/100] 1 tree, 31 leaves, max depth = 8, in 0.010s\n",
      "[46/100] 1 tree, 31 leaves, max depth = 10, in 0.010s\n",
      "[47/100] 1 tree, 31 leaves, max depth = 15, in 0.009s\n",
      "[48/100] 1 tree, 31 leaves, max depth = 11, in 0.009s\n",
      "[49/100] 1 tree, 31 leaves, max depth = 12, in 0.010s\n",
      "[50/100] 1 tree, 31 leaves, max depth = 13, in 0.009s\n",
      "[51/100] 1 tree, 31 leaves, max depth = 14, in 0.010s\n",
      "[52/100] 1 tree, 31 leaves, max depth = 13, in 0.010s\n",
      "[53/100] 1 tree, 31 leaves, max depth = 12, in 0.010s\n",
      "[54/100] 1 tree, 31 leaves, max depth = 11, in 0.009s\n",
      "[55/100] 1 tree, 31 leaves, max depth = 11, in 0.010s\n",
      "[56/100] 1 tree, 31 leaves, max depth = 12, in 0.010s\n",
      "[57/100] 1 tree, 31 leaves, max depth = 13, in 0.010s\n",
      "[58/100] 1 tree, 31 leaves, max depth = 10, in 0.009s\n",
      "[59/100] 1 tree, 31 leaves, max depth = 13, in 0.009s\n",
      "[60/100] 1 tree, 31 leaves, max depth = 11, in 0.009s\n",
      "[61/100] 1 tree, 31 leaves, max depth = 13, in 0.010s\n",
      "[62/100] 1 tree, 31 leaves, max depth = 13, in 0.009s\n",
      "[63/100] 1 tree, 31 leaves, max depth = 11, in 0.009s\n",
      "[64/100] 1 tree, 31 leaves, max depth = 10, in 0.009s\n",
      "[65/100] 1 tree, 31 leaves, max depth = 10, in 0.009s\n",
      "[66/100] 1 tree, 31 leaves, max depth = 9, in 0.010s\n",
      "[67/100] 1 tree, 31 leaves, max depth = 10, in 0.010s\n",
      "[68/100] 1 tree, 31 leaves, max depth = 10, in 0.009s\n",
      "[69/100] 1 tree, 31 leaves, max depth = 13, in 0.010s\n",
      "[70/100] 1 tree, 31 leaves, max depth = 10, in 0.009s\n",
      "[71/100] 1 tree, 31 leaves, max depth = 9, in 0.009s\n",
      "[72/100] 1 tree, 31 leaves, max depth = 10, in 0.009s\n",
      "[73/100] 1 tree, 31 leaves, max depth = 14, in 0.010s\n",
      "[74/100] 1 tree, 31 leaves, max depth = 10, in 0.009s\n",
      "[75/100] 1 tree, 31 leaves, max depth = 10, in 0.009s\n",
      "[76/100] 1 tree, 31 leaves, max depth = 13, in 0.009s\n",
      "[77/100] 1 tree, 31 leaves, max depth = 9, in 0.010s\n",
      "[78/100] 1 tree, 31 leaves, max depth = 11, in 0.009s\n",
      "[79/100] 1 tree, 31 leaves, max depth = 12, in 0.010s\n",
      "[80/100] 1 tree, 31 leaves, max depth = 12, in 0.010s\n",
      "[81/100] 1 tree, 31 leaves, max depth = 10, in 0.009s\n",
      "[82/100] 1 tree, 31 leaves, max depth = 10, in 0.009s\n",
      "[83/100] 1 tree, 31 leaves, max depth = 12, in 0.009s\n",
      "[84/100] 1 tree, 31 leaves, max depth = 10, in 0.008s\n",
      "[85/100] 1 tree, 31 leaves, max depth = 8, in 0.009s\n",
      "[86/100] 1 tree, 31 leaves, max depth = 13, in 0.009s\n",
      "[87/100] 1 tree, 31 leaves, max depth = 14, in 0.010s\n",
      "[88/100] 1 tree, 31 leaves, max depth = 12, in 0.009s\n",
      "[89/100] 1 tree, 31 leaves, max depth = 10, in 0.010s\n",
      "[90/100] 1 tree, 31 leaves, max depth = 11, in 0.010s\n",
      "[91/100] 1 tree, 31 leaves, max depth = 13, in 0.009s\n",
      "[92/100] 1 tree, 31 leaves, max depth = 9, in 0.009s\n",
      "[93/100] 1 tree, 31 leaves, max depth = 10, in 0.009s\n"
     ]
    },
    {
     "name": "stdout",
     "output_type": "stream",
     "text": [
      "[94/100] 1 tree, 31 leaves, max depth = 9, in 0.009s\n",
      "[95/100] 1 tree, 31 leaves, max depth = 10, in 0.009s\n",
      "[96/100] 1 tree, 31 leaves, max depth = 11, in 0.009s\n",
      "[97/100] 1 tree, 31 leaves, max depth = 13, in 0.009s\n",
      "[98/100] 1 tree, 31 leaves, max depth = 13, in 0.009s\n",
      "[99/100] 1 tree, 31 leaves, max depth = 10, in 0.010s\n",
      "[100/100] 1 tree, 31 leaves, max depth = 11, in 0.010s\n",
      "Fit 100 trees in 1.033 s, (3100 total leaves)\n",
      "Time spent computing histograms: 0.410s\n",
      "Time spent finding best splits:  0.093s\n",
      "Time spent applying splits:      0.153s\n",
      "Time spent predicting:           0.010s\n",
      "Binning 0.007 GB of training data: 0.054 s\n",
      "Fitting gradient boosted rounds:\n",
      "[1/100] 1 tree, 31 leaves, max depth = 10, in 0.010s\n",
      "[2/100] 1 tree, 31 leaves, max depth = 8, in 0.010s\n",
      "[3/100] 1 tree, 31 leaves, max depth = 10, in 0.010s\n",
      "[4/100] 1 tree, 31 leaves, max depth = 9, in 0.010s\n",
      "[5/100] 1 tree, 31 leaves, max depth = 8, in 0.011s\n",
      "[6/100] 1 tree, 31 leaves, max depth = 8, in 0.011s\n",
      "[7/100] 1 tree, 31 leaves, max depth = 8, in 0.013s\n",
      "[8/100] 1 tree, 31 leaves, max depth = 11, in 0.013s\n",
      "[9/100] 1 tree, 31 leaves, max depth = 10, in 0.012s\n",
      "[10/100] 1 tree, 31 leaves, max depth = 12, in 0.010s\n",
      "[11/100] 1 tree, 31 leaves, max depth = 10, in 0.010s\n",
      "[12/100] 1 tree, 31 leaves, max depth = 10, in 0.010s\n",
      "[13/100] 1 tree, 31 leaves, max depth = 14, in 0.011s\n",
      "[14/100] 1 tree, 31 leaves, max depth = 11, in 0.010s\n",
      "[15/100] 1 tree, 31 leaves, max depth = 12, in 0.010s\n",
      "[16/100] 1 tree, 31 leaves, max depth = 11, in 0.010s\n",
      "[17/100] 1 tree, 31 leaves, max depth = 12, in 0.010s\n",
      "[18/100] 1 tree, 31 leaves, max depth = 12, in 0.010s\n",
      "[19/100] 1 tree, 31 leaves, max depth = 13, in 0.010s\n",
      "[20/100] 1 tree, 31 leaves, max depth = 13, in 0.009s\n",
      "[21/100] 1 tree, 31 leaves, max depth = 14, in 0.010s\n",
      "[22/100] 1 tree, 31 leaves, max depth = 12, in 0.009s\n",
      "[23/100] 1 tree, 31 leaves, max depth = 11, in 0.010s\n",
      "[24/100] 1 tree, 31 leaves, max depth = 13, in 0.010s\n",
      "[25/100] 1 tree, 31 leaves, max depth = 14, in 0.009s\n",
      "[26/100] 1 tree, 31 leaves, max depth = 11, in 0.009s\n",
      "[27/100] 1 tree, 31 leaves, max depth = 12, in 0.009s\n",
      "[28/100] 1 tree, 31 leaves, max depth = 16, in 0.010s\n",
      "[29/100] 1 tree, 31 leaves, max depth = 17, in 0.009s\n",
      "[30/100] 1 tree, 31 leaves, max depth = 14, in 0.009s\n",
      "[31/100] 1 tree, 31 leaves, max depth = 14, in 0.010s\n",
      "[32/100] 1 tree, 31 leaves, max depth = 11, in 0.010s\n",
      "[33/100] 1 tree, 31 leaves, max depth = 16, in 0.009s\n",
      "[34/100] 1 tree, 31 leaves, max depth = 12, in 0.009s\n",
      "[35/100] 1 tree, 31 leaves, max depth = 11, in 0.009s\n",
      "[36/100] 1 tree, 31 leaves, max depth = 13, in 0.009s\n",
      "[37/100] 1 tree, 31 leaves, max depth = 11, in 0.009s\n",
      "[38/100] 1 tree, 31 leaves, max depth = 15, in 0.008s\n",
      "[39/100] 1 tree, 31 leaves, max depth = 10, in 0.009s\n",
      "[40/100] 1 tree, 31 leaves, max depth = 10, in 0.009s\n",
      "[41/100] 1 tree, 31 leaves, max depth = 13, in 0.010s\n",
      "[42/100] 1 tree, 31 leaves, max depth = 12, in 0.010s\n",
      "[43/100] 1 tree, 31 leaves, max depth = 11, in 0.012s\n",
      "[44/100] 1 tree, 31 leaves, max depth = 15, in 0.009s\n",
      "[45/100] 1 tree, 31 leaves, max depth = 13, in 0.009s\n",
      "[46/100] 1 tree, 31 leaves, max depth = 11, in 0.009s\n",
      "[47/100] 1 tree, 31 leaves, max depth = 14, in 0.009s\n",
      "[48/100] 1 tree, 31 leaves, max depth = 13, in 0.010s\n",
      "[49/100] 1 tree, 31 leaves, max depth = 11, in 0.010s\n",
      "[50/100] 1 tree, 31 leaves, max depth = 10, in 0.009s\n",
      "[51/100] 1 tree, 31 leaves, max depth = 13, in 0.010s\n",
      "[52/100] 1 tree, 31 leaves, max depth = 14, in 0.010s\n",
      "[53/100] 1 tree, 31 leaves, max depth = 13, in 0.009s\n",
      "[54/100] 1 tree, 31 leaves, max depth = 13, in 0.009s\n",
      "[55/100] 1 tree, 31 leaves, max depth = 13, in 0.009s\n",
      "[56/100] 1 tree, 31 leaves, max depth = 12, in 0.009s\n",
      "[57/100] 1 tree, 31 leaves, max depth = 12, in 0.009s\n",
      "[58/100] 1 tree, 31 leaves, max depth = 10, in 0.009s\n",
      "[59/100] 1 tree, 31 leaves, max depth = 10, in 0.009s\n",
      "[60/100] 1 tree, 31 leaves, max depth = 15, in 0.008s\n",
      "[61/100] 1 tree, 31 leaves, max depth = 11, in 0.009s\n",
      "[62/100] 1 tree, 31 leaves, max depth = 12, in 0.009s\n",
      "[63/100] 1 tree, 31 leaves, max depth = 13, in 0.009s\n",
      "[64/100] 1 tree, 31 leaves, max depth = 11, in 0.009s\n",
      "[65/100] 1 tree, 31 leaves, max depth = 8, in 0.009s\n",
      "[66/100] 1 tree, 31 leaves, max depth = 8, in 0.009s\n",
      "[67/100] 1 tree, 31 leaves, max depth = 13, in 0.009s\n",
      "[68/100] 1 tree, 31 leaves, max depth = 12, in 0.008s\n",
      "[69/100] 1 tree, 31 leaves, max depth = 9, in 0.008s\n",
      "[70/100] 1 tree, 31 leaves, max depth = 10, in 0.009s\n",
      "[71/100] 1 tree, 31 leaves, max depth = 17, in 0.009s\n",
      "[72/100] 1 tree, 31 leaves, max depth = 12, in 0.009s\n",
      "[73/100] 1 tree, 31 leaves, max depth = 10, in 0.009s\n",
      "[74/100] 1 tree, 31 leaves, max depth = 10, in 0.009s\n",
      "[75/100] 1 tree, 31 leaves, max depth = 14, in 0.009s\n",
      "[76/100] 1 tree, 31 leaves, max depth = 17, in 0.008s\n",
      "[77/100] 1 tree, 31 leaves, max depth = 10, in 0.010s\n",
      "[78/100] 1 tree, 31 leaves, max depth = 12, in 0.009s\n",
      "[79/100] 1 tree, 31 leaves, max depth = 11, in 0.009s\n",
      "[80/100] 1 tree, 31 leaves, max depth = 11, in 0.009s\n",
      "[81/100] 1 tree, 31 leaves, max depth = 12, in 0.009s\n",
      "[82/100] 1 tree, 31 leaves, max depth = 12, in 0.009s\n",
      "[83/100] 1 tree, 31 leaves, max depth = 11, in 0.008s\n",
      "[84/100] 1 tree, 31 leaves, max depth = 10, in 0.009s\n",
      "[85/100] 1 tree, 31 leaves, max depth = 11, in 0.009s\n",
      "[86/100] 1 tree, 31 leaves, max depth = 13, in 0.009s\n",
      "[87/100] 1 tree, 31 leaves, max depth = 12, in 0.009s\n",
      "[88/100] 1 tree, 31 leaves, max depth = 10, in 0.009s\n",
      "[89/100] 1 tree, 31 leaves, max depth = 9, in 0.009s\n",
      "[90/100] 1 tree, 31 leaves, max depth = 11, in 0.009s\n",
      "[91/100] 1 tree, 31 leaves, max depth = 10, in 0.009s\n",
      "[92/100] 1 tree, 31 leaves, max depth = 12, in 0.009s\n",
      "[93/100] 1 tree, 31 leaves, max depth = 12, in 0.008s\n",
      "[94/100] 1 tree, 31 leaves, max depth = 12, in 0.009s\n",
      "[95/100] 1 tree, 31 leaves, max depth = 11, in 0.009s\n",
      "[96/100] 1 tree, 31 leaves, max depth = 9, in 0.010s\n",
      "[97/100] 1 tree, 31 leaves, max depth = 11, in 0.010s\n",
      "[98/100] 1 tree, 31 leaves, max depth = 8, in 0.010s\n",
      "[99/100] 1 tree, 31 leaves, max depth = 8, in 0.009s\n",
      "[100/100] 1 tree, 31 leaves, max depth = 12, in 0.010s\n",
      "Fit 100 trees in 1.017 s, (3100 total leaves)\n",
      "Time spent computing histograms: 0.410s\n",
      "Time spent finding best splits:  0.091s\n",
      "Time spent applying splits:      0.148s\n",
      "Time spent predicting:           0.009s\n",
      "Binning 0.007 GB of training data: 0.056 s\n",
      "Fitting gradient boosted rounds:\n",
      "[1/100] 1 tree, 31 leaves, max depth = 9, in 0.011s\n",
      "[2/100] 1 tree, 31 leaves, max depth = 9, in 0.011s\n",
      "[3/100] 1 tree, 31 leaves, max depth = 10, in 0.011s\n",
      "[4/100] 1 tree, 31 leaves, max depth = 10, in 0.011s\n",
      "[5/100] 1 tree, 31 leaves, max depth = 9, in 0.012s\n",
      "[6/100] 1 tree, 31 leaves, max depth = 11, in 0.011s\n",
      "[7/100] 1 tree, 31 leaves, max depth = 12, in 0.010s\n",
      "[8/100] 1 tree, 31 leaves, max depth = 11, in 0.011s\n",
      "[9/100] 1 tree, 31 leaves, max depth = 13, in 0.011s\n",
      "[10/100] 1 tree, 31 leaves, max depth = 15, in 0.011s\n",
      "[11/100] 1 tree, 31 leaves, max depth = 12, in 0.010s\n",
      "[12/100] 1 tree, 31 leaves, max depth = 11, in 0.010s\n",
      "[13/100] 1 tree, 31 leaves, max depth = 13, in 0.012s\n",
      "[14/100] 1 tree, 31 leaves, max depth = 15, in 0.010s\n",
      "[15/100] 1 tree, 31 leaves, max depth = 12, in 0.011s\n",
      "[16/100] 1 tree, 31 leaves, max depth = 12, in 0.009s\n",
      "[17/100] 1 tree, 31 leaves, max depth = 11, in 0.011s\n",
      "[18/100] 1 tree, 31 leaves, max depth = 11, in 0.010s\n",
      "[19/100] 1 tree, 31 leaves, max depth = 14, in 0.011s\n",
      "[20/100] 1 tree, 31 leaves, max depth = 12, in 0.011s\n",
      "[21/100] 1 tree, 31 leaves, max depth = 15, in 0.010s\n",
      "[22/100] 1 tree, 31 leaves, max depth = 13, in 0.010s\n",
      "[23/100] 1 tree, 31 leaves, max depth = 11, in 0.010s\n",
      "[24/100] 1 tree, 31 leaves, max depth = 11, in 0.010s\n",
      "[25/100] 1 tree, 31 leaves, max depth = 12, in 0.010s\n",
      "[26/100] 1 tree, 31 leaves, max depth = 16, in 0.010s\n",
      "[27/100] 1 tree, 31 leaves, max depth = 11, in 0.010s\n",
      "[28/100] 1 tree, 31 leaves, max depth = 15, in 0.010s\n",
      "[29/100] 1 tree, 31 leaves, max depth = 13, in 0.010s\n",
      "[30/100] 1 tree, 31 leaves, max depth = 11, in 0.009s\n",
      "[31/100] 1 tree, 31 leaves, max depth = 13, in 0.010s\n",
      "[32/100] 1 tree, 31 leaves, max depth = 16, in 0.009s\n",
      "[33/100] 1 tree, 31 leaves, max depth = 12, in 0.009s\n",
      "[34/100] 1 tree, 31 leaves, max depth = 18, in 0.010s\n",
      "[35/100] 1 tree, 31 leaves, max depth = 15, in 0.010s\n"
     ]
    },
    {
     "name": "stdout",
     "output_type": "stream",
     "text": [
      "[36/100] 1 tree, 31 leaves, max depth = 15, in 0.010s\n",
      "[37/100] 1 tree, 31 leaves, max depth = 9, in 0.010s\n",
      "[38/100] 1 tree, 31 leaves, max depth = 11, in 0.011s\n",
      "[39/100] 1 tree, 31 leaves, max depth = 12, in 0.010s\n",
      "[40/100] 1 tree, 31 leaves, max depth = 15, in 0.011s\n",
      "[41/100] 1 tree, 31 leaves, max depth = 10, in 0.010s\n",
      "[42/100] 1 tree, 31 leaves, max depth = 11, in 0.011s\n",
      "[43/100] 1 tree, 31 leaves, max depth = 10, in 0.010s\n",
      "[44/100] 1 tree, 31 leaves, max depth = 17, in 0.010s\n",
      "[45/100] 1 tree, 31 leaves, max depth = 12, in 0.010s\n",
      "[46/100] 1 tree, 31 leaves, max depth = 10, in 0.010s\n",
      "[47/100] 1 tree, 31 leaves, max depth = 14, in 0.010s\n",
      "[48/100] 1 tree, 31 leaves, max depth = 10, in 0.010s\n",
      "[49/100] 1 tree, 31 leaves, max depth = 11, in 0.010s\n",
      "[50/100] 1 tree, 31 leaves, max depth = 12, in 0.009s\n",
      "[51/100] 1 tree, 31 leaves, max depth = 8, in 0.010s\n",
      "[52/100] 1 tree, 31 leaves, max depth = 10, in 0.010s\n",
      "[53/100] 1 tree, 31 leaves, max depth = 16, in 0.010s\n",
      "[54/100] 1 tree, 31 leaves, max depth = 9, in 0.011s\n",
      "[55/100] 1 tree, 31 leaves, max depth = 15, in 0.010s\n",
      "[56/100] 1 tree, 31 leaves, max depth = 10, in 0.010s\n",
      "[57/100] 1 tree, 31 leaves, max depth = 11, in 0.011s\n",
      "[58/100] 1 tree, 31 leaves, max depth = 11, in 0.009s\n",
      "[59/100] 1 tree, 31 leaves, max depth = 12, in 0.011s\n",
      "[60/100] 1 tree, 31 leaves, max depth = 11, in 0.010s\n",
      "[61/100] 1 tree, 31 leaves, max depth = 10, in 0.010s\n",
      "[62/100] 1 tree, 31 leaves, max depth = 10, in 0.009s\n",
      "[63/100] 1 tree, 31 leaves, max depth = 12, in 0.009s\n",
      "[64/100] 1 tree, 31 leaves, max depth = 14, in 0.009s\n",
      "[65/100] 1 tree, 31 leaves, max depth = 8, in 0.010s\n",
      "[66/100] 1 tree, 31 leaves, max depth = 13, in 0.010s\n",
      "[67/100] 1 tree, 31 leaves, max depth = 9, in 0.010s\n",
      "[68/100] 1 tree, 31 leaves, max depth = 12, in 0.009s\n",
      "[69/100] 1 tree, 31 leaves, max depth = 15, in 0.010s\n",
      "[70/100] 1 tree, 31 leaves, max depth = 14, in 0.010s\n",
      "[71/100] 1 tree, 31 leaves, max depth = 9, in 0.010s\n",
      "[72/100] 1 tree, 31 leaves, max depth = 12, in 0.011s\n",
      "[73/100] 1 tree, 31 leaves, max depth = 14, in 0.010s\n",
      "[74/100] 1 tree, 31 leaves, max depth = 16, in 0.011s\n",
      "[75/100] 1 tree, 31 leaves, max depth = 12, in 0.010s\n",
      "[76/100] 1 tree, 31 leaves, max depth = 11, in 0.010s\n",
      "[77/100] 1 tree, 31 leaves, max depth = 11, in 0.010s\n",
      "[78/100] 1 tree, 31 leaves, max depth = 12, in 0.011s\n",
      "[79/100] 1 tree, 31 leaves, max depth = 9, in 0.009s\n",
      "[80/100] 1 tree, 31 leaves, max depth = 9, in 0.010s\n",
      "[81/100] 1 tree, 31 leaves, max depth = 11, in 0.010s\n",
      "[82/100] 1 tree, 31 leaves, max depth = 14, in 0.009s\n",
      "[83/100] 1 tree, 31 leaves, max depth = 10, in 0.010s\n",
      "[84/100] 1 tree, 31 leaves, max depth = 15, in 0.010s\n",
      "[85/100] 1 tree, 31 leaves, max depth = 8, in 0.010s\n",
      "[86/100] 1 tree, 31 leaves, max depth = 14, in 0.010s\n",
      "[87/100] 1 tree, 31 leaves, max depth = 9, in 0.010s\n",
      "[88/100] 1 tree, 31 leaves, max depth = 7, in 0.010s\n",
      "[89/100] 1 tree, 31 leaves, max depth = 11, in 0.010s\n",
      "[90/100] 1 tree, 31 leaves, max depth = 13, in 0.010s\n",
      "[91/100] 1 tree, 31 leaves, max depth = 10, in 0.011s\n",
      "[92/100] 1 tree, 31 leaves, max depth = 11, in 0.010s\n",
      "[93/100] 1 tree, 31 leaves, max depth = 15, in 0.010s\n",
      "[94/100] 1 tree, 31 leaves, max depth = 12, in 0.010s\n",
      "[95/100] 1 tree, 31 leaves, max depth = 11, in 0.010s\n",
      "[96/100] 1 tree, 31 leaves, max depth = 9, in 0.010s\n",
      "[97/100] 1 tree, 31 leaves, max depth = 10, in 0.010s\n",
      "[98/100] 1 tree, 31 leaves, max depth = 15, in 0.010s\n",
      "[99/100] 1 tree, 31 leaves, max depth = 12, in 0.010s\n",
      "[100/100] 1 tree, 31 leaves, max depth = 11, in 0.011s\n",
      "Fit 100 trees in 1.090 s, (3100 total leaves)\n",
      "Time spent computing histograms: 0.425s\n",
      "Time spent finding best splits:  0.100s\n",
      "Time spent applying splits:      0.162s\n",
      "Time spent predicting:           0.012s\n"
     ]
    }
   ],
   "source": [
    "scoring = ['neg_mean_absolute_error', 'neg_mean_absolute_percentage_error']\n",
    "cv_results = cross_validate(hgbr_model, X_train, y_train, cv=5, scoring=scoring)"
   ]
  },
  {
   "cell_type": "code",
   "execution_count": 27,
   "id": "aa9a2b2a",
   "metadata": {},
   "outputs": [
    {
     "data": {
      "text/plain": [
       "array([-15.94389338, -15.30661424, -15.26701988, -16.12690845,\n",
       "       -15.3503986 ])"
      ]
     },
     "execution_count": 27,
     "metadata": {},
     "output_type": "execute_result"
    }
   ],
   "source": [
    "cv_scores = cv_results.get('test_neg_mean_absolute_error')\n",
    "cv_scores"
   ]
  },
  {
   "cell_type": "code",
   "execution_count": 28,
   "id": "dd1d666f",
   "metadata": {},
   "outputs": [
    {
     "data": {
      "text/plain": [
       "(15.59896691025394, 0.3619783578112488)"
      ]
     },
     "execution_count": 28,
     "metadata": {},
     "output_type": "execute_result"
    }
   ],
   "source": [
    "np.abs(np.mean(cv_scores)), np.std(cv_scores)"
   ]
  },
  {
   "cell_type": "markdown",
   "id": "1d253263",
   "metadata": {},
   "source": [
    "## 3.4 Summary\n",
    "\n"
   ]
  },
  {
   "cell_type": "markdown",
   "id": "9b237fc1",
   "metadata": {},
   "source": [
    "In conclusion, the HistGradientBoostingRegressor algorithm produced the best mean absolute error. We chose this metric to evaluate each model's performance due to its resilience against outliers in the data set. Since we have many outliers that are over 1.5 IQR away from our 75th percentile, evaluating the model one this metric will be more accurate than using r2 or mean squared error.\n",
    "\n",
    "Our best model is the HistGradientBoosterRegressor model that produces predictions with the lowest Mean Absolute Error compared to our baseline and the rest of our tested models.\n",
    "\n",
    "From this model, we can use it to predict the estimated time spent in the shelter for dogs based on features such as their name, age, breed, intake condition, the time of year, etc. This model can be further used with unknown data to predict the estimated times to help with the logistics incoming and outgoing dogs in a shelter with limited and most often full capacity.\n"
   ]
  },
  {
   "cell_type": "code",
   "execution_count": 80,
   "id": "38677988",
   "metadata": {},
   "outputs": [
    {
     "data": {
      "text/plain": [
       "name                       Patches\n",
       "breed_category            Pit Bull\n",
       "sex_intake           Spayed Female\n",
       "intake_type                  Stray\n",
       "condition_intake           Injured\n",
       "outcome                   Adoption\n",
       "delta_time_d           1912.938194\n",
       "month_outcome                    4\n",
       "year_outcome                  2021\n",
       "age_in_years_bins        10-11 yrs\n",
       "Name: 22279, dtype: object"
      ]
     },
     "execution_count": 80,
     "metadata": {},
     "output_type": "execute_result"
    }
   ],
   "source": [
    "patches = dog_df.iloc[22279]\n",
    "patches"
   ]
  },
  {
   "cell_type": "code",
   "execution_count": 82,
   "id": "37e883f7",
   "metadata": {},
   "outputs": [],
   "source": [
    "patches_x = np.array(patches.drop('delta_time_d'))\n",
    "patches_x = np.expand_dims(patches_x, 0)\n",
    "patches_y = patches.delta_time_d\n"
   ]
  },
  {
   "cell_type": "code",
   "execution_count": 83,
   "id": "a0ad5a38",
   "metadata": {},
   "outputs": [
    {
     "data": {
      "text/plain": [
       "array([701.3693947])"
      ]
     },
     "execution_count": 83,
     "metadata": {},
     "output_type": "execute_result"
    }
   ],
   "source": [
    "patches_y_pred = hgbr_model.predict(patches_x)\n",
    "patches_y_pred"
   ]
  },
  {
   "cell_type": "markdown",
   "id": "e3c639d2",
   "metadata": {},
   "source": [
    "Looking at Patches again, our model determined that the time spent in the shelter for Patches would be 701 days based off her features. The reality of her situation was that she spent over 3 times the predicted time in the shelter. We can further improve our model by getting more dog intake/outcome data, include intake/outcome rates of nearby shelters,  and include other features such as temperment.\n",
    "\n",
    "Other factors that could contribute to differing adoption rates are the adoption page listed on the Austin Animal Center's website. Certain factors such as search filters, photograph quality, and location on the page could also affect the time spent in the shelter."
   ]
  },
  {
   "cell_type": "markdown",
   "id": "63e850ae",
   "metadata": {},
   "source": [
    "\n",
    "Further studies can be done to compare the Austin Animal Center to shelters in other states to compare rates of outcomes. Further studies within the Austin Animal Center can focus on other animals such as cats or wildlife."
   ]
  }
 ],
 "metadata": {
  "kernelspec": {
   "display_name": "Python 3 (ipykernel)",
   "language": "python",
   "name": "python3"
  },
  "language_info": {
   "codemirror_mode": {
    "name": "ipython",
    "version": 3
   },
   "file_extension": ".py",
   "mimetype": "text/x-python",
   "name": "python",
   "nbconvert_exporter": "python",
   "pygments_lexer": "ipython3",
   "version": "3.9.7"
  }
 },
 "nbformat": 4,
 "nbformat_minor": 5
}
