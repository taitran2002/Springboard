{
 "cells": [
  {
   "cell_type": "markdown",
   "id": "1cd2eda9",
   "metadata": {},
   "source": [
    "# Austin Animal Center Dog Adoptions\n",
    "\n",
    "The purpose of this notebook is to import, inspect, clean, and prepare the data for analysis. The Austin Animal Center data comes in two CSV files, one for Intakes and one for Outcomes."
   ]
  },
  {
   "cell_type": "markdown",
   "id": "d7984414",
   "metadata": {},
   "source": [
    "## 1. Library Imports"
   ]
  },
  {
   "cell_type": "code",
   "execution_count": 1,
   "id": "2d8bf197",
   "metadata": {},
   "outputs": [],
   "source": [
    "import pandas as pd\n",
    "import numpy as np\n",
    "import os\n",
    "import matplotlib.pyplot as plt\n",
    "import seaborn as sns\n",
    "import datetime\n",
    "\n",
    "from IPython import display\n",
    "from ipywidgets import interact, widgets"
   ]
  },
  {
   "cell_type": "markdown",
   "id": "54dc04a5",
   "metadata": {},
   "source": [
    "## 2. Importing animal intake and outcome data from the Austin Animal Center\n",
    "\n",
    "The Austin Animal Center intake and outcome data is loaded into separate DataFrames and the basic exploratory functions are displayed to see the DataFrame shape and column information. The following Intake and Outcome csv files were downloaded from [the Official Austin Open Data Portal](https://data.austintexas.gov)."
   ]
  },
  {
   "cell_type": "code",
   "execution_count": 2,
   "id": "57436d0b",
   "metadata": {},
   "outputs": [],
   "source": [
    "intake_raw = pd.read_csv('../raw_data/Austin_Animal_Center_Intakes.csv')\n",
    "outcome_raw = pd.read_csv('../raw_data/Austin_Animal_Center_Outcomes.csv')"
   ]
  },
  {
   "cell_type": "code",
   "execution_count": 3,
   "id": "e188516e",
   "metadata": {},
   "outputs": [
    {
     "name": "stdout",
     "output_type": "stream",
     "text": [
      "Intake_raw Dataframe shape:  (137740, 12)\n",
      "Outcome_raw Dataframe shape:  (138039, 12)\n"
     ]
    }
   ],
   "source": [
    "print('Intake_raw Dataframe shape: ', intake_raw.shape)\n",
    "print('Outcome_raw Dataframe shape: ', outcome_raw.shape)"
   ]
  },
  {
   "cell_type": "code",
   "execution_count": 4,
   "id": "eada57dc",
   "metadata": {},
   "outputs": [
    {
     "name": "stdout",
     "output_type": "stream",
     "text": [
      "<class 'pandas.core.frame.DataFrame'>\n",
      "RangeIndex: 137740 entries, 0 to 137739\n",
      "Data columns (total 12 columns):\n",
      " #   Column            Non-Null Count   Dtype \n",
      "---  ------            --------------   ----- \n",
      " 0   Animal ID         137740 non-null  object\n",
      " 1   Name              96617 non-null   object\n",
      " 2   DateTime          137740 non-null  object\n",
      " 3   MonthYear         137740 non-null  object\n",
      " 4   Found Location    137740 non-null  object\n",
      " 5   Intake Type       137740 non-null  object\n",
      " 6   Intake Condition  137740 non-null  object\n",
      " 7   Animal Type       137740 non-null  object\n",
      " 8   Sex upon Intake   137739 non-null  object\n",
      " 9   Age upon Intake   137740 non-null  object\n",
      " 10  Breed             137740 non-null  object\n",
      " 11  Color             137740 non-null  object\n",
      "dtypes: object(12)\n",
      "memory usage: 12.6+ MB\n"
     ]
    }
   ],
   "source": [
    "intake_raw.info()"
   ]
  },
  {
   "cell_type": "code",
   "execution_count": 5,
   "id": "9cbb34a4",
   "metadata": {},
   "outputs": [
    {
     "name": "stdout",
     "output_type": "stream",
     "text": [
      "<class 'pandas.core.frame.DataFrame'>\n",
      "RangeIndex: 138039 entries, 0 to 138038\n",
      "Data columns (total 12 columns):\n",
      " #   Column            Non-Null Count   Dtype \n",
      "---  ------            --------------   ----- \n",
      " 0   Animal ID         138039 non-null  object\n",
      " 1   Name              96906 non-null   object\n",
      " 2   DateTime          138039 non-null  object\n",
      " 3   MonthYear         138039 non-null  object\n",
      " 4   Date of Birth     138039 non-null  object\n",
      " 5   Outcome Type      138016 non-null  object\n",
      " 6   Outcome Subtype   63057 non-null   object\n",
      " 7   Animal Type       138039 non-null  object\n",
      " 8   Sex upon Outcome  138038 non-null  object\n",
      " 9   Age upon Outcome  138033 non-null  object\n",
      " 10  Breed             138039 non-null  object\n",
      " 11  Color             138039 non-null  object\n",
      "dtypes: object(12)\n",
      "memory usage: 12.6+ MB\n"
     ]
    }
   ],
   "source": [
    "outcome_raw.info()"
   ]
  },
  {
   "cell_type": "code",
   "execution_count": 6,
   "id": "128658a7",
   "metadata": {
    "scrolled": true
   },
   "outputs": [
    {
     "data": {
      "text/html": [
       "<div>\n",
       "<style scoped>\n",
       "    .dataframe tbody tr th:only-of-type {\n",
       "        vertical-align: middle;\n",
       "    }\n",
       "\n",
       "    .dataframe tbody tr th {\n",
       "        vertical-align: top;\n",
       "    }\n",
       "\n",
       "    .dataframe thead th {\n",
       "        text-align: right;\n",
       "    }\n",
       "</style>\n",
       "<table border=\"1\" class=\"dataframe\">\n",
       "  <thead>\n",
       "    <tr style=\"text-align: right;\">\n",
       "      <th></th>\n",
       "      <th>Animal ID</th>\n",
       "      <th>Name</th>\n",
       "      <th>DateTime</th>\n",
       "      <th>MonthYear</th>\n",
       "      <th>Found Location</th>\n",
       "      <th>Intake Type</th>\n",
       "      <th>Intake Condition</th>\n",
       "      <th>Animal Type</th>\n",
       "      <th>Sex upon Intake</th>\n",
       "      <th>Age upon Intake</th>\n",
       "      <th>Breed</th>\n",
       "      <th>Color</th>\n",
       "    </tr>\n",
       "  </thead>\n",
       "  <tbody>\n",
       "    <tr>\n",
       "      <th>0</th>\n",
       "      <td>A786884</td>\n",
       "      <td>*Brock</td>\n",
       "      <td>01/03/2019 04:19:00 PM</td>\n",
       "      <td>January 2019</td>\n",
       "      <td>2501 Magin Meadow Dr in Austin (TX)</td>\n",
       "      <td>Stray</td>\n",
       "      <td>Normal</td>\n",
       "      <td>Dog</td>\n",
       "      <td>Neutered Male</td>\n",
       "      <td>2 years</td>\n",
       "      <td>Beagle Mix</td>\n",
       "      <td>Tricolor</td>\n",
       "    </tr>\n",
       "    <tr>\n",
       "      <th>1</th>\n",
       "      <td>A706918</td>\n",
       "      <td>Belle</td>\n",
       "      <td>07/05/2015 12:59:00 PM</td>\n",
       "      <td>July 2015</td>\n",
       "      <td>9409 Bluegrass Dr in Austin (TX)</td>\n",
       "      <td>Stray</td>\n",
       "      <td>Normal</td>\n",
       "      <td>Dog</td>\n",
       "      <td>Spayed Female</td>\n",
       "      <td>8 years</td>\n",
       "      <td>English Springer Spaniel</td>\n",
       "      <td>White/Liver</td>\n",
       "    </tr>\n",
       "    <tr>\n",
       "      <th>2</th>\n",
       "      <td>A724273</td>\n",
       "      <td>Runster</td>\n",
       "      <td>04/14/2016 06:43:00 PM</td>\n",
       "      <td>April 2016</td>\n",
       "      <td>2818 Palomino Trail in Austin (TX)</td>\n",
       "      <td>Stray</td>\n",
       "      <td>Normal</td>\n",
       "      <td>Dog</td>\n",
       "      <td>Intact Male</td>\n",
       "      <td>11 months</td>\n",
       "      <td>Basenji Mix</td>\n",
       "      <td>Sable/White</td>\n",
       "    </tr>\n",
       "    <tr>\n",
       "      <th>3</th>\n",
       "      <td>A665644</td>\n",
       "      <td>NaN</td>\n",
       "      <td>10/21/2013 07:59:00 AM</td>\n",
       "      <td>October 2013</td>\n",
       "      <td>Austin (TX)</td>\n",
       "      <td>Stray</td>\n",
       "      <td>Sick</td>\n",
       "      <td>Cat</td>\n",
       "      <td>Intact Female</td>\n",
       "      <td>4 weeks</td>\n",
       "      <td>Domestic Shorthair Mix</td>\n",
       "      <td>Calico</td>\n",
       "    </tr>\n",
       "    <tr>\n",
       "      <th>4</th>\n",
       "      <td>A682524</td>\n",
       "      <td>Rio</td>\n",
       "      <td>06/29/2014 10:38:00 AM</td>\n",
       "      <td>June 2014</td>\n",
       "      <td>800 Grove Blvd in Austin (TX)</td>\n",
       "      <td>Stray</td>\n",
       "      <td>Normal</td>\n",
       "      <td>Dog</td>\n",
       "      <td>Neutered Male</td>\n",
       "      <td>4 years</td>\n",
       "      <td>Doberman Pinsch/Australian Cattle Dog</td>\n",
       "      <td>Tan/Gray</td>\n",
       "    </tr>\n",
       "  </tbody>\n",
       "</table>\n",
       "</div>"
      ],
      "text/plain": [
       "  Animal ID     Name                DateTime     MonthYear  \\\n",
       "0   A786884   *Brock  01/03/2019 04:19:00 PM  January 2019   \n",
       "1   A706918    Belle  07/05/2015 12:59:00 PM     July 2015   \n",
       "2   A724273  Runster  04/14/2016 06:43:00 PM    April 2016   \n",
       "3   A665644      NaN  10/21/2013 07:59:00 AM  October 2013   \n",
       "4   A682524      Rio  06/29/2014 10:38:00 AM     June 2014   \n",
       "\n",
       "                        Found Location Intake Type Intake Condition  \\\n",
       "0  2501 Magin Meadow Dr in Austin (TX)       Stray           Normal   \n",
       "1     9409 Bluegrass Dr in Austin (TX)       Stray           Normal   \n",
       "2   2818 Palomino Trail in Austin (TX)       Stray           Normal   \n",
       "3                          Austin (TX)       Stray             Sick   \n",
       "4        800 Grove Blvd in Austin (TX)       Stray           Normal   \n",
       "\n",
       "  Animal Type Sex upon Intake Age upon Intake  \\\n",
       "0         Dog   Neutered Male         2 years   \n",
       "1         Dog   Spayed Female         8 years   \n",
       "2         Dog     Intact Male       11 months   \n",
       "3         Cat   Intact Female         4 weeks   \n",
       "4         Dog   Neutered Male         4 years   \n",
       "\n",
       "                                   Breed        Color  \n",
       "0                             Beagle Mix     Tricolor  \n",
       "1               English Springer Spaniel  White/Liver  \n",
       "2                            Basenji Mix  Sable/White  \n",
       "3                 Domestic Shorthair Mix       Calico  \n",
       "4  Doberman Pinsch/Australian Cattle Dog     Tan/Gray  "
      ]
     },
     "execution_count": 6,
     "metadata": {},
     "output_type": "execute_result"
    }
   ],
   "source": [
    "intake_raw.head()"
   ]
  },
  {
   "cell_type": "code",
   "execution_count": 7,
   "id": "4b9e9b21",
   "metadata": {},
   "outputs": [
    {
     "data": {
      "text/html": [
       "<div>\n",
       "<style scoped>\n",
       "    .dataframe tbody tr th:only-of-type {\n",
       "        vertical-align: middle;\n",
       "    }\n",
       "\n",
       "    .dataframe tbody tr th {\n",
       "        vertical-align: top;\n",
       "    }\n",
       "\n",
       "    .dataframe thead th {\n",
       "        text-align: right;\n",
       "    }\n",
       "</style>\n",
       "<table border=\"1\" class=\"dataframe\">\n",
       "  <thead>\n",
       "    <tr style=\"text-align: right;\">\n",
       "      <th></th>\n",
       "      <th>Animal ID</th>\n",
       "      <th>Name</th>\n",
       "      <th>DateTime</th>\n",
       "      <th>MonthYear</th>\n",
       "      <th>Date of Birth</th>\n",
       "      <th>Outcome Type</th>\n",
       "      <th>Outcome Subtype</th>\n",
       "      <th>Animal Type</th>\n",
       "      <th>Sex upon Outcome</th>\n",
       "      <th>Age upon Outcome</th>\n",
       "      <th>Breed</th>\n",
       "      <th>Color</th>\n",
       "    </tr>\n",
       "  </thead>\n",
       "  <tbody>\n",
       "    <tr>\n",
       "      <th>0</th>\n",
       "      <td>A794011</td>\n",
       "      <td>Chunk</td>\n",
       "      <td>05/08/2019 06:20:00 PM</td>\n",
       "      <td>May 2019</td>\n",
       "      <td>05/02/2017</td>\n",
       "      <td>Rto-Adopt</td>\n",
       "      <td>NaN</td>\n",
       "      <td>Cat</td>\n",
       "      <td>Neutered Male</td>\n",
       "      <td>2 years</td>\n",
       "      <td>Domestic Shorthair Mix</td>\n",
       "      <td>Brown Tabby/White</td>\n",
       "    </tr>\n",
       "    <tr>\n",
       "      <th>1</th>\n",
       "      <td>A776359</td>\n",
       "      <td>Gizmo</td>\n",
       "      <td>07/18/2018 04:02:00 PM</td>\n",
       "      <td>Jul 2018</td>\n",
       "      <td>07/12/2017</td>\n",
       "      <td>Adoption</td>\n",
       "      <td>NaN</td>\n",
       "      <td>Dog</td>\n",
       "      <td>Neutered Male</td>\n",
       "      <td>1 year</td>\n",
       "      <td>Chihuahua Shorthair Mix</td>\n",
       "      <td>White/Brown</td>\n",
       "    </tr>\n",
       "    <tr>\n",
       "      <th>2</th>\n",
       "      <td>A821648</td>\n",
       "      <td>NaN</td>\n",
       "      <td>08/16/2020 11:38:00 AM</td>\n",
       "      <td>Aug 2020</td>\n",
       "      <td>08/16/2019</td>\n",
       "      <td>Euthanasia</td>\n",
       "      <td>NaN</td>\n",
       "      <td>Other</td>\n",
       "      <td>Unknown</td>\n",
       "      <td>1 year</td>\n",
       "      <td>Raccoon</td>\n",
       "      <td>Gray</td>\n",
       "    </tr>\n",
       "    <tr>\n",
       "      <th>3</th>\n",
       "      <td>A720371</td>\n",
       "      <td>Moose</td>\n",
       "      <td>02/13/2016 05:59:00 PM</td>\n",
       "      <td>Feb 2016</td>\n",
       "      <td>10/08/2015</td>\n",
       "      <td>Adoption</td>\n",
       "      <td>NaN</td>\n",
       "      <td>Dog</td>\n",
       "      <td>Neutered Male</td>\n",
       "      <td>4 months</td>\n",
       "      <td>Anatol Shepherd/Labrador Retriever</td>\n",
       "      <td>Buff</td>\n",
       "    </tr>\n",
       "    <tr>\n",
       "      <th>4</th>\n",
       "      <td>A674754</td>\n",
       "      <td>NaN</td>\n",
       "      <td>03/18/2014 11:47:00 AM</td>\n",
       "      <td>Mar 2014</td>\n",
       "      <td>03/12/2014</td>\n",
       "      <td>Transfer</td>\n",
       "      <td>Partner</td>\n",
       "      <td>Cat</td>\n",
       "      <td>Intact Male</td>\n",
       "      <td>6 days</td>\n",
       "      <td>Domestic Shorthair Mix</td>\n",
       "      <td>Orange Tabby</td>\n",
       "    </tr>\n",
       "  </tbody>\n",
       "</table>\n",
       "</div>"
      ],
      "text/plain": [
       "  Animal ID   Name                DateTime MonthYear Date of Birth  \\\n",
       "0   A794011  Chunk  05/08/2019 06:20:00 PM  May 2019    05/02/2017   \n",
       "1   A776359  Gizmo  07/18/2018 04:02:00 PM  Jul 2018    07/12/2017   \n",
       "2   A821648    NaN  08/16/2020 11:38:00 AM  Aug 2020    08/16/2019   \n",
       "3   A720371  Moose  02/13/2016 05:59:00 PM  Feb 2016    10/08/2015   \n",
       "4   A674754    NaN  03/18/2014 11:47:00 AM  Mar 2014    03/12/2014   \n",
       "\n",
       "  Outcome Type Outcome Subtype Animal Type Sex upon Outcome Age upon Outcome  \\\n",
       "0    Rto-Adopt             NaN         Cat    Neutered Male          2 years   \n",
       "1     Adoption             NaN         Dog    Neutered Male           1 year   \n",
       "2   Euthanasia             NaN       Other          Unknown           1 year   \n",
       "3     Adoption             NaN         Dog    Neutered Male         4 months   \n",
       "4     Transfer         Partner         Cat      Intact Male           6 days   \n",
       "\n",
       "                                Breed              Color  \n",
       "0              Domestic Shorthair Mix  Brown Tabby/White  \n",
       "1             Chihuahua Shorthair Mix        White/Brown  \n",
       "2                             Raccoon               Gray  \n",
       "3  Anatol Shepherd/Labrador Retriever               Buff  \n",
       "4              Domestic Shorthair Mix       Orange Tabby  "
      ]
     },
     "execution_count": 7,
     "metadata": {},
     "output_type": "execute_result"
    }
   ],
   "source": [
    "outcome_raw.head()"
   ]
  },
  {
   "cell_type": "markdown",
   "id": "bf25982d",
   "metadata": {},
   "source": [
    "Our initial exploration shows that:\n",
    "- The intake data has 137,740 entries and the outcome data has 138039 entries\n",
    "- Both DataFrames share some similar columns that we will use to merge upon to create a single combined DataFrame. Columns such as 'Animal ID', 'Name', 'Animal Type', 'Breed', 'Color'. \n",
    "- We also notice that the column dtypes are all 'object'; we will need to change DateTime to a datetime object\n",
    "- We also notice NaN entries that will need to be evaluated"
   ]
  },
  {
   "cell_type": "markdown",
   "id": "447a0a2a",
   "metadata": {},
   "source": [
    "## 3. Data Exploration\n",
    "\n",
    "### 3.1 Exploring the data set for missing entries and resolving issues with improper data entry\n",
    "\n",
    "Both data sets are explored to view which attributes have missing values and are evaluated on a case-by-case basic on how to approach each improper entry."
   ]
  },
  {
   "cell_type": "code",
   "execution_count": 8,
   "id": "c15e2a2b",
   "metadata": {},
   "outputs": [
    {
     "data": {
      "text/plain": [
       "Name                41123\n",
       "Sex upon Intake         1\n",
       "Animal ID               0\n",
       "DateTime                0\n",
       "MonthYear               0\n",
       "Found Location          0\n",
       "Intake Type             0\n",
       "Intake Condition        0\n",
       "Animal Type             0\n",
       "Age upon Intake         0\n",
       "Breed                   0\n",
       "Color                   0\n",
       "dtype: int64"
      ]
     },
     "execution_count": 8,
     "metadata": {},
     "output_type": "execute_result"
    }
   ],
   "source": [
    "intake_missing = intake_raw.isnull().sum()\n",
    "intake_missing.sort_values(ascending=False)"
   ]
  },
  {
   "cell_type": "markdown",
   "id": "df1bf188",
   "metadata": {},
   "source": [
    "We are missing quite a few entries for 'Name', which we will tend to ignore. Strays will not have names upon intake and named may also change upon failed adoptions or animal surrenders.\n",
    "\n",
    "We see one null entry for 'Sex Upon Intake'. It is decided to remove that one entry as that statistic cannot be approximated correctly."
   ]
  },
  {
   "cell_type": "code",
   "execution_count": 9,
   "id": "9a1bc3e1",
   "metadata": {},
   "outputs": [
    {
     "name": "stdout",
     "output_type": "stream",
     "text": [
      "<class 'pandas.core.frame.DataFrame'>\n",
      "Int64Index: 137739 entries, 0 to 137739\n",
      "Data columns (total 12 columns):\n",
      " #   Column            Non-Null Count   Dtype \n",
      "---  ------            --------------   ----- \n",
      " 0   Animal ID         137739 non-null  object\n",
      " 1   Name              96616 non-null   object\n",
      " 2   DateTime          137739 non-null  object\n",
      " 3   MonthYear         137739 non-null  object\n",
      " 4   Found Location    137739 non-null  object\n",
      " 5   Intake Type       137739 non-null  object\n",
      " 6   Intake Condition  137739 non-null  object\n",
      " 7   Animal Type       137739 non-null  object\n",
      " 8   Sex upon Intake   137739 non-null  object\n",
      " 9   Age upon Intake   137739 non-null  object\n",
      " 10  Breed             137739 non-null  object\n",
      " 11  Color             137739 non-null  object\n",
      "dtypes: object(12)\n",
      "memory usage: 13.7+ MB\n"
     ]
    }
   ],
   "source": [
    "intake_clean = intake_raw[intake_raw['Sex upon Intake'].notnull()]\n",
    "intake_clean.info()"
   ]
  },
  {
   "cell_type": "code",
   "execution_count": 10,
   "id": "a1c6b80a",
   "metadata": {},
   "outputs": [
    {
     "data": {
      "text/plain": [
       "Outcome Subtype     74982\n",
       "Name                41133\n",
       "Outcome Type           23\n",
       "Age upon Outcome        6\n",
       "Sex upon Outcome        1\n",
       "Animal ID               0\n",
       "DateTime                0\n",
       "MonthYear               0\n",
       "Date of Birth           0\n",
       "Animal Type             0\n",
       "Breed                   0\n",
       "Color                   0\n",
       "dtype: int64"
      ]
     },
     "execution_count": 10,
     "metadata": {},
     "output_type": "execute_result"
    }
   ],
   "source": [
    "outcome_missing = outcome_raw.isnull().sum()\n",
    "outcome_missing.sort_values(ascending=False)"
   ]
  },
  {
   "cell_type": "markdown",
   "id": "aa4b8cd9",
   "metadata": {},
   "source": [
    "The same is done for the outcome data set, revealing a few major points:\n",
    "- There are 74982 null values for Outcome Subtypes and 41133 null Name values. The Outcomes Subtypes can sometimes have an entry that further categorizes the Outcome Type. This column will ultimately be removed due to irrelevance to the outcomes of a majority of the animals.\n",
    "- There is 1 entry with a missing value for the 'Sex Upon Outcome' column that will be removed because we're unable to estimate the sex.\n",
    "- There are 6 null entries for Age upon Outcome that are empty. We cannot approximate the age of outcome, so we decide to remove that as well.\n",
    "- Lastly, there are 23 entries for Outcome type that are empty. We cannot approximate the outcome type so those were decided to be removed as well."
   ]
  },
  {
   "cell_type": "code",
   "execution_count": 11,
   "id": "4147965b",
   "metadata": {},
   "outputs": [
    {
     "name": "stdout",
     "output_type": "stream",
     "text": [
      "<class 'pandas.core.frame.DataFrame'>\n",
      "Int64Index: 138009 entries, 0 to 138038\n",
      "Data columns (total 12 columns):\n",
      " #   Column            Non-Null Count   Dtype \n",
      "---  ------            --------------   ----- \n",
      " 0   Animal ID         138009 non-null  object\n",
      " 1   Name              96891 non-null   object\n",
      " 2   DateTime          138009 non-null  object\n",
      " 3   MonthYear         138009 non-null  object\n",
      " 4   Date of Birth     138009 non-null  object\n",
      " 5   Outcome Type      138009 non-null  object\n",
      " 6   Outcome Subtype   63051 non-null   object\n",
      " 7   Animal Type       138009 non-null  object\n",
      " 8   Sex upon Outcome  138009 non-null  object\n",
      " 9   Age upon Outcome  138009 non-null  object\n",
      " 10  Breed             138009 non-null  object\n",
      " 11  Color             138009 non-null  object\n",
      "dtypes: object(12)\n",
      "memory usage: 13.7+ MB\n"
     ]
    }
   ],
   "source": [
    "outcome_clean = outcome_raw[outcome_raw['Sex upon Outcome'].notnull()]\n",
    "outcome_clean = outcome_clean[outcome_clean['Age upon Outcome'].notnull()]\n",
    "outcome_clean = outcome_clean[outcome_clean['Outcome Type'].notnull()]\n",
    "outcome_clean.info()"
   ]
  },
  {
   "cell_type": "markdown",
   "id": "1da0831a",
   "metadata": {},
   "source": [
    "### 3.2 Combining intake and outcome data to get insight on the animals that appear in both data sets\n",
    "\n",
    "We do a left merge on the two tables on the 'Animal ID', 'Name', 'Animal Type', 'Breed', 'Color' columns. \n",
    "\n",
    "This will keep all the original values of the Intake dataframe, while merging the entries and columns of the matching outcome columns."
   ]
  },
  {
   "cell_type": "code",
   "execution_count": 12,
   "id": "90099fa8",
   "metadata": {},
   "outputs": [],
   "source": [
    "column_names = ['Animal ID', 'Name', 'Animal Type', 'Breed', 'Color']\n",
    "animal_merged_df = pd.merge(intake_clean, outcome_clean, on=column_names, \\\n",
    "                                   suffixes=('_intake', '_outcome'), how='left')"
   ]
  },
  {
   "cell_type": "markdown",
   "id": "4127105b",
   "metadata": {},
   "source": [
    "### 3.3 Cleaning the merged dataset to easier focus on exploring and finding trends in the data\n",
    "\n",
    "#### 3.3.1 Subsetting data to focus on Dog entries that had a properly recorded intake and outcome\n",
    "\n",
    "We filter the 'Animal Type' column for dog only entries by subsetting the 'Animal Type' columns and we remove duplicate entries."
   ]
  },
  {
   "cell_type": "code",
   "execution_count": 13,
   "id": "63e85a92",
   "metadata": {},
   "outputs": [
    {
     "name": "stdout",
     "output_type": "stream",
     "text": [
      "<class 'pandas.core.frame.DataFrame'>\n",
      "Int64Index: 56464 entries, 0 to 178397\n",
      "Data columns (total 19 columns):\n",
      " #   Column             Non-Null Count  Dtype \n",
      "---  ------             --------------  ----- \n",
      " 0   Animal ID          56464 non-null  object\n",
      " 1   Name               44232 non-null  object\n",
      " 2   DateTime_intake    56464 non-null  object\n",
      " 3   MonthYear_intake   56464 non-null  object\n",
      " 4   Found Location     56464 non-null  object\n",
      " 5   Intake Type        56464 non-null  object\n",
      " 6   Intake Condition   56464 non-null  object\n",
      " 7   Animal Type        56464 non-null  object\n",
      " 8   Sex upon Intake    56464 non-null  object\n",
      " 9   Age upon Intake    56464 non-null  object\n",
      " 10  Breed              56464 non-null  object\n",
      " 11  Color              56464 non-null  object\n",
      " 12  DateTime_outcome   56108 non-null  object\n",
      " 13  MonthYear_outcome  56108 non-null  object\n",
      " 14  Date of Birth      56108 non-null  object\n",
      " 15  Outcome Type       56108 non-null  object\n",
      " 16  Outcome Subtype    21025 non-null  object\n",
      " 17  Sex upon Outcome   56108 non-null  object\n",
      " 18  Age upon Outcome   56108 non-null  object\n",
      "dtypes: object(19)\n",
      "memory usage: 8.6+ MB\n"
     ]
    }
   ],
   "source": [
    "dogs_merged_df = animal_merged_df[animal_merged_df['Animal Type']=='Dog']\n",
    "dogs_nodups = dogs_merged_df.drop_duplicates(['Animal ID'], keep=False)\n",
    "dogs_nodups.info()"
   ]
  },
  {
   "cell_type": "markdown",
   "id": "eb29e2ca",
   "metadata": {},
   "source": [
    "#### 3.3.2 DateTime Column conversion from a object dtype to a datetime dtype to easier find date trends\n",
    "We convert the 'DateTime_intake' and 'DateTime_outcome' columns to datetime dtypes using the pandas function **.to_datetime()**.\n",
    "\n",
    "We also create a column for outcome month by extracting the month attribute from the datetime object column."
   ]
  },
  {
   "cell_type": "code",
   "execution_count": 14,
   "id": "b758f658",
   "metadata": {},
   "outputs": [
    {
     "name": "stdout",
     "output_type": "stream",
     "text": [
      "<class 'pandas.core.frame.DataFrame'>\n",
      "Int64Index: 56108 entries, 0 to 178389\n",
      "Data columns (total 19 columns):\n",
      " #   Column             Non-Null Count  Dtype \n",
      "---  ------             --------------  ----- \n",
      " 0   Animal ID          56108 non-null  object\n",
      " 1   Name               43901 non-null  object\n",
      " 2   DateTime_intake    56108 non-null  object\n",
      " 3   MonthYear_intake   56108 non-null  object\n",
      " 4   Found Location     56108 non-null  object\n",
      " 5   Intake Type        56108 non-null  object\n",
      " 6   Intake Condition   56108 non-null  object\n",
      " 7   Animal Type        56108 non-null  object\n",
      " 8   Sex upon Intake    56108 non-null  object\n",
      " 9   Age upon Intake    56108 non-null  object\n",
      " 10  Breed              56108 non-null  object\n",
      " 11  Color              56108 non-null  object\n",
      " 12  DateTime_outcome   56108 non-null  object\n",
      " 13  MonthYear_outcome  56108 non-null  object\n",
      " 14  Date of Birth      56108 non-null  object\n",
      " 15  Outcome Type       56108 non-null  object\n",
      " 16  Outcome Subtype    21025 non-null  object\n",
      " 17  Sex upon Outcome   56108 non-null  object\n",
      " 18  Age upon Outcome   56108 non-null  object\n",
      "dtypes: object(19)\n",
      "memory usage: 8.6+ MB\n"
     ]
    }
   ],
   "source": [
    "dogs_nodups = dogs_nodups[~dogs_nodups['Outcome Type'].isnull()]\n",
    "dogs_nodups.info()"
   ]
  },
  {
   "cell_type": "code",
   "execution_count": 15,
   "id": "016db07d",
   "metadata": {},
   "outputs": [],
   "source": [
    "\n",
    "intake_dt = pd.to_datetime(dogs_nodups['DateTime_intake'])\n",
    "dogs_nodups['dt_intake'] = intake_dt\n",
    "\n",
    "outcome_dt = pd.to_datetime(dogs_nodups['DateTime_outcome'])\n",
    "dogs_nodups['dt_outcome'] = outcome_dt\n",
    "\n",
    "dogs_nodups['delta_time'] = outcome_dt - intake_dt"
   ]
  },
  {
   "cell_type": "code",
   "execution_count": 16,
   "id": "60483e24",
   "metadata": {},
   "outputs": [],
   "source": [
    "dogs_nodups['month_outcome'] = dogs_nodups['dt_outcome'].dt.month\n",
    "dogs_nodups['year_outcome'] = dogs_nodups['dt_outcome'].dt.year"
   ]
  },
  {
   "cell_type": "code",
   "execution_count": 17,
   "id": "c10b772d",
   "metadata": {},
   "outputs": [],
   "source": [
    "dogs_nodups['delta_time_s'] = dogs_nodups['delta_time']/datetime.timedelta(seconds=1)\n",
    "dogs_nodups['delta_time_d'] = dogs_nodups['delta_time_s'] / 86400"
   ]
  },
  {
   "cell_type": "code",
   "execution_count": 18,
   "id": "9f55fa22",
   "metadata": {},
   "outputs": [
    {
     "data": {
      "text/html": [
       "<div>\n",
       "<style scoped>\n",
       "    .dataframe tbody tr th:only-of-type {\n",
       "        vertical-align: middle;\n",
       "    }\n",
       "\n",
       "    .dataframe tbody tr th {\n",
       "        vertical-align: top;\n",
       "    }\n",
       "\n",
       "    .dataframe thead th {\n",
       "        text-align: right;\n",
       "    }\n",
       "</style>\n",
       "<table border=\"1\" class=\"dataframe\">\n",
       "  <thead>\n",
       "    <tr style=\"text-align: right;\">\n",
       "      <th></th>\n",
       "      <th>DateTime_intake</th>\n",
       "      <th>DateTime_outcome</th>\n",
       "      <th>delta_time</th>\n",
       "    </tr>\n",
       "  </thead>\n",
       "  <tbody>\n",
       "    <tr>\n",
       "      <th>108</th>\n",
       "      <td>04/27/2018 11:43:00 AM</td>\n",
       "      <td>04/27/2018 10:56:00 AM</td>\n",
       "      <td>-1 days +23:13:00</td>\n",
       "    </tr>\n",
       "    <tr>\n",
       "      <th>1876</th>\n",
       "      <td>12/23/2019 01:08:00 PM</td>\n",
       "      <td>12/23/2019 11:00:00 AM</td>\n",
       "      <td>-1 days +21:52:00</td>\n",
       "    </tr>\n",
       "    <tr>\n",
       "      <th>2005</th>\n",
       "      <td>06/27/2019 02:44:00 PM</td>\n",
       "      <td>06/27/2019 12:00:00 AM</td>\n",
       "      <td>-1 days +09:16:00</td>\n",
       "    </tr>\n",
       "    <tr>\n",
       "      <th>2138</th>\n",
       "      <td>04/26/2019 04:41:00 PM</td>\n",
       "      <td>04/26/2019 12:00:00 AM</td>\n",
       "      <td>-1 days +07:19:00</td>\n",
       "    </tr>\n",
       "    <tr>\n",
       "      <th>3129</th>\n",
       "      <td>06/27/2019 02:44:00 PM</td>\n",
       "      <td>06/27/2019 12:00:00 AM</td>\n",
       "      <td>-1 days +09:16:00</td>\n",
       "    </tr>\n",
       "    <tr>\n",
       "      <th>...</th>\n",
       "      <td>...</td>\n",
       "      <td>...</td>\n",
       "      <td>...</td>\n",
       "    </tr>\n",
       "    <tr>\n",
       "      <th>166884</th>\n",
       "      <td>11/18/2017 02:38:00 PM</td>\n",
       "      <td>11/18/2017 12:00:00 AM</td>\n",
       "      <td>-1 days +09:22:00</td>\n",
       "    </tr>\n",
       "    <tr>\n",
       "      <th>168109</th>\n",
       "      <td>03/30/2015 02:39:00 PM</td>\n",
       "      <td>03/30/2015 12:00:00 AM</td>\n",
       "      <td>-1 days +09:21:00</td>\n",
       "    </tr>\n",
       "    <tr>\n",
       "      <th>169390</th>\n",
       "      <td>10/10/2017 03:56:00 PM</td>\n",
       "      <td>10/10/2017 03:00:00 PM</td>\n",
       "      <td>-1 days +23:04:00</td>\n",
       "    </tr>\n",
       "    <tr>\n",
       "      <th>175059</th>\n",
       "      <td>01/11/2022 01:38:00 PM</td>\n",
       "      <td>01/11/2022 10:21:00 AM</td>\n",
       "      <td>-1 days +20:43:00</td>\n",
       "    </tr>\n",
       "    <tr>\n",
       "      <th>178028</th>\n",
       "      <td>03/26/2022 12:15:00 PM</td>\n",
       "      <td>03/26/2022 11:46:00 AM</td>\n",
       "      <td>-1 days +23:31:00</td>\n",
       "    </tr>\n",
       "  </tbody>\n",
       "</table>\n",
       "<p>170 rows × 3 columns</p>\n",
       "</div>"
      ],
      "text/plain": [
       "               DateTime_intake        DateTime_outcome        delta_time\n",
       "108     04/27/2018 11:43:00 AM  04/27/2018 10:56:00 AM -1 days +23:13:00\n",
       "1876    12/23/2019 01:08:00 PM  12/23/2019 11:00:00 AM -1 days +21:52:00\n",
       "2005    06/27/2019 02:44:00 PM  06/27/2019 12:00:00 AM -1 days +09:16:00\n",
       "2138    04/26/2019 04:41:00 PM  04/26/2019 12:00:00 AM -1 days +07:19:00\n",
       "3129    06/27/2019 02:44:00 PM  06/27/2019 12:00:00 AM -1 days +09:16:00\n",
       "...                        ...                     ...               ...\n",
       "166884  11/18/2017 02:38:00 PM  11/18/2017 12:00:00 AM -1 days +09:22:00\n",
       "168109  03/30/2015 02:39:00 PM  03/30/2015 12:00:00 AM -1 days +09:21:00\n",
       "169390  10/10/2017 03:56:00 PM  10/10/2017 03:00:00 PM -1 days +23:04:00\n",
       "175059  01/11/2022 01:38:00 PM  01/11/2022 10:21:00 AM -1 days +20:43:00\n",
       "178028  03/26/2022 12:15:00 PM  03/26/2022 11:46:00 AM -1 days +23:31:00\n",
       "\n",
       "[170 rows x 3 columns]"
      ]
     },
     "execution_count": 18,
     "metadata": {},
     "output_type": "execute_result"
    }
   ],
   "source": [
    "dogs_nodups[dogs_nodups['delta_time_d']<0][['DateTime_intake', 'DateTime_outcome', 'delta_time']]"
   ]
  },
  {
   "cell_type": "code",
   "execution_count": 19,
   "id": "70570eeb",
   "metadata": {},
   "outputs": [],
   "source": [
    "dogs_nodups = dogs_nodups[dogs_nodups['delta_time_d']>0]"
   ]
  },
  {
   "cell_type": "code",
   "execution_count": 20,
   "id": "9c776e10",
   "metadata": {},
   "outputs": [
    {
     "data": {
      "text/html": [
       "<div>\n",
       "<style scoped>\n",
       "    .dataframe tbody tr th:only-of-type {\n",
       "        vertical-align: middle;\n",
       "    }\n",
       "\n",
       "    .dataframe tbody tr th {\n",
       "        vertical-align: top;\n",
       "    }\n",
       "\n",
       "    .dataframe thead th {\n",
       "        text-align: right;\n",
       "    }\n",
       "</style>\n",
       "<table border=\"1\" class=\"dataframe\">\n",
       "  <thead>\n",
       "    <tr style=\"text-align: right;\">\n",
       "      <th></th>\n",
       "      <th>Animal ID</th>\n",
       "      <th>Name</th>\n",
       "      <th>DateTime_intake</th>\n",
       "      <th>MonthYear_intake</th>\n",
       "      <th>Found Location</th>\n",
       "      <th>Intake Type</th>\n",
       "      <th>Intake Condition</th>\n",
       "      <th>Animal Type</th>\n",
       "      <th>Sex upon Intake</th>\n",
       "      <th>Age upon Intake</th>\n",
       "      <th>...</th>\n",
       "      <th>Outcome Subtype</th>\n",
       "      <th>Sex upon Outcome</th>\n",
       "      <th>Age upon Outcome</th>\n",
       "      <th>dt_intake</th>\n",
       "      <th>dt_outcome</th>\n",
       "      <th>delta_time</th>\n",
       "      <th>month_outcome</th>\n",
       "      <th>year_outcome</th>\n",
       "      <th>delta_time_s</th>\n",
       "      <th>delta_time_d</th>\n",
       "    </tr>\n",
       "  </thead>\n",
       "  <tbody>\n",
       "    <tr>\n",
       "      <th>0</th>\n",
       "      <td>A786884</td>\n",
       "      <td>*Brock</td>\n",
       "      <td>01/03/2019 04:19:00 PM</td>\n",
       "      <td>January 2019</td>\n",
       "      <td>2501 Magin Meadow Dr in Austin (TX)</td>\n",
       "      <td>Stray</td>\n",
       "      <td>Normal</td>\n",
       "      <td>Dog</td>\n",
       "      <td>Neutered Male</td>\n",
       "      <td>2 years</td>\n",
       "      <td>...</td>\n",
       "      <td>Partner</td>\n",
       "      <td>Neutered Male</td>\n",
       "      <td>2 years</td>\n",
       "      <td>2019-01-03 16:19:00</td>\n",
       "      <td>2019-01-08 15:11:00</td>\n",
       "      <td>4 days 22:52:00</td>\n",
       "      <td>1</td>\n",
       "      <td>2019</td>\n",
       "      <td>427920.0</td>\n",
       "      <td>4.952778</td>\n",
       "    </tr>\n",
       "    <tr>\n",
       "      <th>1</th>\n",
       "      <td>A706918</td>\n",
       "      <td>Belle</td>\n",
       "      <td>07/05/2015 12:59:00 PM</td>\n",
       "      <td>July 2015</td>\n",
       "      <td>9409 Bluegrass Dr in Austin (TX)</td>\n",
       "      <td>Stray</td>\n",
       "      <td>Normal</td>\n",
       "      <td>Dog</td>\n",
       "      <td>Spayed Female</td>\n",
       "      <td>8 years</td>\n",
       "      <td>...</td>\n",
       "      <td>NaN</td>\n",
       "      <td>Spayed Female</td>\n",
       "      <td>8 years</td>\n",
       "      <td>2015-07-05 12:59:00</td>\n",
       "      <td>2015-07-05 15:13:00</td>\n",
       "      <td>0 days 02:14:00</td>\n",
       "      <td>7</td>\n",
       "      <td>2015</td>\n",
       "      <td>8040.0</td>\n",
       "      <td>0.093056</td>\n",
       "    </tr>\n",
       "    <tr>\n",
       "      <th>2</th>\n",
       "      <td>A724273</td>\n",
       "      <td>Runster</td>\n",
       "      <td>04/14/2016 06:43:00 PM</td>\n",
       "      <td>April 2016</td>\n",
       "      <td>2818 Palomino Trail in Austin (TX)</td>\n",
       "      <td>Stray</td>\n",
       "      <td>Normal</td>\n",
       "      <td>Dog</td>\n",
       "      <td>Intact Male</td>\n",
       "      <td>11 months</td>\n",
       "      <td>...</td>\n",
       "      <td>NaN</td>\n",
       "      <td>Neutered Male</td>\n",
       "      <td>1 year</td>\n",
       "      <td>2016-04-14 18:43:00</td>\n",
       "      <td>2016-04-21 17:17:00</td>\n",
       "      <td>6 days 22:34:00</td>\n",
       "      <td>4</td>\n",
       "      <td>2016</td>\n",
       "      <td>599640.0</td>\n",
       "      <td>6.940278</td>\n",
       "    </tr>\n",
       "    <tr>\n",
       "      <th>4</th>\n",
       "      <td>A682524</td>\n",
       "      <td>Rio</td>\n",
       "      <td>06/29/2014 10:38:00 AM</td>\n",
       "      <td>June 2014</td>\n",
       "      <td>800 Grove Blvd in Austin (TX)</td>\n",
       "      <td>Stray</td>\n",
       "      <td>Normal</td>\n",
       "      <td>Dog</td>\n",
       "      <td>Neutered Male</td>\n",
       "      <td>4 years</td>\n",
       "      <td>...</td>\n",
       "      <td>NaN</td>\n",
       "      <td>Neutered Male</td>\n",
       "      <td>4 years</td>\n",
       "      <td>2014-06-29 10:38:00</td>\n",
       "      <td>2014-07-02 14:16:00</td>\n",
       "      <td>3 days 03:38:00</td>\n",
       "      <td>7</td>\n",
       "      <td>2014</td>\n",
       "      <td>272280.0</td>\n",
       "      <td>3.151389</td>\n",
       "    </tr>\n",
       "    <tr>\n",
       "      <th>5</th>\n",
       "      <td>A743852</td>\n",
       "      <td>Odin</td>\n",
       "      <td>02/18/2017 12:46:00 PM</td>\n",
       "      <td>February 2017</td>\n",
       "      <td>Austin (TX)</td>\n",
       "      <td>Owner Surrender</td>\n",
       "      <td>Normal</td>\n",
       "      <td>Dog</td>\n",
       "      <td>Neutered Male</td>\n",
       "      <td>2 years</td>\n",
       "      <td>...</td>\n",
       "      <td>NaN</td>\n",
       "      <td>Neutered Male</td>\n",
       "      <td>2 years</td>\n",
       "      <td>2017-02-18 12:46:00</td>\n",
       "      <td>2017-02-21 17:44:00</td>\n",
       "      <td>3 days 04:58:00</td>\n",
       "      <td>2</td>\n",
       "      <td>2017</td>\n",
       "      <td>277080.0</td>\n",
       "      <td>3.206944</td>\n",
       "    </tr>\n",
       "  </tbody>\n",
       "</table>\n",
       "<p>5 rows × 26 columns</p>\n",
       "</div>"
      ],
      "text/plain": [
       "  Animal ID     Name         DateTime_intake MonthYear_intake  \\\n",
       "0   A786884   *Brock  01/03/2019 04:19:00 PM     January 2019   \n",
       "1   A706918    Belle  07/05/2015 12:59:00 PM        July 2015   \n",
       "2   A724273  Runster  04/14/2016 06:43:00 PM       April 2016   \n",
       "4   A682524      Rio  06/29/2014 10:38:00 AM        June 2014   \n",
       "5   A743852     Odin  02/18/2017 12:46:00 PM    February 2017   \n",
       "\n",
       "                        Found Location      Intake Type Intake Condition  \\\n",
       "0  2501 Magin Meadow Dr in Austin (TX)            Stray           Normal   \n",
       "1     9409 Bluegrass Dr in Austin (TX)            Stray           Normal   \n",
       "2   2818 Palomino Trail in Austin (TX)            Stray           Normal   \n",
       "4        800 Grove Blvd in Austin (TX)            Stray           Normal   \n",
       "5                          Austin (TX)  Owner Surrender           Normal   \n",
       "\n",
       "  Animal Type Sex upon Intake Age upon Intake  ... Outcome Subtype  \\\n",
       "0         Dog   Neutered Male         2 years  ...         Partner   \n",
       "1         Dog   Spayed Female         8 years  ...             NaN   \n",
       "2         Dog     Intact Male       11 months  ...             NaN   \n",
       "4         Dog   Neutered Male         4 years  ...             NaN   \n",
       "5         Dog   Neutered Male         2 years  ...             NaN   \n",
       "\n",
       "  Sex upon Outcome Age upon Outcome           dt_intake          dt_outcome  \\\n",
       "0    Neutered Male          2 years 2019-01-03 16:19:00 2019-01-08 15:11:00   \n",
       "1    Spayed Female          8 years 2015-07-05 12:59:00 2015-07-05 15:13:00   \n",
       "2    Neutered Male           1 year 2016-04-14 18:43:00 2016-04-21 17:17:00   \n",
       "4    Neutered Male          4 years 2014-06-29 10:38:00 2014-07-02 14:16:00   \n",
       "5    Neutered Male          2 years 2017-02-18 12:46:00 2017-02-21 17:44:00   \n",
       "\n",
       "       delta_time month_outcome year_outcome delta_time_s delta_time_d  \n",
       "0 4 days 22:52:00             1         2019     427920.0     4.952778  \n",
       "1 0 days 02:14:00             7         2015       8040.0     0.093056  \n",
       "2 6 days 22:34:00             4         2016     599640.0     6.940278  \n",
       "4 3 days 03:38:00             7         2014     272280.0     3.151389  \n",
       "5 3 days 04:58:00             2         2017     277080.0     3.206944  \n",
       "\n",
       "[5 rows x 26 columns]"
      ]
     },
     "execution_count": 20,
     "metadata": {},
     "output_type": "execute_result"
    }
   ],
   "source": [
    "dogs_nodups.head()"
   ]
  },
  {
   "cell_type": "markdown",
   "id": "0805e346",
   "metadata": {},
   "source": [
    "#### 3.3.3 Clean 'Age upon Outcome' column\n",
    "\n",
    "The values for 'Age upon Outcome' column is a string with nonuniform and unexpected values, such as values in the negatives or zero."
   ]
  },
  {
   "cell_type": "code",
   "execution_count": 21,
   "id": "0c061378",
   "metadata": {},
   "outputs": [
    {
     "data": {
      "text/plain": [
       "0 years      51\n",
       "1 day        82\n",
       "1 month    2167\n",
       "1 week       90\n",
       "1 weeks     228\n",
       "Name: Age upon Outcome, dtype: int64"
      ]
     },
     "execution_count": 21,
     "metadata": {},
     "output_type": "execute_result"
    }
   ],
   "source": [
    "dogs_nodups['Age upon Outcome'].value_counts().sort_index().head()"
   ]
  },
  {
   "cell_type": "code",
   "execution_count": 22,
   "id": "9bc1086f",
   "metadata": {},
   "outputs": [],
   "source": [
    "#Cleaning the age upon outcome column to be a deltatime, and adding another column for age in days (ints)\n",
    "\n",
    "dogs_nodups = dogs_nodups.reset_index(drop=True)\n",
    "timedeltas = []\n",
    "days = []\n",
    "for x in dogs_nodups['Age upon Outcome']:\n",
    "    x = x.lower().replace(' ','')\n",
    "    if 'year' in x or 'years' in x:\n",
    "        x = x[:x.index('year')]\n",
    "        days.append(int(x)*365)\n",
    "        timedeltas.append(pd.to_timedelta(int(x)*365, unit='day'))\n",
    "    elif 'month' in x or 'months' in x:\n",
    "        x = x[:x.index('month')]\n",
    "        days.append(int(x)*30)\n",
    "        timedeltas.append(pd.to_timedelta(int(x)*30, unit='day'))\n",
    "    elif 'week' in x or 'weeks' in x:\n",
    "        x = x[:x.index('week')]\n",
    "        days.append(int(x)*7)\n",
    "        timedeltas.append(pd.to_timedelta(int(x)*7, unit='day'))\n",
    "    elif 'day' in x or 'days' in x:\n",
    "        x = x[:x.index('day')]\n",
    "        days.append(int(x)*365)\n",
    "        timedeltas.append(pd.to_timedelta(int(x), unit='day'))\n",
    "    else:\n",
    "        days.append(0)\n",
    "        timedeltas.append(pd.to_timedelta(0, unit='day'))\n",
    "        \n",
    "dogs_nodups['age_td'] = pd.Series(timedeltas)\n",
    "dogs_nodups['age_in_days'] = pd.Series(days)\n",
    "dogs_nodups['age_in_years'] = dogs_nodups['age_in_days']/365"
   ]
  },
  {
   "cell_type": "code",
   "execution_count": 23,
   "id": "2e47d365",
   "metadata": {},
   "outputs": [
    {
     "data": {
      "text/plain": [
       "0.000000        51\n",
       "0.019178       318\n",
       "0.038356       220\n",
       "0.057534       182\n",
       "0.076712       285\n",
       "0.082192      2167\n",
       "0.095890        32\n",
       "0.164384      5626\n",
       "0.246575      1541\n",
       "0.328767      1552\n",
       "0.410959      1417\n",
       "0.493151      1309\n",
       "0.575342       788\n",
       "0.657534      1112\n",
       "0.739726       717\n",
       "0.821918      1116\n",
       "0.904110       397\n",
       "1.000000     10014\n",
       "2.000000     10305\n",
       "3.000000      4001\n",
       "4.000000      2332\n",
       "5.000000      2310\n",
       "6.000000      1559\n",
       "7.000000      1324\n",
       "8.000000      1350\n",
       "9.000000       737\n",
       "10.000000     1164\n",
       "11.000000      447\n",
       "12.000000      544\n",
       "13.000000      360\n",
       "14.000000      266\n",
       "15.000000      206\n",
       "16.000000      100\n",
       "17.000000       46\n",
       "18.000000       23\n",
       "19.000000       14\n",
       "20.000000        3\n",
       "23.000000        1\n",
       "24.000000        1\n",
       "Name: age_in_years, dtype: int64"
      ]
     },
     "execution_count": 23,
     "metadata": {},
     "output_type": "execute_result"
    }
   ],
   "source": [
    "dogs_nodups['age_in_years'].value_counts().sort_index()"
   ]
  },
  {
   "cell_type": "code",
   "execution_count": 24,
   "id": "59a63019",
   "metadata": {},
   "outputs": [],
   "source": [
    "# Remove dogs with negative and zero ages\n",
    "dogs_nodups = dogs_nodups[dogs_nodups['age_in_years']>0]"
   ]
  },
  {
   "cell_type": "markdown",
   "id": "fa219b8e",
   "metadata": {},
   "source": [
    "#### 3.3.4 Generalizing the breed column into more general breed categories\n",
    "\n",
    "We can sort the breed mixes by general breed types, any noncategorized breed will be labeled as 'other'"
   ]
  },
  {
   "cell_type": "code",
   "execution_count": 25,
   "id": "3492147d",
   "metadata": {},
   "outputs": [
    {
     "data": {
      "text/plain": [
       "Pit Bull Mix                        5310\n",
       "Labrador Retriever Mix              5279\n",
       "Chihuahua Shorthair Mix             5190\n",
       "German Shepherd Mix                 2346\n",
       "Pit Bull                            1389\n",
       "                                    ... \n",
       "Australian Shepherd/Dachshund          1\n",
       "Beagle/Queensland Heeler               1\n",
       "Bruss Griffon/Chihuahua Longhair       1\n",
       "Australian Shepherd/Beagle             1\n",
       "German Shorthair Pointer/Beagle        1\n",
       "Name: Breed, Length: 2238, dtype: int64"
      ]
     },
     "execution_count": 25,
     "metadata": {},
     "output_type": "execute_result"
    }
   ],
   "source": [
    "dogs_nodups['Breed'].value_counts()"
   ]
  },
  {
   "cell_type": "code",
   "execution_count": 26,
   "id": "0112474e",
   "metadata": {},
   "outputs": [],
   "source": [
    "def breed_check(breed):\n",
    "    \"\"\" \n",
    "    Check the provided breed argument against a generalized and shortened list of the top 100 \n",
    "    Most Popular Dog Breeds by the American Kennel Club. The list is organized by most popular\n",
    "    to less popular breeds and the first match with the list will return that breed and all \n",
    "    uncategorized will have a value of 'Other' \n",
    "    https://www.akc.org/expert-advice/dog-breeds/most-popular-dog-breeds-of-2021/\n",
    "    \n",
    "    For example: If there was a dog that was listed as a Labrador Retriever/Golden Retriever mix,\n",
    "    it would be categorized into the first choice of Labrador Retriever.\n",
    "    \n",
    "    \"\"\"\n",
    "    breed_list = ['Labrador Retriever', 'French Bulldog', 'Golden Retriever', 'German Shepherd', \n",
    "                  'Poodle', 'Bulldog', 'Pit Bull', 'Beagle', 'Rottweiler', 'Pointer', 'Dachshund', \n",
    "                  'Corgi', 'Australian Shepherd', 'Terrier', 'Boxer', 'Spaniel', 'Doberman', \n",
    "                  'Great Dane', 'Schnauzer', 'Husky', 'Shih Tzu', 'Pomeranian',\n",
    "                  'Havanese', 'Sheepdog', 'Collie', 'Pug', 'Basset', 'Mastiff', \n",
    "                  'Chihuahua', 'Maltese', 'Weimaraners', 'Shiba Inu', 'Newfoundlands', 'Bichon',\n",
    "                  'Dalmatian', 'Australian Cattle Dog', 'Akita', 'Papillon', \n",
    "                  'Whippet', 'Pointer', 'Great Pyrenees', 'Sharpei',  'Chow Chow', 'Basenji',\n",
    "                  'Pekingese', 'Staffordshire', 'Miniature Pinscher', 'Greyhound', 'Shepherd',  \n",
    "                  'Heeler', 'Plott Hound', 'Catahoula', 'Kelpie', 'Lhasa Apso']\n",
    "    for b1 in breed_list:\n",
    "        if b1 in str(breed):\n",
    "            return b1\n",
    "        else:\n",
    "            pass\n",
    "    return 'Other'\n",
    "    \n",
    "cat_list = []\n",
    "for breed in dogs_nodups['Breed']:\n",
    "    cat_list.append(breed_check(breed))\n",
    "dogs_nodups['breed_category'] = cat_list"
   ]
  },
  {
   "cell_type": "code",
   "execution_count": 27,
   "id": "afe6bca0",
   "metadata": {},
   "outputs": [
    {
     "data": {
      "text/html": [
       "<div>\n",
       "<style scoped>\n",
       "    .dataframe tbody tr th:only-of-type {\n",
       "        vertical-align: middle;\n",
       "    }\n",
       "\n",
       "    .dataframe tbody tr th {\n",
       "        vertical-align: top;\n",
       "    }\n",
       "\n",
       "    .dataframe thead th {\n",
       "        text-align: right;\n",
       "    }\n",
       "</style>\n",
       "<table border=\"1\" class=\"dataframe\">\n",
       "  <thead>\n",
       "    <tr style=\"text-align: right;\">\n",
       "      <th></th>\n",
       "      <th>Breed</th>\n",
       "      <th>breed_category</th>\n",
       "    </tr>\n",
       "  </thead>\n",
       "  <tbody>\n",
       "    <tr>\n",
       "      <th>42</th>\n",
       "      <td>Treeing Walker Coonhound Mix</td>\n",
       "      <td>Other</td>\n",
       "    </tr>\n",
       "    <tr>\n",
       "      <th>51</th>\n",
       "      <td>Black Mouth Cur Mix</td>\n",
       "      <td>Other</td>\n",
       "    </tr>\n",
       "    <tr>\n",
       "      <th>70</th>\n",
       "      <td>Bloodhound</td>\n",
       "      <td>Other</td>\n",
       "    </tr>\n",
       "    <tr>\n",
       "      <th>136</th>\n",
       "      <td>Bruss Griffon Mix</td>\n",
       "      <td>Other</td>\n",
       "    </tr>\n",
       "    <tr>\n",
       "      <th>139</th>\n",
       "      <td>Blue Lacy Mix</td>\n",
       "      <td>Other</td>\n",
       "    </tr>\n",
       "    <tr>\n",
       "      <th>...</th>\n",
       "      <td>...</td>\n",
       "      <td>...</td>\n",
       "    </tr>\n",
       "    <tr>\n",
       "      <th>55713</th>\n",
       "      <td>Belgian Malinois</td>\n",
       "      <td>Other</td>\n",
       "    </tr>\n",
       "    <tr>\n",
       "      <th>55719</th>\n",
       "      <td>Briard</td>\n",
       "      <td>Other</td>\n",
       "    </tr>\n",
       "    <tr>\n",
       "      <th>55727</th>\n",
       "      <td>Treeing Tennesse Brindle Mix</td>\n",
       "      <td>Other</td>\n",
       "    </tr>\n",
       "    <tr>\n",
       "      <th>55747</th>\n",
       "      <td>Brittany Mix</td>\n",
       "      <td>Other</td>\n",
       "    </tr>\n",
       "    <tr>\n",
       "      <th>55766</th>\n",
       "      <td>Treeing Walker Coonhound</td>\n",
       "      <td>Other</td>\n",
       "    </tr>\n",
       "  </tbody>\n",
       "</table>\n",
       "<p>2290 rows × 2 columns</p>\n",
       "</div>"
      ],
      "text/plain": [
       "                              Breed breed_category\n",
       "42     Treeing Walker Coonhound Mix          Other\n",
       "51              Black Mouth Cur Mix          Other\n",
       "70                       Bloodhound          Other\n",
       "136               Bruss Griffon Mix          Other\n",
       "139                   Blue Lacy Mix          Other\n",
       "...                             ...            ...\n",
       "55713              Belgian Malinois          Other\n",
       "55719                        Briard          Other\n",
       "55727  Treeing Tennesse Brindle Mix          Other\n",
       "55747                  Brittany Mix          Other\n",
       "55766      Treeing Walker Coonhound          Other\n",
       "\n",
       "[2290 rows x 2 columns]"
      ]
     },
     "execution_count": 27,
     "metadata": {},
     "output_type": "execute_result"
    }
   ],
   "source": [
    "dogs_nodups[dogs_nodups['breed_category']=='Other'][['Breed', 'breed_category']]"
   ]
  },
  {
   "cell_type": "code",
   "execution_count": 28,
   "id": "b8417960",
   "metadata": {},
   "outputs": [
    {
     "data": {
      "text/plain": [
       "Black Mouth Cur Mix        265\n",
       "Blue Lacy Mix              131\n",
       "Flat Coat Retriever Mix     87\n",
       "Black/Tan Hound Mix         86\n",
       "Rhod Ridgeback Mix          78\n",
       "Belgian Malinois Mix        74\n",
       "Carolina Dog Mix            68\n",
       "Redbone Hound Mix           66\n",
       "Harrier Mix                 58\n",
       "Bruss Griffon Mix           48\n",
       "Name: Breed, dtype: int64"
      ]
     },
     "execution_count": 28,
     "metadata": {},
     "output_type": "execute_result"
    }
   ],
   "source": [
    "dogs_nodups[dogs_nodups['breed_category']=='Other']['Breed'].value_counts().head(10)"
   ]
  },
  {
   "cell_type": "code",
   "execution_count": 29,
   "id": "50996091",
   "metadata": {},
   "outputs": [
    {
     "data": {
      "text/plain": [
       "Labrador Retriever       9084\n",
       "Pit Bull                 7639\n",
       "Chihuahua                7064\n",
       "Terrier                  4720\n",
       "German Shepherd          3906\n",
       "Other                    2290\n",
       "Dachshund                2280\n",
       "Australian Cattle Dog    1638\n",
       "Poodle                   1552\n",
       "Collie                   1208\n",
       "Husky                    1129\n",
       "Boxer                     953\n",
       "Beagle                    926\n",
       "Australian Shepherd       832\n",
       "Great Pyrenees            792\n",
       "Schnauzer                 713\n",
       "Pointer                   689\n",
       "Bulldog                   628\n",
       "Shih Tzu                  626\n",
       "Catahoula                 597\n",
       "Rottweiler                529\n",
       "Shepherd                  471\n",
       "Staffordshire             463\n",
       "Corgi                     382\n",
       "Plott Hound               379\n",
       "Golden Retriever          361\n",
       "Pug                       341\n",
       "Spaniel                   310\n",
       "Kelpie                    305\n",
       "Maltese                   285\n",
       "Doberman                  250\n",
       "Miniature Pinscher        239\n",
       "Pomeranian                238\n",
       "Basset                    183\n",
       "Great Dane                182\n",
       "Heeler                    172\n",
       "Lhasa Apso                170\n",
       "Mastiff                   165\n",
       "Chow Chow                 163\n",
       "Sharpei                   136\n",
       "Pekingese                 128\n",
       "Sheepdog                   88\n",
       "Greyhound                  84\n",
       "Bichon                     80\n",
       "Whippet                    75\n",
       "Papillon                   70\n",
       "Shiba Inu                  69\n",
       "French Bulldog             67\n",
       "Basenji                    64\n",
       "Dalmatian                  64\n",
       "Akita                      62\n",
       "Havanese                   45\n",
       "Name: breed_category, dtype: int64"
      ]
     },
     "execution_count": 29,
     "metadata": {},
     "output_type": "execute_result"
    }
   ],
   "source": [
    "dogs_nodups['breed_category'].value_counts()"
   ]
  },
  {
   "cell_type": "code",
   "execution_count": 30,
   "id": "b06e4adf",
   "metadata": {},
   "outputs": [
    {
     "data": {
      "image/png": "[encoded data removed]",
      "text/plain": [
       "<Figure size 1296x720 with 1 Axes>"
      ]
     },
     "metadata": {
      "needs_background": "light"
     },
     "output_type": "display_data"
    }
   ],
   "source": [
    "dogs_nodups[dogs_nodups['Outcome Type']=='Adoption']['breed_category'].value_counts().plot.bar(figsize=(18,10))\n",
    "plt.xticks(rotation=270)\n",
    "plt.title('The Most Common Breed of Dog Adopted from Austin Animal Center from 2013-2022')\n",
    "plt.ylabel('Number of Dogs')\n",
    "plt.xlabel('Generalized Breed')\n",
    "plt.show()"
   ]
  },
  {
   "cell_type": "markdown",
   "id": "5131ca65",
   "metadata": {},
   "source": [
    "#### 3.3.5 Clean the 'Name' column\n",
    "\n",
    "Changing unknown values for name to 'Unknown'. We do not want to remove this column entirely as the name may have a relation to the speed that it is adopted.\n"
   ]
  },
  {
   "cell_type": "code",
   "execution_count": 31,
   "id": "1dd7c094",
   "metadata": {},
   "outputs": [
    {
     "data": {
      "text/plain": [
       "12081"
      ]
     },
     "execution_count": 31,
     "metadata": {},
     "output_type": "execute_result"
    }
   ],
   "source": [
    "dogs_nodups['Name'].isnull().sum()"
   ]
  },
  {
   "cell_type": "code",
   "execution_count": 32,
   "id": "f0656bbe",
   "metadata": {},
   "outputs": [
    {
     "data": {
      "text/plain": [
       "0         *Brock\n",
       "1          Belle\n",
       "2        Runster\n",
       "3            Rio\n",
       "4           Odin\n",
       "          ...   \n",
       "55932       Mele\n",
       "55933        Blu\n",
       "55934      Taffy\n",
       "55935      Layla\n",
       "55936       Jack\n",
       "Name: Name, Length: 55886, dtype: object"
      ]
     },
     "execution_count": 32,
     "metadata": {},
     "output_type": "execute_result"
    }
   ],
   "source": [
    "dogs_nodups['Name'].fillna('Unknown')"
   ]
  },
  {
   "cell_type": "markdown",
   "id": "787ff83b",
   "metadata": {},
   "source": [
    "#### 3.3.6 Remove unnecessary columns from the final DataFrame\n"
   ]
  },
  {
   "cell_type": "code",
   "execution_count": 33,
   "id": "7235ce11",
   "metadata": {},
   "outputs": [
    {
     "data": {
      "text/plain": [
       "Index(['Animal ID', 'Name', 'DateTime_intake', 'MonthYear_intake',\n",
       "       'Found Location', 'Intake Type', 'Intake Condition', 'Animal Type',\n",
       "       'Sex upon Intake', 'Age upon Intake', 'Breed', 'Color',\n",
       "       'DateTime_outcome', 'MonthYear_outcome', 'Date of Birth',\n",
       "       'Outcome Type', 'Outcome Subtype', 'Sex upon Outcome',\n",
       "       'Age upon Outcome', 'dt_intake', 'dt_outcome', 'delta_time',\n",
       "       'month_outcome', 'year_outcome', 'delta_time_s', 'delta_time_d',\n",
       "       'age_td', 'age_in_days', 'age_in_years', 'breed_category'],\n",
       "      dtype='object')"
      ]
     },
     "execution_count": 33,
     "metadata": {},
     "output_type": "execute_result"
    }
   ],
   "source": [
    "dogs_nodups.columns"
   ]
  },
  {
   "cell_type": "code",
   "execution_count": 34,
   "id": "3adc63b9",
   "metadata": {},
   "outputs": [],
   "source": [
    "col_list = ['Animal ID', 'Name', 'breed_category', 'Sex upon Intake', 'Sex upon Outcome', 'Intake Type', \n",
    "            'Intake Condition', 'dt_intake', 'Outcome Type', 'dt_outcome', 'delta_time', 'delta_time_d', \n",
    "            'age_in_years', 'month_outcome', 'year_outcome']\n",
    "col_map = {'Animal ID':'id', 'Name':'name', 'Sex upon Intake':'sex_intake', 'Intake Condition':'condition_intake',\n",
    "          'Outcome Type':'outcome', 'Sex upon Outcome':'sex_outcome', 'Intake Type':'intake_type'}\n",
    "final_dogs = dogs_nodups[col_list]\n",
    "final_dogs = final_dogs.rename(columns=col_map)\n",
    "final_dogs = final_dogs[final_dogs['sex_outcome']!='Unknown']"
   ]
  },
  {
   "cell_type": "code",
   "execution_count": 35,
   "id": "8d590168",
   "metadata": {},
   "outputs": [
    {
     "data": {
      "text/html": [
       "<div>\n",
       "<style scoped>\n",
       "    .dataframe tbody tr th:only-of-type {\n",
       "        vertical-align: middle;\n",
       "    }\n",
       "\n",
       "    .dataframe tbody tr th {\n",
       "        vertical-align: top;\n",
       "    }\n",
       "\n",
       "    .dataframe thead th {\n",
       "        text-align: right;\n",
       "    }\n",
       "</style>\n",
       "<table border=\"1\" class=\"dataframe\">\n",
       "  <thead>\n",
       "    <tr style=\"text-align: right;\">\n",
       "      <th></th>\n",
       "      <th>id</th>\n",
       "      <th>name</th>\n",
       "      <th>breed_category</th>\n",
       "      <th>sex_intake</th>\n",
       "      <th>sex_outcome</th>\n",
       "      <th>intake_type</th>\n",
       "      <th>condition_intake</th>\n",
       "      <th>dt_intake</th>\n",
       "      <th>outcome</th>\n",
       "      <th>dt_outcome</th>\n",
       "      <th>delta_time</th>\n",
       "      <th>delta_time_d</th>\n",
       "      <th>age_in_years</th>\n",
       "      <th>month_outcome</th>\n",
       "      <th>year_outcome</th>\n",
       "    </tr>\n",
       "  </thead>\n",
       "  <tbody>\n",
       "    <tr>\n",
       "      <th>0</th>\n",
       "      <td>A786884</td>\n",
       "      <td>*Brock</td>\n",
       "      <td>Beagle</td>\n",
       "      <td>Neutered Male</td>\n",
       "      <td>Neutered Male</td>\n",
       "      <td>Stray</td>\n",
       "      <td>Normal</td>\n",
       "      <td>2019-01-03 16:19:00</td>\n",
       "      <td>Transfer</td>\n",
       "      <td>2019-01-08 15:11:00</td>\n",
       "      <td>4 days 22:52:00</td>\n",
       "      <td>4.952778</td>\n",
       "      <td>2.0</td>\n",
       "      <td>1</td>\n",
       "      <td>2019</td>\n",
       "    </tr>\n",
       "    <tr>\n",
       "      <th>1</th>\n",
       "      <td>A706918</td>\n",
       "      <td>Belle</td>\n",
       "      <td>Spaniel</td>\n",
       "      <td>Spayed Female</td>\n",
       "      <td>Spayed Female</td>\n",
       "      <td>Stray</td>\n",
       "      <td>Normal</td>\n",
       "      <td>2015-07-05 12:59:00</td>\n",
       "      <td>Return to Owner</td>\n",
       "      <td>2015-07-05 15:13:00</td>\n",
       "      <td>0 days 02:14:00</td>\n",
       "      <td>0.093056</td>\n",
       "      <td>8.0</td>\n",
       "      <td>7</td>\n",
       "      <td>2015</td>\n",
       "    </tr>\n",
       "    <tr>\n",
       "      <th>2</th>\n",
       "      <td>A724273</td>\n",
       "      <td>Runster</td>\n",
       "      <td>Basenji</td>\n",
       "      <td>Intact Male</td>\n",
       "      <td>Neutered Male</td>\n",
       "      <td>Stray</td>\n",
       "      <td>Normal</td>\n",
       "      <td>2016-04-14 18:43:00</td>\n",
       "      <td>Return to Owner</td>\n",
       "      <td>2016-04-21 17:17:00</td>\n",
       "      <td>6 days 22:34:00</td>\n",
       "      <td>6.940278</td>\n",
       "      <td>1.0</td>\n",
       "      <td>4</td>\n",
       "      <td>2016</td>\n",
       "    </tr>\n",
       "    <tr>\n",
       "      <th>3</th>\n",
       "      <td>A682524</td>\n",
       "      <td>Rio</td>\n",
       "      <td>Doberman</td>\n",
       "      <td>Neutered Male</td>\n",
       "      <td>Neutered Male</td>\n",
       "      <td>Stray</td>\n",
       "      <td>Normal</td>\n",
       "      <td>2014-06-29 10:38:00</td>\n",
       "      <td>Return to Owner</td>\n",
       "      <td>2014-07-02 14:16:00</td>\n",
       "      <td>3 days 03:38:00</td>\n",
       "      <td>3.151389</td>\n",
       "      <td>4.0</td>\n",
       "      <td>7</td>\n",
       "      <td>2014</td>\n",
       "    </tr>\n",
       "    <tr>\n",
       "      <th>4</th>\n",
       "      <td>A743852</td>\n",
       "      <td>Odin</td>\n",
       "      <td>Labrador Retriever</td>\n",
       "      <td>Neutered Male</td>\n",
       "      <td>Neutered Male</td>\n",
       "      <td>Owner Surrender</td>\n",
       "      <td>Normal</td>\n",
       "      <td>2017-02-18 12:46:00</td>\n",
       "      <td>Return to Owner</td>\n",
       "      <td>2017-02-21 17:44:00</td>\n",
       "      <td>3 days 04:58:00</td>\n",
       "      <td>3.206944</td>\n",
       "      <td>2.0</td>\n",
       "      <td>2</td>\n",
       "      <td>2017</td>\n",
       "    </tr>\n",
       "  </tbody>\n",
       "</table>\n",
       "</div>"
      ],
      "text/plain": [
       "        id     name      breed_category     sex_intake    sex_outcome  \\\n",
       "0  A786884   *Brock              Beagle  Neutered Male  Neutered Male   \n",
       "1  A706918    Belle             Spaniel  Spayed Female  Spayed Female   \n",
       "2  A724273  Runster             Basenji    Intact Male  Neutered Male   \n",
       "3  A682524      Rio            Doberman  Neutered Male  Neutered Male   \n",
       "4  A743852     Odin  Labrador Retriever  Neutered Male  Neutered Male   \n",
       "\n",
       "       intake_type condition_intake           dt_intake          outcome  \\\n",
       "0            Stray           Normal 2019-01-03 16:19:00         Transfer   \n",
       "1            Stray           Normal 2015-07-05 12:59:00  Return to Owner   \n",
       "2            Stray           Normal 2016-04-14 18:43:00  Return to Owner   \n",
       "3            Stray           Normal 2014-06-29 10:38:00  Return to Owner   \n",
       "4  Owner Surrender           Normal 2017-02-18 12:46:00  Return to Owner   \n",
       "\n",
       "           dt_outcome      delta_time  delta_time_d  age_in_years  \\\n",
       "0 2019-01-08 15:11:00 4 days 22:52:00      4.952778           2.0   \n",
       "1 2015-07-05 15:13:00 0 days 02:14:00      0.093056           8.0   \n",
       "2 2016-04-21 17:17:00 6 days 22:34:00      6.940278           1.0   \n",
       "3 2014-07-02 14:16:00 3 days 03:38:00      3.151389           4.0   \n",
       "4 2017-02-21 17:44:00 3 days 04:58:00      3.206944           2.0   \n",
       "\n",
       "   month_outcome  year_outcome  \n",
       "0              1          2019  \n",
       "1              7          2015  \n",
       "2              4          2016  \n",
       "3              7          2014  \n",
       "4              2          2017  "
      ]
     },
     "execution_count": 35,
     "metadata": {},
     "output_type": "execute_result"
    }
   ],
   "source": [
    "final_dogs.head()"
   ]
  },
  {
   "cell_type": "markdown",
   "id": "3e061085",
   "metadata": {},
   "source": [
    "### 3.4 Basic Data Visualization"
   ]
  },
  {
   "cell_type": "code",
   "execution_count": 36,
   "id": "c13966f1",
   "metadata": {},
   "outputs": [
    {
     "data": {
      "image/png": "[encoded data removed]",
      "text/plain": [
       "<Figure size 864x576 with 4 Axes>"
      ]
     },
     "metadata": {
      "needs_background": "light"
     },
     "output_type": "display_data"
    }
   ],
   "source": [
    "fig, ax = plt.subplots(nrows=2, ncols=2, figsize=(12, 8))\n",
    "final_dogs['outcome'].value_counts().plot(kind='barh', ax=ax[0,0])\n",
    "ax[0,0].set_title('Outcome Type')\n",
    "ax[0,0].set_xlabel('Count')\n",
    "final_dogs['condition_intake'].value_counts().plot(kind='barh', ax=ax[0,1])\n",
    "ax[0,1].set_title('Intake Condition')\n",
    "ax[0,1].set_xlabel('Count')\n",
    "final_dogs['sex_intake'].value_counts().plot(kind='barh', ax=ax[1,0])\n",
    "ax[1,0].set_title('Sex upon Intake')\n",
    "ax[1,0].set_xlabel('Count')\n",
    "final_dogs['sex_outcome'].value_counts().plot(kind='barh', ax=ax[1,1])\n",
    "ax[1,1].set_title('Sex upon Outcome')\n",
    "ax[1,1].set_xlabel('Count')\n",
    "plt.subplots_adjust(wspace=0.4,hspace=0.5);"
   ]
  },
  {
   "cell_type": "code",
   "execution_count": 37,
   "id": "d7fb48e4",
   "metadata": {},
   "outputs": [
    {
     "data": {
      "text/html": [
       "<div>\n",
       "<style scoped>\n",
       "    .dataframe tbody tr th:only-of-type {\n",
       "        vertical-align: middle;\n",
       "    }\n",
       "\n",
       "    .dataframe tbody tr th {\n",
       "        vertical-align: top;\n",
       "    }\n",
       "\n",
       "    .dataframe thead th {\n",
       "        text-align: right;\n",
       "    }\n",
       "</style>\n",
       "<table border=\"1\" class=\"dataframe\">\n",
       "  <thead>\n",
       "    <tr style=\"text-align: right;\">\n",
       "      <th></th>\n",
       "      <th></th>\n",
       "      <th>id</th>\n",
       "    </tr>\n",
       "    <tr>\n",
       "      <th>outcome</th>\n",
       "      <th>sex_outcome</th>\n",
       "      <th></th>\n",
       "    </tr>\n",
       "  </thead>\n",
       "  <tbody>\n",
       "    <tr>\n",
       "      <th rowspan=\"4\" valign=\"top\">Adoption</th>\n",
       "      <th>Intact Female</th>\n",
       "      <td>384</td>\n",
       "    </tr>\n",
       "    <tr>\n",
       "      <th>Intact Male</th>\n",
       "      <td>355</td>\n",
       "    </tr>\n",
       "    <tr>\n",
       "      <th>Neutered Male</th>\n",
       "      <td>12701</td>\n",
       "    </tr>\n",
       "    <tr>\n",
       "      <th>Spayed Female</th>\n",
       "      <td>12523</td>\n",
       "    </tr>\n",
       "    <tr>\n",
       "      <th rowspan=\"4\" valign=\"top\">Died</th>\n",
       "      <th>Intact Female</th>\n",
       "      <td>87</td>\n",
       "    </tr>\n",
       "    <tr>\n",
       "      <th>Intact Male</th>\n",
       "      <td>90</td>\n",
       "    </tr>\n",
       "    <tr>\n",
       "      <th>Neutered Male</th>\n",
       "      <td>36</td>\n",
       "    </tr>\n",
       "    <tr>\n",
       "      <th>Spayed Female</th>\n",
       "      <td>25</td>\n",
       "    </tr>\n",
       "    <tr>\n",
       "      <th rowspan=\"4\" valign=\"top\">Disposal</th>\n",
       "      <th>Intact Female</th>\n",
       "      <td>10</td>\n",
       "    </tr>\n",
       "    <tr>\n",
       "      <th>Intact Male</th>\n",
       "      <td>21</td>\n",
       "    </tr>\n",
       "    <tr>\n",
       "      <th>Neutered Male</th>\n",
       "      <td>1</td>\n",
       "    </tr>\n",
       "    <tr>\n",
       "      <th>Spayed Female</th>\n",
       "      <td>1</td>\n",
       "    </tr>\n",
       "    <tr>\n",
       "      <th rowspan=\"4\" valign=\"top\">Euthanasia</th>\n",
       "      <th>Intact Female</th>\n",
       "      <td>437</td>\n",
       "    </tr>\n",
       "    <tr>\n",
       "      <th>Intact Male</th>\n",
       "      <td>505</td>\n",
       "    </tr>\n",
       "    <tr>\n",
       "      <th>Neutered Male</th>\n",
       "      <td>370</td>\n",
       "    </tr>\n",
       "    <tr>\n",
       "      <th>Spayed Female</th>\n",
       "      <td>226</td>\n",
       "    </tr>\n",
       "    <tr>\n",
       "      <th rowspan=\"4\" valign=\"top\">Missing</th>\n",
       "      <th>Intact Female</th>\n",
       "      <td>5</td>\n",
       "    </tr>\n",
       "    <tr>\n",
       "      <th>Intact Male</th>\n",
       "      <td>8</td>\n",
       "    </tr>\n",
       "    <tr>\n",
       "      <th>Neutered Male</th>\n",
       "      <td>2</td>\n",
       "    </tr>\n",
       "    <tr>\n",
       "      <th>Spayed Female</th>\n",
       "      <td>3</td>\n",
       "    </tr>\n",
       "    <tr>\n",
       "      <th rowspan=\"4\" valign=\"top\">Return to Owner</th>\n",
       "      <th>Intact Female</th>\n",
       "      <td>1899</td>\n",
       "    </tr>\n",
       "    <tr>\n",
       "      <th>Intact Male</th>\n",
       "      <td>2768</td>\n",
       "    </tr>\n",
       "    <tr>\n",
       "      <th>Neutered Male</th>\n",
       "      <td>4677</td>\n",
       "    </tr>\n",
       "    <tr>\n",
       "      <th>Spayed Female</th>\n",
       "      <td>3592</td>\n",
       "    </tr>\n",
       "    <tr>\n",
       "      <th rowspan=\"4\" valign=\"top\">Rto-Adopt</th>\n",
       "      <th>Intact Female</th>\n",
       "      <td>15</td>\n",
       "    </tr>\n",
       "    <tr>\n",
       "      <th>Intact Male</th>\n",
       "      <td>22</td>\n",
       "    </tr>\n",
       "    <tr>\n",
       "      <th>Neutered Male</th>\n",
       "      <td>188</td>\n",
       "    </tr>\n",
       "    <tr>\n",
       "      <th>Spayed Female</th>\n",
       "      <td>131</td>\n",
       "    </tr>\n",
       "    <tr>\n",
       "      <th rowspan=\"4\" valign=\"top\">Transfer</th>\n",
       "      <th>Intact Female</th>\n",
       "      <td>4184</td>\n",
       "    </tr>\n",
       "    <tr>\n",
       "      <th>Intact Male</th>\n",
       "      <td>3784</td>\n",
       "    </tr>\n",
       "    <tr>\n",
       "      <th>Neutered Male</th>\n",
       "      <td>3542</td>\n",
       "    </tr>\n",
       "    <tr>\n",
       "      <th>Spayed Female</th>\n",
       "      <td>2853</td>\n",
       "    </tr>\n",
       "  </tbody>\n",
       "</table>\n",
       "</div>"
      ],
      "text/plain": [
       "                                  id\n",
       "outcome         sex_outcome         \n",
       "Adoption        Intact Female    384\n",
       "                Intact Male      355\n",
       "                Neutered Male  12701\n",
       "                Spayed Female  12523\n",
       "Died            Intact Female     87\n",
       "                Intact Male       90\n",
       "                Neutered Male     36\n",
       "                Spayed Female     25\n",
       "Disposal        Intact Female     10\n",
       "                Intact Male       21\n",
       "                Neutered Male      1\n",
       "                Spayed Female      1\n",
       "Euthanasia      Intact Female    437\n",
       "                Intact Male      505\n",
       "                Neutered Male    370\n",
       "                Spayed Female    226\n",
       "Missing         Intact Female      5\n",
       "                Intact Male        8\n",
       "                Neutered Male      2\n",
       "                Spayed Female      3\n",
       "Return to Owner Intact Female   1899\n",
       "                Intact Male     2768\n",
       "                Neutered Male   4677\n",
       "                Spayed Female   3592\n",
       "Rto-Adopt       Intact Female     15\n",
       "                Intact Male       22\n",
       "                Neutered Male    188\n",
       "                Spayed Female    131\n",
       "Transfer        Intact Female   4184\n",
       "                Intact Male     3784\n",
       "                Neutered Male   3542\n",
       "                Spayed Female   2853"
      ]
     },
     "execution_count": 37,
     "metadata": {},
     "output_type": "execute_result"
    }
   ],
   "source": [
    "adoption_by_sex = pd.DataFrame(final_dogs.groupby(['outcome', 'sex_outcome'])[['id']].count())\n",
    "adoption_by_sex\n"
   ]
  },
  {
   "cell_type": "code",
   "execution_count": 38,
   "id": "a4b18899",
   "metadata": {},
   "outputs": [
    {
     "data": {
      "image/png": "[encoded data removed]",
      "text/plain": [
       "<Figure size 936x720 with 6 Axes>"
      ]
     },
     "metadata": {
      "needs_background": "light"
     },
     "output_type": "display_data"
    }
   ],
   "source": [
    "category_list = ['Adoption', 'Return to Owner', 'Transfer', 'Euthanasia', \n",
    "                  'Died', 'Disposal', 'Rto-Adopt', 'Missing']\n",
    "adoption_by_sex.unstack().loc[category_list].plot(y='id', kind='bar', figsize=(13, 10), title='Outcome by Sex', \n",
    "                               legend = True, subplots=True, layout = (3,2))\n",
    "plt.xticks(rotation=90)\n",
    "plt.show()"
   ]
  },
  {
   "cell_type": "code",
   "execution_count": 39,
   "id": "66f6a232",
   "metadata": {},
   "outputs": [],
   "source": [
    "time = final_dogs['delta_time']\n",
    "dogs_time_df = pd.DataFrame({'time_day':[x.total_seconds()/86400 for x in time]})\n",
    "dogs_time_df = dogs_time_df.reset_index(drop=True)\n",
    "final_dogs = final_dogs.reset_index(drop=True)\n",
    "dogs_time_df = pd.concat([dogs_time_df, final_dogs[['id', 'age_in_years', 'delta_time', \n",
    "                                                    'sex_outcome', 'condition_intake']]], axis=1)"
   ]
  },
  {
   "cell_type": "code",
   "execution_count": 40,
   "id": "4c7a139d",
   "metadata": {},
   "outputs": [
    {
     "data": {
      "image/png": "[encoded data removed]",
      "text/plain": [
       "<Figure size 814.375x720 with 4 Axes>"
      ]
     },
     "metadata": {
      "needs_background": "light"
     },
     "output_type": "display_data"
    }
   ],
   "source": [
    "sns.relplot(x='age_in_years',\n",
    "           y='time_day', \n",
    "           data=dogs_time_df,\n",
    "           kind='scatter',\n",
    "           col='sex_outcome',\n",
    "           col_wrap=2,\n",
    "           alpha=0.4,\n",
    "           hue='condition_intake',\n",
    "           col_order=['Neutered Male', 'Spayed Female', 'Intact Male', 'Intact Female'])\n",
    "plt.title('Condition of differently aged dogs and how long they were at the Austin Animal Center')\n",
    "plt.show()\n"
   ]
  },
  {
   "cell_type": "code",
   "execution_count": 41,
   "id": "393db240",
   "metadata": {},
   "outputs": [
    {
     "data": {
      "text/html": [
       "<div>\n",
       "<style scoped>\n",
       "    .dataframe tbody tr th:only-of-type {\n",
       "        vertical-align: middle;\n",
       "    }\n",
       "\n",
       "    .dataframe tbody tr th {\n",
       "        vertical-align: top;\n",
       "    }\n",
       "\n",
       "    .dataframe thead th {\n",
       "        text-align: right;\n",
       "    }\n",
       "</style>\n",
       "<table border=\"1\" class=\"dataframe\">\n",
       "  <thead>\n",
       "    <tr style=\"text-align: right;\">\n",
       "      <th></th>\n",
       "      <th>id</th>\n",
       "      <th>delta_time</th>\n",
       "      <th>dt_intake</th>\n",
       "      <th>dt_outcome</th>\n",
       "    </tr>\n",
       "  </thead>\n",
       "  <tbody>\n",
       "    <tr>\n",
       "      <th>22279</th>\n",
       "      <td>A642712</td>\n",
       "      <td>1912 days 22:31:00</td>\n",
       "      <td>2016-01-05 11:37:00</td>\n",
       "      <td>2021-04-01 10:08:00</td>\n",
       "    </tr>\n",
       "    <tr>\n",
       "      <th>8526</th>\n",
       "      <td>A722987</td>\n",
       "      <td>1521 days 23:31:00</td>\n",
       "      <td>2016-03-24 16:59:00</td>\n",
       "      <td>2020-05-24 16:30:00</td>\n",
       "    </tr>\n",
       "    <tr>\n",
       "      <th>17988</th>\n",
       "      <td>A737705</td>\n",
       "      <td>1351 days 20:20:00</td>\n",
       "      <td>2016-11-02 20:15:00</td>\n",
       "      <td>2020-07-16 16:35:00</td>\n",
       "    </tr>\n",
       "    <tr>\n",
       "      <th>17888</th>\n",
       "      <td>A778611</td>\n",
       "      <td>1195 days 00:06:00</td>\n",
       "      <td>2018-08-17 14:37:00</td>\n",
       "      <td>2021-11-24 14:43:00</td>\n",
       "    </tr>\n",
       "    <tr>\n",
       "      <th>24549</th>\n",
       "      <td>A769485</td>\n",
       "      <td>1167 days 19:55:00</td>\n",
       "      <td>2018-04-05 14:39:00</td>\n",
       "      <td>2021-06-16 10:34:00</td>\n",
       "    </tr>\n",
       "  </tbody>\n",
       "</table>\n",
       "</div>"
      ],
      "text/plain": [
       "            id         delta_time           dt_intake          dt_outcome\n",
       "22279  A642712 1912 days 22:31:00 2016-01-05 11:37:00 2021-04-01 10:08:00\n",
       "8526   A722987 1521 days 23:31:00 2016-03-24 16:59:00 2020-05-24 16:30:00\n",
       "17988  A737705 1351 days 20:20:00 2016-11-02 20:15:00 2020-07-16 16:35:00\n",
       "17888  A778611 1195 days 00:06:00 2018-08-17 14:37:00 2021-11-24 14:43:00\n",
       "24549  A769485 1167 days 19:55:00 2018-04-05 14:39:00 2021-06-16 10:34:00"
      ]
     },
     "execution_count": 41,
     "metadata": {},
     "output_type": "execute_result"
    }
   ],
   "source": [
    "final_dogs[dogs_time_df['time_day']>0][['id', 'delta_time', 'dt_intake', 'dt_outcome']] \\\n",
    "    .sort_values('delta_time', ascending=False).head()"
   ]
  },
  {
   "cell_type": "markdown",
   "id": "916ec3e3",
   "metadata": {},
   "source": [
    "From the data above, we can see that some dogs have stayed in the shelter for extremely long periods of time. The longest being dog animal id A642712, an injured female Pitbull named Patches, was at the Austin Animal Center for 5 years before being adopted out.\n",
    "\n",
    "\n",
    "Next we plot the different outcome types by month to see if, for example, higher rates of adoptions happen in specific months."
   ]
  },
  {
   "cell_type": "code",
   "execution_count": 42,
   "id": "07496d47",
   "metadata": {},
   "outputs": [
    {
     "data": {
      "image/png": "[encoded data removed]",
      "text/plain": [
       "<Figure size 1197.75x1080 with 1 Axes>"
      ]
     },
     "metadata": {
      "needs_background": "light"
     },
     "output_type": "display_data"
    }
   ],
   "source": [
    "sns.catplot(x = 'month_outcome', hue='outcome', data=final_dogs, kind='count', height=15, aspect=1)\n",
    "plt.title('Change in outcome amounts per month for all months')\n",
    "plt.ylabel('# of Dogs')\n",
    "plt.xlabel('Month')\n",
    "plt.show()"
   ]
  },
  {
   "cell_type": "code",
   "execution_count": 43,
   "id": "caeb459a",
   "metadata": {},
   "outputs": [],
   "source": [
    "def plotmonth(month):\n",
    "    order_list = ['Adoption', 'Return to Owner', 'Transfer', 'Euthanasia', \n",
    "                  'Died', 'Missing', 'Disposal', 'Rito-Adopt']\n",
    "    month_dict = {1:'January', 2:'February', 3:'March', 4:'April', \n",
    "                  5:'May', 6:'June', 7:'July', 8:'August', \n",
    "                  9:'September', 10:'October', 11:'November', 12:'December'}\n",
    "    data = final_dogs[final_dogs['month_outcome'] == month]\n",
    "    sns.catplot(x='outcome', data=data, kind='count', order=order_list)\n",
    "    plt.xticks(rotation=90)\n",
    "    plt.ylim(0, 2800)\n",
    "    plt.title(f'Change in outcome rates per month (Current Month : {month_dict.get(month)})')\n",
    "    plt.show()\n"
   ]
  },
  {
   "cell_type": "code",
   "execution_count": 44,
   "id": "7e09a8d9",
   "metadata": {},
   "outputs": [
    {
     "data": {
      "application/vnd.jupyter.widget-view+json": {
       "model_id": "037ce465a42e444ab9f83f86e71becec",
       "version_major": 2,
       "version_minor": 0
      },
      "text/plain": [
       "interactive(children=(IntSlider(value=1, description='month', max=12, min=1), Output()), _dom_classes=('widget…"
      ]
     },
     "metadata": {},
     "output_type": "display_data"
    },
    {
     "data": {
      "text/plain": [
       "<function __main__.plotmonth(month)>"
      ]
     },
     "execution_count": 44,
     "metadata": {},
     "output_type": "execute_result"
    }
   ],
   "source": [
    "interact(plotmonth,month=widgets.IntSlider(min=1, max=12, step=1, value=1))"
   ]
  },
  {
   "cell_type": "markdown",
   "id": "118b5cd7",
   "metadata": {},
   "source": [
    "Using the slider above to view the changes in outcome rates per month, we can see that both January and December have the highest adoption rates, while the other columns show no significant change.\n",
    "\n",
    "Finally, we plot the Adoption counts per year for the Austin Animal Center and we can see a spike of adoptions in 2019, but a large decrease the following year in 2020. The year 2013 was omitted from the plot due to incomplete data since the data began collection in October 2013."
   ]
  },
  {
   "cell_type": "code",
   "execution_count": 45,
   "id": "91cbc49c",
   "metadata": {},
   "outputs": [
    {
     "data": {
      "image/png": "[encoded data removed]",
      "text/plain": [
       "<Figure size 576x576 with 1 Axes>"
      ]
     },
     "metadata": {
      "needs_background": "light"
     },
     "output_type": "display_data"
    }
   ],
   "source": [
    "year_dog = final_dogs[final_dogs['outcome']=='Adoption']\n",
    "year_dog = year_dog[year_dog['year_outcome']>2013]\n",
    "sns.catplot(x='year_outcome', data=year_dog, kind='count', height=8, color='blue')\n",
    "plt.title('Large decrease in dog adoptions from 2019 to 2020')\n",
    "plt.xlabel('Year')\n",
    "plt.ylabel('Number of dogs adopted')\n",
    "plt.show()"
   ]
  },
  {
   "cell_type": "markdown",
   "id": "4493ca32",
   "metadata": {},
   "source": [
    "## 4. Saving the Data\n",
    "\n",
    "Use the pandas.DataFrame.to_csv() function to save our cleaned DataFrame as a csv file to import into the next step."
   ]
  },
  {
   "cell_type": "code",
   "execution_count": 46,
   "id": "1f3a03c5",
   "metadata": {},
   "outputs": [
    {
     "name": "stdout",
     "output_type": "stream",
     "text": [
      "<class 'pandas.core.frame.DataFrame'>\n",
      "RangeIndex: 55445 entries, 0 to 55444\n",
      "Data columns (total 15 columns):\n",
      " #   Column            Non-Null Count  Dtype          \n",
      "---  ------            --------------  -----          \n",
      " 0   id                55445 non-null  object         \n",
      " 1   name              43726 non-null  object         \n",
      " 2   breed_category    55445 non-null  object         \n",
      " 3   sex_intake        55445 non-null  object         \n",
      " 4   sex_outcome       55445 non-null  object         \n",
      " 5   intake_type       55445 non-null  object         \n",
      " 6   condition_intake  55445 non-null  object         \n",
      " 7   dt_intake         55445 non-null  datetime64[ns] \n",
      " 8   outcome           55445 non-null  object         \n",
      " 9   dt_outcome        55445 non-null  datetime64[ns] \n",
      " 10  delta_time        55445 non-null  timedelta64[ns]\n",
      " 11  delta_time_d      55445 non-null  float64        \n",
      " 12  age_in_years      55445 non-null  float64        \n",
      " 13  month_outcome     55445 non-null  int64          \n",
      " 14  year_outcome      55445 non-null  int64          \n",
      "dtypes: datetime64[ns](2), float64(2), int64(2), object(8), timedelta64[ns](1)\n",
      "memory usage: 6.3+ MB\n"
     ]
    }
   ],
   "source": [
    "final_dogs = final_dogs.reset_index(drop=True)\n",
    "final_dogs.info()"
   ]
  },
  {
   "cell_type": "code",
   "execution_count": 47,
   "id": "718363d9",
   "metadata": {},
   "outputs": [],
   "source": [
    "final_dogs.to_csv('../clean_data/austin_dogs_clean.csv')"
   ]
  },
  {
   "cell_type": "code",
   "execution_count": null,
   "id": "d9b92a83",
   "metadata": {},
   "outputs": [],
   "source": []
  }
 ],
 "metadata": {
  "kernelspec": {
   "display_name": "Python 3 (ipykernel)",
   "language": "python",
   "name": "python3"
  },
  "language_info": {
   "codemirror_mode": {
    "name": "ipython",
    "version": 3
   },
   "file_extension": ".py",
   "mimetype": "text/x-python",
   "name": "python",
   "nbconvert_exporter": "python",
   "pygments_lexer": "ipython3",
   "version": "3.9.7"
  }
 },
 "nbformat": 4,
 "nbformat_minor": 5
}
